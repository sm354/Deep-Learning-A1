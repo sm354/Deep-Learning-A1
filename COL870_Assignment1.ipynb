{
  "nbformat": 4,
  "nbformat_minor": 0,
  "metadata": {
    "colab": {
      "name": "COL870_Assignment1.ipynb",
      "provenance": [],
      "collapsed_sections": [],
      "toc_visible": true,
      "authorship_tag": "ABX9TyPYZM3k5cwqCs26njuaCZWG",
      "include_colab_link": true
    },
    "kernelspec": {
      "name": "python3",
      "display_name": "Python 3"
    },
    "language_info": {
      "name": "python"
    },
    "widgets": {
      "application/vnd.jupyter.widget-state+json": {
        "aab23e834b4544988eec5da30797a4bd": {
          "model_module": "@jupyter-widgets/controls",
          "model_name": "HBoxModel",
          "state": {
            "_view_name": "HBoxView",
            "_dom_classes": [],
            "_model_name": "HBoxModel",
            "_view_module": "@jupyter-widgets/controls",
            "_model_module_version": "1.5.0",
            "_view_count": null,
            "_view_module_version": "1.5.0",
            "box_style": "",
            "layout": "IPY_MODEL_9bd0d96583ce4dd2bd20a3907a039dc1",
            "_model_module": "@jupyter-widgets/controls",
            "children": [
              "IPY_MODEL_4a9811e897a44d07bf7e5be09aac4345",
              "IPY_MODEL_662dae54dcae4339bd68b02310cc96c7"
            ]
          }
        },
        "9bd0d96583ce4dd2bd20a3907a039dc1": {
          "model_module": "@jupyter-widgets/base",
          "model_name": "LayoutModel",
          "state": {
            "_view_name": "LayoutView",
            "grid_template_rows": null,
            "right": null,
            "justify_content": null,
            "_view_module": "@jupyter-widgets/base",
            "overflow": null,
            "_model_module_version": "1.2.0",
            "_view_count": null,
            "flex_flow": null,
            "width": null,
            "min_width": null,
            "border": null,
            "align_items": null,
            "bottom": null,
            "_model_module": "@jupyter-widgets/base",
            "top": null,
            "grid_column": null,
            "overflow_y": null,
            "overflow_x": null,
            "grid_auto_flow": null,
            "grid_area": null,
            "grid_template_columns": null,
            "flex": null,
            "_model_name": "LayoutModel",
            "justify_items": null,
            "grid_row": null,
            "max_height": null,
            "align_content": null,
            "visibility": null,
            "align_self": null,
            "height": null,
            "min_height": null,
            "padding": null,
            "grid_auto_rows": null,
            "grid_gap": null,
            "max_width": null,
            "order": null,
            "_view_module_version": "1.2.0",
            "grid_template_areas": null,
            "object_position": null,
            "object_fit": null,
            "grid_auto_columns": null,
            "margin": null,
            "display": null,
            "left": null
          }
        },
        "4a9811e897a44d07bf7e5be09aac4345": {
          "model_module": "@jupyter-widgets/controls",
          "model_name": "FloatProgressModel",
          "state": {
            "_view_name": "ProgressView",
            "style": "IPY_MODEL_6a7ba973207949c2856b303d744171a0",
            "_dom_classes": [],
            "description": "",
            "_model_name": "FloatProgressModel",
            "bar_style": "success",
            "max": 170498071,
            "_view_module": "@jupyter-widgets/controls",
            "_model_module_version": "1.5.0",
            "value": 170498071,
            "_view_count": null,
            "_view_module_version": "1.5.0",
            "orientation": "horizontal",
            "min": 0,
            "description_tooltip": null,
            "_model_module": "@jupyter-widgets/controls",
            "layout": "IPY_MODEL_bf52becc46a04c93a62fa09a3d256048"
          }
        },
        "662dae54dcae4339bd68b02310cc96c7": {
          "model_module": "@jupyter-widgets/controls",
          "model_name": "HTMLModel",
          "state": {
            "_view_name": "HTMLView",
            "style": "IPY_MODEL_f8954cce453c40ae855b664c793f9435",
            "_dom_classes": [],
            "description": "",
            "_model_name": "HTMLModel",
            "placeholder": "​",
            "_view_module": "@jupyter-widgets/controls",
            "_model_module_version": "1.5.0",
            "value": " 170499072/? [04:15&lt;00:00, 666629.28it/s]",
            "_view_count": null,
            "_view_module_version": "1.5.0",
            "description_tooltip": null,
            "_model_module": "@jupyter-widgets/controls",
            "layout": "IPY_MODEL_ccb9b58a79e14824b6c668436554b728"
          }
        },
        "6a7ba973207949c2856b303d744171a0": {
          "model_module": "@jupyter-widgets/controls",
          "model_name": "ProgressStyleModel",
          "state": {
            "_view_name": "StyleView",
            "_model_name": "ProgressStyleModel",
            "description_width": "initial",
            "_view_module": "@jupyter-widgets/base",
            "_model_module_version": "1.5.0",
            "_view_count": null,
            "_view_module_version": "1.2.0",
            "bar_color": null,
            "_model_module": "@jupyter-widgets/controls"
          }
        },
        "bf52becc46a04c93a62fa09a3d256048": {
          "model_module": "@jupyter-widgets/base",
          "model_name": "LayoutModel",
          "state": {
            "_view_name": "LayoutView",
            "grid_template_rows": null,
            "right": null,
            "justify_content": null,
            "_view_module": "@jupyter-widgets/base",
            "overflow": null,
            "_model_module_version": "1.2.0",
            "_view_count": null,
            "flex_flow": null,
            "width": null,
            "min_width": null,
            "border": null,
            "align_items": null,
            "bottom": null,
            "_model_module": "@jupyter-widgets/base",
            "top": null,
            "grid_column": null,
            "overflow_y": null,
            "overflow_x": null,
            "grid_auto_flow": null,
            "grid_area": null,
            "grid_template_columns": null,
            "flex": null,
            "_model_name": "LayoutModel",
            "justify_items": null,
            "grid_row": null,
            "max_height": null,
            "align_content": null,
            "visibility": null,
            "align_self": null,
            "height": null,
            "min_height": null,
            "padding": null,
            "grid_auto_rows": null,
            "grid_gap": null,
            "max_width": null,
            "order": null,
            "_view_module_version": "1.2.0",
            "grid_template_areas": null,
            "object_position": null,
            "object_fit": null,
            "grid_auto_columns": null,
            "margin": null,
            "display": null,
            "left": null
          }
        },
        "f8954cce453c40ae855b664c793f9435": {
          "model_module": "@jupyter-widgets/controls",
          "model_name": "DescriptionStyleModel",
          "state": {
            "_view_name": "StyleView",
            "_model_name": "DescriptionStyleModel",
            "description_width": "",
            "_view_module": "@jupyter-widgets/base",
            "_model_module_version": "1.5.0",
            "_view_count": null,
            "_view_module_version": "1.2.0",
            "_model_module": "@jupyter-widgets/controls"
          }
        },
        "ccb9b58a79e14824b6c668436554b728": {
          "model_module": "@jupyter-widgets/base",
          "model_name": "LayoutModel",
          "state": {
            "_view_name": "LayoutView",
            "grid_template_rows": null,
            "right": null,
            "justify_content": null,
            "_view_module": "@jupyter-widgets/base",
            "overflow": null,
            "_model_module_version": "1.2.0",
            "_view_count": null,
            "flex_flow": null,
            "width": null,
            "min_width": null,
            "border": null,
            "align_items": null,
            "bottom": null,
            "_model_module": "@jupyter-widgets/base",
            "top": null,
            "grid_column": null,
            "overflow_y": null,
            "overflow_x": null,
            "grid_auto_flow": null,
            "grid_area": null,
            "grid_template_columns": null,
            "flex": null,
            "_model_name": "LayoutModel",
            "justify_items": null,
            "grid_row": null,
            "max_height": null,
            "align_content": null,
            "visibility": null,
            "align_self": null,
            "height": null,
            "min_height": null,
            "padding": null,
            "grid_auto_rows": null,
            "grid_gap": null,
            "max_width": null,
            "order": null,
            "_view_module_version": "1.2.0",
            "grid_template_areas": null,
            "object_position": null,
            "object_fit": null,
            "grid_auto_columns": null,
            "margin": null,
            "display": null,
            "left": null
          }
        }
      }
    }
  },
  "cells": [
    {
      "cell_type": "markdown",
      "metadata": {
        "id": "view-in-github",
        "colab_type": "text"
      },
      "source": [
        "<a href=\"https://colab.research.google.com/github/sm354/Deep-Learning-Assignment-1/blob/main/COL870_Assignment1.ipynb\" target=\"_parent\"><img src=\"https://colab.research.google.com/assets/colab-badge.svg\" alt=\"Open In Colab\"/></a>"
      ]
    },
    {
      "cell_type": "markdown",
      "metadata": {
        "id": "PwRQORZrbAcM"
      },
      "source": [
        "# 1.1 ResNet Model \n",
        "Kaiming He, Xiangyu Zhang, Shaoqing Ren, Jian Sun Deep Residual Learning for Image Recognition. arXiv:1512.03385"
      ]
    },
    {
      "cell_type": "code",
      "metadata": {
        "id": "BvpyKyxFch7q"
      },
      "source": [
        "import torch\n",
        "import torch.nn as nn\n",
        "import torch.nn.functional as F\n",
        "from torchsummary import summary"
      ],
      "execution_count": null,
      "outputs": []
    },
    {
      "cell_type": "code",
      "metadata": {
        "id": "2sjJ1fBka8pO"
      },
      "source": [
        "class Block(nn.Module):\n",
        "    def __init__(self, in_planes, planes, stride=1):\n",
        "        super(Block, self).__init__()\n",
        "        self.conv1 = nn.Conv2d(in_planes, planes, kernel_size=3, stride=stride, padding=1, bias=False)\n",
        "        self.bn1 = nn.BatchNorm2d(planes)\n",
        "        self.conv2 = nn.Conv2d(planes, planes, kernel_size=3, stride=1, padding=1, bias=False)\n",
        "        self.bn2 = nn.BatchNorm2d(planes)\n",
        "\n",
        "        # CHANGE THIS TO ZERO PADDING RESIDUAL CONNECTION\n",
        "        self.shortcut = nn.Sequential()\n",
        "        if stride != 1:\n",
        "            self.shortcut = nn.Sequential(\n",
        "                nn.Conv2d(in_planes, planes, kernel_size=1, stride=stride, bias=False),\n",
        "                nn.BatchNorm2d(planes)\n",
        "            )\n",
        "\n",
        "    def forward(self, x):\n",
        "        out = F.relu(self.bn1(self.conv1(x)))\n",
        "        out = self.bn2(self.conv2(out))\n",
        "        out += self.shortcut(x)\n",
        "        out = F.relu(out)\n",
        "        return out"
      ],
      "execution_count": null,
      "outputs": []
    },
    {
      "cell_type": "code",
      "metadata": {
        "id": "tJ8P-Q6Fa8nW"
      },
      "source": [
        "class ResNet(nn.Module):\n",
        "    def __init__(self, num_blocks, num_classes=10):\n",
        "        super(ResNet, self).__init__()\n",
        "        self.in_planes = 16\n",
        "        self.conv1 = nn.Conv2d(3, 16, kernel_size=3, stride=1, padding=1, bias=False)\n",
        "        self.bn1 = nn.BatchNorm2d(16)\n",
        "        self.layer1 = self._make_layer(16, num_blocks, stride=1)\n",
        "        self.layer2 = self._make_layer(32, num_blocks, stride=2)\n",
        "        self.layer3 = self._make_layer(64, num_blocks, stride=2)\n",
        "        self.linear = nn.Linear(64, num_classes)\n",
        "\n",
        "    def _make_layer(self, planes, num_blocks, stride):\n",
        "        strides = [stride] + [1]*(num_blocks-1)\n",
        "        layers = []\n",
        "        for stride in strides:\n",
        "            layers.append(Block(self.in_planes, planes, stride))\n",
        "            self.in_planes = planes\n",
        "        return nn.Sequential(*layers)\n",
        "\n",
        "    def forward(self, x):\n",
        "        out = F.relu(self.bn1(self.conv1(x)))\n",
        "        out = self.layer1(out)\n",
        "        out = self.layer2(out)\n",
        "        out = self.layer3(out)\n",
        "        out = F.avg_pool2d(out, 8)\n",
        "        out = out.view(out.size(0), -1)\n",
        "        out = self.linear(out)\n",
        "        return out\n",
        "\n",
        "def ResNetModel(n,r): #6n+2 layers, r number of classes\n",
        "    return ResNet(n, r)"
      ],
      "execution_count": null,
      "outputs": []
    },
    {
      "cell_type": "code",
      "metadata": {
        "id": "tzel4mfhbtCg"
      },
      "source": [
        "net=ResNetModel(3,10)"
      ],
      "execution_count": null,
      "outputs": []
    },
    {
      "cell_type": "code",
      "metadata": {
        "colab": {
          "base_uri": "https://localhost:8080/"
        },
        "id": "be5_Z5TwbwFd",
        "outputId": "a60a7de4-85b6-4091-8de8-8ff382ca13b1"
      },
      "source": [
        "y=net(torch.randn(1, 3, 32, 32))\n",
        "y.size()"
      ],
      "execution_count": null,
      "outputs": [
        {
          "output_type": "execute_result",
          "data": {
            "text/plain": [
              "torch.Size([1, 10])"
            ]
          },
          "metadata": {
            "tags": []
          },
          "execution_count": 15
        }
      ]
    },
    {
      "cell_type": "code",
      "metadata": {
        "colab": {
          "base_uri": "https://localhost:8080/"
        },
        "id": "zBuxCJNAbwC9",
        "outputId": "ddaf59fe-463a-449d-f9d9-8411f7d99abe"
      },
      "source": [
        "summary(net, input_size=(3,32,32))"
      ],
      "execution_count": null,
      "outputs": [
        {
          "output_type": "stream",
          "text": [
            "----------------------------------------------------------------\n",
            "        Layer (type)               Output Shape         Param #\n",
            "================================================================\n",
            "            Conv2d-1           [-1, 16, 32, 32]             432\n",
            "       BatchNorm2d-2           [-1, 16, 32, 32]              32\n",
            "            Conv2d-3           [-1, 16, 32, 32]           2,304\n",
            "       BatchNorm2d-4           [-1, 16, 32, 32]              32\n",
            "            Conv2d-5           [-1, 16, 32, 32]           2,304\n",
            "       BatchNorm2d-6           [-1, 16, 32, 32]              32\n",
            "             Block-7           [-1, 16, 32, 32]               0\n",
            "            Conv2d-8           [-1, 16, 32, 32]           2,304\n",
            "       BatchNorm2d-9           [-1, 16, 32, 32]              32\n",
            "           Conv2d-10           [-1, 16, 32, 32]           2,304\n",
            "      BatchNorm2d-11           [-1, 16, 32, 32]              32\n",
            "            Block-12           [-1, 16, 32, 32]               0\n",
            "           Conv2d-13           [-1, 16, 32, 32]           2,304\n",
            "      BatchNorm2d-14           [-1, 16, 32, 32]              32\n",
            "           Conv2d-15           [-1, 16, 32, 32]           2,304\n",
            "      BatchNorm2d-16           [-1, 16, 32, 32]              32\n",
            "            Block-17           [-1, 16, 32, 32]               0\n",
            "           Conv2d-18           [-1, 32, 16, 16]           4,608\n",
            "      BatchNorm2d-19           [-1, 32, 16, 16]              64\n",
            "           Conv2d-20           [-1, 32, 16, 16]           9,216\n",
            "      BatchNorm2d-21           [-1, 32, 16, 16]              64\n",
            "           Conv2d-22           [-1, 32, 16, 16]             512\n",
            "      BatchNorm2d-23           [-1, 32, 16, 16]              64\n",
            "            Block-24           [-1, 32, 16, 16]               0\n",
            "           Conv2d-25           [-1, 32, 16, 16]           9,216\n",
            "      BatchNorm2d-26           [-1, 32, 16, 16]              64\n",
            "           Conv2d-27           [-1, 32, 16, 16]           9,216\n",
            "      BatchNorm2d-28           [-1, 32, 16, 16]              64\n",
            "            Block-29           [-1, 32, 16, 16]               0\n",
            "           Conv2d-30           [-1, 32, 16, 16]           9,216\n",
            "      BatchNorm2d-31           [-1, 32, 16, 16]              64\n",
            "           Conv2d-32           [-1, 32, 16, 16]           9,216\n",
            "      BatchNorm2d-33           [-1, 32, 16, 16]              64\n",
            "            Block-34           [-1, 32, 16, 16]               0\n",
            "           Conv2d-35             [-1, 64, 8, 8]          18,432\n",
            "      BatchNorm2d-36             [-1, 64, 8, 8]             128\n",
            "           Conv2d-37             [-1, 64, 8, 8]          36,864\n",
            "      BatchNorm2d-38             [-1, 64, 8, 8]             128\n",
            "           Conv2d-39             [-1, 64, 8, 8]           2,048\n",
            "      BatchNorm2d-40             [-1, 64, 8, 8]             128\n",
            "            Block-41             [-1, 64, 8, 8]               0\n",
            "           Conv2d-42             [-1, 64, 8, 8]          36,864\n",
            "      BatchNorm2d-43             [-1, 64, 8, 8]             128\n",
            "           Conv2d-44             [-1, 64, 8, 8]          36,864\n",
            "      BatchNorm2d-45             [-1, 64, 8, 8]             128\n",
            "            Block-46             [-1, 64, 8, 8]               0\n",
            "           Conv2d-47             [-1, 64, 8, 8]          36,864\n",
            "      BatchNorm2d-48             [-1, 64, 8, 8]             128\n",
            "           Conv2d-49             [-1, 64, 8, 8]          36,864\n",
            "      BatchNorm2d-50             [-1, 64, 8, 8]             128\n",
            "            Block-51             [-1, 64, 8, 8]               0\n",
            "           Linear-52                   [-1, 10]             650\n",
            "================================================================\n",
            "Total params: 272,474\n",
            "Trainable params: 272,474\n",
            "Non-trainable params: 0\n",
            "----------------------------------------------------------------\n",
            "Input size (MB): 0.01\n",
            "Forward/backward pass size (MB): 3.72\n",
            "Params size (MB): 1.04\n",
            "Estimated Total Size (MB): 4.77\n",
            "----------------------------------------------------------------\n"
          ],
          "name": "stdout"
        }
      ]
    },
    {
      "cell_type": "markdown",
      "metadata": {
        "id": "R-PJTT12kMP9"
      },
      "source": [
        "# 1.1 Cifar10 Dataset"
      ]
    },
    {
      "cell_type": "code",
      "metadata": {
        "id": "Ms6VGdnma8lG"
      },
      "source": [
        "import torch\n",
        "import torchvision"
      ],
      "execution_count": 1,
      "outputs": []
    },
    {
      "cell_type": "code",
      "metadata": {
        "id": "twu2St1Sa8jC",
        "colab": {
          "base_uri": "https://localhost:8080/",
          "height": 117,
          "referenced_widgets": [
            "aab23e834b4544988eec5da30797a4bd",
            "9bd0d96583ce4dd2bd20a3907a039dc1",
            "4a9811e897a44d07bf7e5be09aac4345",
            "662dae54dcae4339bd68b02310cc96c7",
            "6a7ba973207949c2856b303d744171a0",
            "bf52becc46a04c93a62fa09a3d256048",
            "f8954cce453c40ae855b664c793f9435",
            "ccb9b58a79e14824b6c668436554b728"
          ]
        },
        "outputId": "3b6838f2-8c8a-4f23-a757-3ee33b10c918"
      },
      "source": [
        "trainset = torchvision.datasets.CIFAR10(root='./CIFAR10', train=True, download=True)\n",
        "testset = torchvision.datasets.CIFAR10(root='./CIFAR10', train=False, download=True)"
      ],
      "execution_count": 2,
      "outputs": [
        {
          "output_type": "stream",
          "text": [
            "Downloading https://www.cs.toronto.edu/~kriz/cifar-10-python.tar.gz to ./CIFAR10/cifar-10-python.tar.gz\n"
          ],
          "name": "stdout"
        },
        {
          "output_type": "display_data",
          "data": {
            "application/vnd.jupyter.widget-view+json": {
              "model_id": "aab23e834b4544988eec5da30797a4bd",
              "version_minor": 0,
              "version_major": 2
            },
            "text/plain": [
              "HBox(children=(FloatProgress(value=0.0, max=170498071.0), HTML(value='')))"
            ]
          },
          "metadata": {
            "tags": []
          }
        },
        {
          "output_type": "stream",
          "text": [
            "\n",
            "Extracting ./CIFAR10/cifar-10-python.tar.gz to ./CIFAR10\n",
            "Files already downloaded and verified\n"
          ],
          "name": "stdout"
        }
      ]
    },
    {
      "cell_type": "code",
      "metadata": {
        "id": "pelNkYqWa8gU"
      },
      "source": [
        "import PIL.Image as Image\n",
        "import os\n",
        "import os.path\n",
        "import numpy as np\n",
        "import pickle\n",
        "from torchvision.datasets.vision import VisionDataset\n",
        "from torchvision.datasets.utils import check_integrity, download_and_extract_archive\n",
        "import torchvision.transforms as transforms\n",
        "\n",
        "\n",
        "class CIFAR10(VisionDataset):\n",
        "    \"\"\"`CIFAR10 <https://www.cs.toronto.edu/~kriz/cifar.html>`_ Dataset.\n",
        "\n",
        "    Args:\n",
        "        root (string): Root directory of dataset where directory\n",
        "            ``cifar-10-batches-py`` exists or will be saved to if download is set to True.\n",
        "        train (bool, optional): If True, creates dataset from training set, otherwise\n",
        "            creates from test set.\n",
        "        transform (callable, optional): A function/transform that takes in an PIL image\n",
        "            and returns a transformed version. E.g, ``transforms.RandomCrop``\n",
        "        target_transform (callable, optional): A function/transform that takes in the\n",
        "            target and transforms it.\n",
        "        download (bool, optional): If true, downloads the dataset from the internet and\n",
        "            puts it in root directory. If dataset is already downloaded, it is not\n",
        "            downloaded again.\n",
        "\n",
        "    \"\"\"\n",
        "    base_folder = 'cifar-10-batches-py'\n",
        "    url = \"https://www.cs.toronto.edu/~kriz/cifar-10-python.tar.gz\"\n",
        "    filename = \"cifar-10-python.tar.gz\"\n",
        "    tgz_md5 = 'c58f30108f718f92721af3b95e74349a'\n",
        "    train_list = [\n",
        "        ['data_batch_1', 'c99cafc152244af753f735de768cd75f'],\n",
        "        ['data_batch_2', 'd4bba439e000b95fd0a9bffe97cbabec'],\n",
        "        ['data_batch_3', '54ebc095f3ab1f0389bbae665268c751'],\n",
        "        ['data_batch_4', '634d18415352ddfa80567beed471001a'],\n",
        "        ['data_batch_5', '482c414d41f54cd18b22e5b47cb7c3cb'],\n",
        "    ]\n",
        "\n",
        "    test_list = [\n",
        "        ['test_batch', '40351d587109b95175f43aff81a1287e'],\n",
        "    ]\n",
        "    meta = {\n",
        "        'filename': 'batches.meta',\n",
        "        'key': 'label_names',\n",
        "        'md5': '5ff9c542aee3614f3951f8cda6e48888',\n",
        "    }\n",
        "\n",
        "    def __init__(self, root, train=True, transform=None, target_transform=None, download=False, size=8):\n",
        "\n",
        "        super(CIFAR10, self).__init__(root, transform=transform, target_transform=target_transform)\n",
        "\n",
        "        self.train = train  # training set or test set\n",
        "        self.size = size # size(8,16,32) of images (8,8), (16,16) or (32,32)\n",
        "\n",
        "        if download:\n",
        "            self.download()\n",
        "\n",
        "        if not self._check_integrity():\n",
        "            raise RuntimeError('Dataset not found or corrupted.' +\n",
        "                               ' You can use download=True to download it')\n",
        "\n",
        "        if self.train:\n",
        "            downloaded_list = self.train_list\n",
        "        else:\n",
        "            downloaded_list = self.test_list\n",
        "\n",
        "        self.data = []\n",
        "        self.targets = []\n",
        "\n",
        "        # now load the picked numpy arrays\n",
        "        for file_name, checksum in downloaded_list:\n",
        "            file_path = os.path.join(self.root, self.base_folder, file_name)\n",
        "            with open(file_path, 'rb') as f:\n",
        "                entry = pickle.load(f, encoding='latin1')\n",
        "                self.data.append(entry['data'])\n",
        "                if 'labels' in entry:\n",
        "                    self.targets.extend(entry['labels'])\n",
        "                else:\n",
        "                    self.targets.extend(entry['fine_labels'])\n",
        "\n",
        "        self.data = np.vstack(self.data).reshape(-1, 3, 32, 32)\n",
        "        self.data = self.data.transpose((0, 2, 3, 1))  # convert to HWC\n",
        "        \n",
        "        string_train = 'train' if train==True else 'test'\n",
        "        np.save('%s_x.npy'%string_train,self.data)\n",
        "        np.save('%s_y.npy'%string_train,self.targets)\n",
        "\n",
        "        self._load_meta()\n",
        "\n",
        "    def _load_meta(self):\n",
        "        path = os.path.join(self.root, self.base_folder, self.meta['filename'])\n",
        "        if not check_integrity(path, self.meta['md5']):\n",
        "            raise RuntimeError('Dataset metadata file not found or corrupted.' +\n",
        "                               ' You can use download=True to download it')\n",
        "        with open(path, 'rb') as infile:\n",
        "            data = pickle.load(infile, encoding='latin1')\n",
        "            self.classes = data[self.meta['key']]\n",
        "        self.class_to_idx = {_class: i for i, _class in enumerate(self.classes)}\n",
        "\n",
        "    def __getitem__(self, index):\n",
        "        \"\"\"\n",
        "        Args:\n",
        "            index (int): Index\n",
        "\n",
        "        Returns:\n",
        "            tuple: (image, target) where target is index of the target class.\n",
        "        \"\"\"\n",
        "        img, target = self.data[index], self.targets[index]\n",
        "\n",
        "        # doing this so that it is consistent with all other datasets\n",
        "        # to return a PIL Image\n",
        "        img = Image.fromarray(img)\n",
        "\n",
        "        if self.train == True: # Apply train transform\n",
        "            t1 = transforms.Compose(\n",
        "                [transforms.RandomCrop(32, padding=4), \n",
        "                transforms.RandomHorizontalFlip()])\n",
        "            img = t1(img)\n",
        "        img = img.resize((self.size,self.size))\n",
        "\n",
        "        t2 = transforms.Compose(\n",
        "            [transforms.ToTensor(), \n",
        "            transforms.Normalize((0.4914, 0.4822, 0.4465), \n",
        "            (0.2023, 0.1994, 0.2010))])\n",
        "        img = t2(img)\n",
        "\n",
        "        if self.transform is not None:\n",
        "            img = self.transform(img)\n",
        "\n",
        "        if self.target_transform is not None:\n",
        "            target = self.target_transform(target)\n",
        "\n",
        "        return img, target\n",
        "\n",
        "\n",
        "    def __len__(self):\n",
        "        return len(self.data)\n",
        "\n",
        "    def _check_integrity(self):\n",
        "        root = self.root\n",
        "        for fentry in (self.train_list + self.test_list):\n",
        "            filename, md5 = fentry[0], fentry[1]\n",
        "            fpath = os.path.join(root, self.base_folder, filename)\n",
        "            if not check_integrity(fpath, md5):\n",
        "                return False\n",
        "        return True\n",
        "\n",
        "    def download(self):\n",
        "        if self._check_integrity():\n",
        "            print('Files already downloaded and verified')\n",
        "            return\n",
        "        download_and_extract_archive(self.url, self.root, filename=self.filename, md5=self.tgz_md5)\n",
        "\n",
        "    def extra_repr(self):\n",
        "        return \"Split: {}\".format(\"Train\" if self.train is True else \"Test\")"
      ],
      "execution_count": 3,
      "outputs": []
    },
    {
      "cell_type": "code",
      "metadata": {
        "id": "QH5xehg_a8eD",
        "colab": {
          "base_uri": "https://localhost:8080/"
        },
        "outputId": "453285d6-a06b-43eb-b2da-3306334bfeb1"
      },
      "source": [
        "CIFAR10(root='./CIFAR10', train=True, download=True)"
      ],
      "execution_count": 48,
      "outputs": [
        {
          "output_type": "stream",
          "text": [
            "Files already downloaded and verified\n"
          ],
          "name": "stdout"
        },
        {
          "output_type": "execute_result",
          "data": {
            "text/plain": [
              "Dataset CIFAR10\n",
              "    Number of datapoints: 50000\n",
              "    Root location: ./CIFAR10\n",
              "    Split: Train"
            ]
          },
          "metadata": {
            "tags": []
          },
          "execution_count": 48
        }
      ]
    },
    {
      "cell_type": "code",
      "metadata": {
        "id": "xrX-dy_8a8af",
        "colab": {
          "base_uri": "https://localhost:8080/"
        },
        "outputId": "2573b81e-fb0d-4b12-f61a-df4728283956"
      },
      "source": [
        "CIFAR10(root='./CIFAR10', train=False, download=True)"
      ],
      "execution_count": 49,
      "outputs": [
        {
          "output_type": "stream",
          "text": [
            "Files already downloaded and verified\n"
          ],
          "name": "stdout"
        },
        {
          "output_type": "execute_result",
          "data": {
            "text/plain": [
              "Dataset CIFAR10\n",
              "    Number of datapoints: 10000\n",
              "    Root location: ./CIFAR10\n",
              "    Split: Test"
            ]
          },
          "metadata": {
            "tags": []
          },
          "execution_count": 49
        }
      ]
    },
    {
      "cell_type": "code",
      "metadata": {
        "colab": {
          "base_uri": "https://localhost:8080/"
        },
        "id": "pYL5QVutyU_A",
        "outputId": "746f4bb4-319a-46d0-e3aa-9b585a7c74aa"
      },
      "source": [
        "test_x=np.load('test_x.npy')\n",
        "test_x.shape"
      ],
      "execution_count": 50,
      "outputs": [
        {
          "output_type": "execute_result",
          "data": {
            "text/plain": [
              "(10000, 32, 32, 3)"
            ]
          },
          "metadata": {
            "tags": []
          },
          "execution_count": 50
        }
      ]
    },
    {
      "cell_type": "code",
      "metadata": {
        "colab": {
          "base_uri": "https://localhost:8080/",
          "height": 266
        },
        "id": "yuf0-_dEyWKf",
        "outputId": "32d3e022-e45a-44e4-8cc4-234fe9e8d49e"
      },
      "source": [
        "import matplotlib.pyplot as plt\n",
        "plt.imshow(test_x[2]/255.)\n",
        "plt.show()"
      ],
      "execution_count": 51,
      "outputs": [
        {
          "output_type": "display_data",
          "data": {
            "image/png": "[encoded data removed]",
            "text/plain": [
              "<Figure size 432x288 with 1 Axes>"
            ]
          },
          "metadata": {
            "tags": [],
            "needs_background": "light"
          }
        }
      ]
    },
    {
      "cell_type": "code",
      "metadata": {
        "colab": {
          "base_uri": "https://localhost:8080/"
        },
        "id": "mFJcqZBO_S2Y",
        "outputId": "4af80a90-216a-404a-ef52-6ec27fab47af"
      },
      "source": [
        "test_y=np.load('test_y.npy')\n",
        "print(test_y[2])"
      ],
      "execution_count": 52,
      "outputs": [
        {
          "output_type": "stream",
          "text": [
            "8\n"
          ],
          "name": "stdout"
        }
      ]
    },
    {
      "cell_type": "code",
      "metadata": {
        "id": "TXTJnuipymNI"
      },
      "source": [
        "# do train-val split in complete train set (50k images)\n",
        "train_x=np.load('train_x.npy')\n",
        "train_y=np.load('train_y.npy')"
      ],
      "execution_count": 53,
      "outputs": []
    },
    {
      "cell_type": "code",
      "metadata": {
        "colab": {
          "base_uri": "https://localhost:8080/"
        },
        "id": "BMrikIU3-kCN",
        "outputId": "eb2201ae-3da1-4e42-9610-3d122398340a"
      },
      "source": [
        "train_x=train_x.reshape((50000,-1))\n",
        "train_y=train_y.reshape((-1,1))\n",
        "print(train_x.shape,train_y.shape)\n",
        "train_data=np.hstack((train_x,train_y))\n",
        "print(train_data.shape)"
      ],
      "execution_count": 54,
      "outputs": [
        {
          "output_type": "stream",
          "text": [
            "(50000, 3072) (50000, 1)\n",
            "(50000, 3073)\n"
          ],
          "name": "stdout"
        }
      ]
    },
    {
      "cell_type": "code",
      "metadata": {
        "id": "Q4l84No0y0GS"
      },
      "source": [
        "np.random.shuffle(train_data)"
      ],
      "execution_count": 55,
      "outputs": []
    },
    {
      "cell_type": "code",
      "metadata": {
        "colab": {
          "base_uri": "https://localhost:8080/",
          "height": 266
        },
        "id": "f8UJlVPDy0Dg",
        "outputId": "8b4437b5-2720-4857-d37d-9be5cbcd41c5"
      },
      "source": [
        "plt.imshow(train_data[2,0:-1].reshape((32,32,3))/255.)\n",
        "plt.show()"
      ],
      "execution_count": 58,
      "outputs": [
        {
          "output_type": "display_data",
          "data": {
            "image/png": "[encoded data removed]",
            "text/plain": [
              "<Figure size 432x288 with 1 Axes>"
            ]
          },
          "metadata": {
            "tags": [],
            "needs_background": "light"
          }
        }
      ]
    },
    {
      "cell_type": "code",
      "metadata": {
        "colab": {
          "base_uri": "https://localhost:8080/"
        },
        "id": "gmPyZEZby0AG",
        "outputId": "21da142d-f552-407a-b1c1-f5a5226630d7"
      },
      "source": [
        "print(train_data[2,-1])"
      ],
      "execution_count": 59,
      "outputs": [
        {
          "output_type": "stream",
          "text": [
            "8\n"
          ],
          "name": "stdout"
        }
      ]
    },
    {
      "cell_type": "code",
      "metadata": {
        "id": "Qhr7XdC5yz84"
      },
      "source": [
        "train_x=train_data[0:40000,0:-1].reshape((-1,32,32,3))\n",
        "train_y=train_data[0:40000,-1]"
      ],
      "execution_count": 60,
      "outputs": []
    },
    {
      "cell_type": "code",
      "metadata": {
        "colab": {
          "base_uri": "https://localhost:8080/",
          "height": 283
        },
        "id": "E3BEIyG0ArxV",
        "outputId": "5d350210-e748-4315-d285-922ff88a6bb0"
      },
      "source": [
        "plt.imshow(train_x[2]/255.)\n",
        "plt.show()\n",
        "train_y[2]"
      ],
      "execution_count": 63,
      "outputs": [
        {
          "output_type": "display_data",
          "data": {
            "image/png": "[encoded data removed]",
            "text/plain": [
              "<Figure size 432x288 with 1 Axes>"
            ]
          },
          "metadata": {
            "tags": [],
            "needs_background": "light"
          }
        },
        {
          "output_type": "execute_result",
          "data": {
            "text/plain": [
              "8"
            ]
          },
          "metadata": {
            "tags": []
          },
          "execution_count": 63
        }
      ]
    },
    {
      "cell_type": "code",
      "metadata": {
        "id": "oAcW8m8Cz4SG"
      },
      "source": [
        "np.save('./CIFAR10/train_x.npy',train_x.astype(np.uint8))\n",
        "np.save('./CIFAR10/train_y.npy',train_y)"
      ],
      "execution_count": 64,
      "outputs": []
    },
    {
      "cell_type": "code",
      "metadata": {
        "id": "fiFOr6T1z4Pk"
      },
      "source": [
        "val_x=train_data[40000:,0:-1].reshape((-1,32,32,3)).astype(np.uint8)\n",
        "val_y=train_data[40000:,-1]\n",
        "np.save('./CIFAR10/val_x.npy',val_x)\n",
        "np.save('./CIFAR10/val_y.npy',val_y)"
      ],
      "execution_count": 66,
      "outputs": []
    }
  ]
}