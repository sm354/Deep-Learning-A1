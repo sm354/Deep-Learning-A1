{
  "nbformat": 4,
  "nbformat_minor": 0,
  "metadata": {
    "colab": {
      "name": "COL870_Assignment1.ipynb",
      "provenance": [],
      "collapsed_sections": [],
      "authorship_tag": "ABX9TyOtr+VabUzfSUwV+u3iPq7V",
      "include_colab_link": true
    },
    "kernelspec": {
      "name": "python3",
      "display_name": "Python 3"
    },
    "language_info": {
      "name": "python"
    }
  },
  "cells": [
    {
      "cell_type": "markdown",
      "metadata": {
        "id": "view-in-github",
        "colab_type": "text"
      },
      "source": [
        "<a href=\"https://colab.research.google.com/github/sm354/Deep-Learning-Assignment-1/blob/main/COL870_Assignment1.ipynb\" target=\"_parent\"><img src=\"https://colab.research.google.com/assets/colab-badge.svg\" alt=\"Open In Colab\"/></a>"
      ]
    },
    {
      "cell_type": "markdown",
      "metadata": {
        "id": "PwRQORZrbAcM"
      },
      "source": [
        "# 1.1 ResNet Model \n",
        "Kaiming He, Xiangyu Zhang, Shaoqing Ren, Jian Sun Deep Residual Learning for Image Recognition. arXiv:1512.03385"
      ]
    },
    {
      "cell_type": "code",
      "metadata": {
        "id": "BvpyKyxFch7q"
      },
      "source": [
        "import torch\n",
        "import torch.nn as nn\n",
        "import torch.nn.functional as F\n",
        "from torchsummary import summary"
      ],
      "execution_count": null,
      "outputs": []
    },
    {
      "cell_type": "code",
      "metadata": {
        "id": "2sjJ1fBka8pO"
      },
      "source": [
        "class Block(nn.Module):\n",
        "    def __init__(self, in_planes, planes, stride=1):\n",
        "        super(Block, self).__init__()\n",
        "        self.conv1 = nn.Conv2d(in_planes, planes, kernel_size=3, stride=stride, padding=1, bias=False)\n",
        "        self.bn1 = nn.BatchNorm2d(planes)\n",
        "        self.conv2 = nn.Conv2d(planes, planes, kernel_size=3, stride=1, padding=1, bias=False)\n",
        "        self.bn2 = nn.BatchNorm2d(planes)\n",
        "\n",
        "        # CHANGE THIS TO ZERO PADDING RESIDUAL CONNECTION\n",
        "        self.shortcut = nn.Sequential()\n",
        "        if stride != 1:\n",
        "            self.shortcut = nn.Sequential(\n",
        "                nn.Conv2d(in_planes, planes, kernel_size=1, stride=stride, bias=False),\n",
        "                nn.BatchNorm2d(planes)\n",
        "            )\n",
        "\n",
        "    def forward(self, x):\n",
        "        out = F.relu(self.bn1(self.conv1(x)))\n",
        "        out = self.bn2(self.conv2(out))\n",
        "        out += self.shortcut(x)\n",
        "        out = F.relu(out)\n",
        "        return out"
      ],
      "execution_count": null,
      "outputs": []
    },
    {
      "cell_type": "code",
      "metadata": {
        "id": "tJ8P-Q6Fa8nW"
      },
      "source": [
        "class ResNet(nn.Module):\n",
        "    def __init__(self, num_blocks, num_classes=10):\n",
        "        super(ResNet, self).__init__()\n",
        "        self.in_planes = 16\n",
        "        self.conv1 = nn.Conv2d(3, 16, kernel_size=3, stride=1, padding=1, bias=False)\n",
        "        self.bn1 = nn.BatchNorm2d(16)\n",
        "        self.layer1 = self._make_layer(16, num_blocks, stride=1)\n",
        "        self.layer2 = self._make_layer(32, num_blocks, stride=2)\n",
        "        self.layer3 = self._make_layer(64, num_blocks, stride=2)\n",
        "        self.linear = nn.Linear(64, num_classes)\n",
        "\n",
        "    def _make_layer(self, planes, num_blocks, stride):\n",
        "        strides = [stride] + [1]*(num_blocks-1)\n",
        "        layers = []\n",
        "        for stride in strides:\n",
        "            layers.append(Block(self.in_planes, planes, stride))\n",
        "            self.in_planes = planes\n",
        "        return nn.Sequential(*layers)\n",
        "\n",
        "    def forward(self, x):\n",
        "        out = F.relu(self.bn1(self.conv1(x)))\n",
        "        out = self.layer1(out)\n",
        "        out = self.layer2(out)\n",
        "        out = self.layer3(out)\n",
        "        out = F.avg_pool2d(out, 8)\n",
        "        out = out.view(out.size(0), -1)\n",
        "        out = self.linear(out)\n",
        "        return out\n",
        "\n",
        "def ResNetModel(n,r): #6n+2 layers, r number of classes\n",
        "    return ResNet(n, r)"
      ],
      "execution_count": null,
      "outputs": []
    },
    {
      "cell_type": "code",
      "metadata": {
        "id": "tzel4mfhbtCg"
      },
      "source": [
        "net=ResNetModel(3,10)"
      ],
      "execution_count": null,
      "outputs": []
    },
    {
      "cell_type": "code",
      "metadata": {
        "colab": {
          "base_uri": "https://localhost:8080/"
        },
        "id": "be5_Z5TwbwFd",
        "outputId": "a60a7de4-85b6-4091-8de8-8ff382ca13b1"
      },
      "source": [
        "y=net(torch.randn(1, 3, 32, 32))\n",
        "y.size()"
      ],
      "execution_count": null,
      "outputs": [
        {
          "output_type": "execute_result",
          "data": {
            "text/plain": [
              "torch.Size([1, 10])"
            ]
          },
          "metadata": {
            "tags": []
          },
          "execution_count": 15
        }
      ]
    },
    {
      "cell_type": "code",
      "metadata": {
        "colab": {
          "base_uri": "https://localhost:8080/"
        },
        "id": "zBuxCJNAbwC9",
        "outputId": "ddaf59fe-463a-449d-f9d9-8411f7d99abe"
      },
      "source": [
        "summary(net, input_size=(3,32,32))"
      ],
      "execution_count": null,
      "outputs": [
        {
          "output_type": "stream",
          "text": [
            "----------------------------------------------------------------\n",
            "        Layer (type)               Output Shape         Param #\n",
            "================================================================\n",
            "            Conv2d-1           [-1, 16, 32, 32]             432\n",
            "       BatchNorm2d-2           [-1, 16, 32, 32]              32\n",
            "            Conv2d-3           [-1, 16, 32, 32]           2,304\n",
            "       BatchNorm2d-4           [-1, 16, 32, 32]              32\n",
            "            Conv2d-5           [-1, 16, 32, 32]           2,304\n",
            "       BatchNorm2d-6           [-1, 16, 32, 32]              32\n",
            "             Block-7           [-1, 16, 32, 32]               0\n",
            "            Conv2d-8           [-1, 16, 32, 32]           2,304\n",
            "       BatchNorm2d-9           [-1, 16, 32, 32]              32\n",
            "           Conv2d-10           [-1, 16, 32, 32]           2,304\n",
            "      BatchNorm2d-11           [-1, 16, 32, 32]              32\n",
            "            Block-12           [-1, 16, 32, 32]               0\n",
            "           Conv2d-13           [-1, 16, 32, 32]           2,304\n",
            "      BatchNorm2d-14           [-1, 16, 32, 32]              32\n",
            "           Conv2d-15           [-1, 16, 32, 32]           2,304\n",
            "      BatchNorm2d-16           [-1, 16, 32, 32]              32\n",
            "            Block-17           [-1, 16, 32, 32]               0\n",
            "           Conv2d-18           [-1, 32, 16, 16]           4,608\n",
            "      BatchNorm2d-19           [-1, 32, 16, 16]              64\n",
            "           Conv2d-20           [-1, 32, 16, 16]           9,216\n",
            "      BatchNorm2d-21           [-1, 32, 16, 16]              64\n",
            "           Conv2d-22           [-1, 32, 16, 16]             512\n",
            "      BatchNorm2d-23           [-1, 32, 16, 16]              64\n",
            "            Block-24           [-1, 32, 16, 16]               0\n",
            "           Conv2d-25           [-1, 32, 16, 16]           9,216\n",
            "      BatchNorm2d-26           [-1, 32, 16, 16]              64\n",
            "           Conv2d-27           [-1, 32, 16, 16]           9,216\n",
            "      BatchNorm2d-28           [-1, 32, 16, 16]              64\n",
            "            Block-29           [-1, 32, 16, 16]               0\n",
            "           Conv2d-30           [-1, 32, 16, 16]           9,216\n",
            "      BatchNorm2d-31           [-1, 32, 16, 16]              64\n",
            "           Conv2d-32           [-1, 32, 16, 16]           9,216\n",
            "      BatchNorm2d-33           [-1, 32, 16, 16]              64\n",
            "            Block-34           [-1, 32, 16, 16]               0\n",
            "           Conv2d-35             [-1, 64, 8, 8]          18,432\n",
            "      BatchNorm2d-36             [-1, 64, 8, 8]             128\n",
            "           Conv2d-37             [-1, 64, 8, 8]          36,864\n",
            "      BatchNorm2d-38             [-1, 64, 8, 8]             128\n",
            "           Conv2d-39             [-1, 64, 8, 8]           2,048\n",
            "      BatchNorm2d-40             [-1, 64, 8, 8]             128\n",
            "            Block-41             [-1, 64, 8, 8]               0\n",
            "           Conv2d-42             [-1, 64, 8, 8]          36,864\n",
            "      BatchNorm2d-43             [-1, 64, 8, 8]             128\n",
            "           Conv2d-44             [-1, 64, 8, 8]          36,864\n",
            "      BatchNorm2d-45             [-1, 64, 8, 8]             128\n",
            "            Block-46             [-1, 64, 8, 8]               0\n",
            "           Conv2d-47             [-1, 64, 8, 8]          36,864\n",
            "      BatchNorm2d-48             [-1, 64, 8, 8]             128\n",
            "           Conv2d-49             [-1, 64, 8, 8]          36,864\n",
            "      BatchNorm2d-50             [-1, 64, 8, 8]             128\n",
            "            Block-51             [-1, 64, 8, 8]               0\n",
            "           Linear-52                   [-1, 10]             650\n",
            "================================================================\n",
            "Total params: 272,474\n",
            "Trainable params: 272,474\n",
            "Non-trainable params: 0\n",
            "----------------------------------------------------------------\n",
            "Input size (MB): 0.01\n",
            "Forward/backward pass size (MB): 3.72\n",
            "Params size (MB): 1.04\n",
            "Estimated Total Size (MB): 4.77\n",
            "----------------------------------------------------------------\n"
          ],
          "name": "stdout"
        }
      ]
    },
    {
      "cell_type": "markdown",
      "metadata": {
        "id": "R-PJTT12kMP9"
      },
      "source": [
        "# 1.1 Cifar10 Dataset"
      ]
    },
    {
      "cell_type": "code",
      "metadata": {
        "id": "Ms6VGdnma8lG"
      },
      "source": [
        ""
      ],
      "execution_count": null,
      "outputs": []
    },
    {
      "cell_type": "code",
      "metadata": {
        "id": "twu2St1Sa8jC"
      },
      "source": [
        ""
      ],
      "execution_count": null,
      "outputs": []
    },
    {
      "cell_type": "code",
      "metadata": {
        "id": "pelNkYqWa8gU"
      },
      "source": [
        ""
      ],
      "execution_count": null,
      "outputs": []
    },
    {
      "cell_type": "code",
      "metadata": {
        "id": "QH5xehg_a8eD"
      },
      "source": [
        ""
      ],
      "execution_count": null,
      "outputs": []
    },
    {
      "cell_type": "code",
      "metadata": {
        "id": "xrX-dy_8a8af"
      },
      "source": [
        ""
      ],
      "execution_count": null,
      "outputs": []
    }
  ]
}