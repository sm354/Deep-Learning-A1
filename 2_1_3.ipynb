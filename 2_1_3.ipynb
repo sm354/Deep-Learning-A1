{
  "nbformat": 4,
  "nbformat_minor": 0,
  "metadata": {
    "kernelspec": {
      "display_name": "Python 3",
      "language": "python",
      "name": "python3"
    },
    "language_info": {
      "codemirror_mode": {
        "name": "ipython",
        "version": 3
      },
      "file_extension": ".py",
      "mimetype": "text/x-python",
      "name": "python",
      "nbconvert_exporter": "python",
      "pygments_lexer": "ipython3",
      "version": "3.8.5"
    },
    "colab": {
      "name": "2.1.3.ipynb",
      "provenance": [],
      "collapsed_sections": [],
      "include_colab_link": true
    },
    "accelerator": "GPU"
  },
  "cells": [
    {
      "cell_type": "markdown",
      "metadata": {
        "id": "view-in-github",
        "colab_type": "text"
      },
      "source": [
        "<a href=\"https://colab.research.google.com/github/sm354/COL870-Assignment-1/blob/main/2_1_3.ipynb\" target=\"_parent\"><img src=\"https://colab.research.google.com/assets/colab-badge.svg\" alt=\"Open In Colab\"/></a>"
      ]
    },
    {
      "cell_type": "code",
      "metadata": {
        "colab": {
          "base_uri": "https://localhost:8080/"
        },
        "id": "e9M1uW9_xHfE",
        "outputId": "34042ec5-d12b-4962-d3dd-25d74a649a01"
      },
      "source": [
        "from google.colab import drive\n",
        "drive.mount('/content/drive')"
      ],
      "execution_count": 1,
      "outputs": [
        {
          "output_type": "stream",
          "text": [
            "Mounted at /content/drive\n"
          ],
          "name": "stdout"
        }
      ]
    },
    {
      "cell_type": "code",
      "metadata": {
        "id": "8_sJQcdYKvpt",
        "colab": {
          "base_uri": "https://localhost:8080/"
        },
        "outputId": "0b103b8b-3ef2-4ede-9cb9-da5b600dd438"
      },
      "source": [
        "# !pip install seqeval"
      ],
      "execution_count": 3,
      "outputs": [
        {
          "output_type": "stream",
          "text": [
            "Collecting seqeval\n",
            "\u001b[?25l  Downloading https://files.pythonhosted.org/packages/9d/2d/233c79d5b4e5ab1dbf111242299153f3caddddbb691219f363ad55ce783d/seqeval-1.2.2.tar.gz (43kB)\n",
            "\r\u001b[K     |███████▌                        | 10kB 21.2MB/s eta 0:00:01\r\u001b[K     |███████████████                 | 20kB 16.8MB/s eta 0:00:01\r\u001b[K     |██████████████████████▌         | 30kB 13.9MB/s eta 0:00:01\r\u001b[K     |██████████████████████████████  | 40kB 12.6MB/s eta 0:00:01\r\u001b[K     |████████████████████████████████| 51kB 4.4MB/s \n",
            "\u001b[?25hRequirement already satisfied: numpy>=1.14.0 in /usr/local/lib/python3.7/dist-packages (from seqeval) (1.19.5)\n",
            "Requirement already satisfied: scikit-learn>=0.21.3 in /usr/local/lib/python3.7/dist-packages (from seqeval) (0.22.2.post1)\n",
            "Requirement already satisfied: joblib>=0.11 in /usr/local/lib/python3.7/dist-packages (from scikit-learn>=0.21.3->seqeval) (1.0.1)\n",
            "Requirement already satisfied: scipy>=0.17.0 in /usr/local/lib/python3.7/dist-packages (from scikit-learn>=0.21.3->seqeval) (1.4.1)\n",
            "Building wheels for collected packages: seqeval\n",
            "  Building wheel for seqeval (setup.py) ... \u001b[?25l\u001b[?25hdone\n",
            "  Created wheel for seqeval: filename=seqeval-1.2.2-cp37-none-any.whl size=16172 sha256=0aa636c45a8d8232070f4b6fabd59bd67cef284dafc7016a527b918f3a9b1945\n",
            "  Stored in directory: /root/.cache/pip/wheels/52/df/1b/45d75646c37428f7e626214704a0e35bd3cfc32eda37e59e5f\n",
            "Successfully built seqeval\n",
            "Installing collected packages: seqeval\n",
            "Successfully installed seqeval-1.2.2\n"
          ],
          "name": "stdout"
        }
      ]
    },
    {
      "cell_type": "code",
      "metadata": {
        "id": "6Toj8wCvvypN"
      },
      "source": [
        "experiment_name = \"ner_char_glove\"\n",
        "pretrained = \"glove\" # glove or random\n",
        "\n",
        "import torch\n",
        "import torch.nn as nn\n",
        "import torch.nn.functional as F\n",
        "import numpy as np\n",
        "import matplotlib.pyplot as plt\n",
        "from torch.nn.utils.rnn import pack_padded_sequence, pad_packed_sequence, pad_sequence\n",
        "from torch.utils.data import Dataset, DataLoader, TensorDataset\n",
        "import io\n",
        "import sklearn\n",
        "from sklearn.metrics import f1_score\n",
        "from sklearn.metrics import accuracy_score\n",
        "import seqeval\n",
        "from seqeval.metrics import accuracy_score as seq_accuracy_score\n",
        "from seqeval.metrics import classification_report as seq_classification_report\n",
        "from seqeval.metrics import f1_score as seq_f1_score\n",
        "\n",
        "\n",
        "if torch.cuda.is_available():  \n",
        "  device = \"cuda:0\" \n",
        "else:  \n",
        "  device = \"cpu\"  \n",
        "\n",
        "\n",
        "'''Helper Functions'''\n",
        "# reading text file in python and making list of sentences (list of lists) and list of tags(list of lists)\n",
        "def load_data(datapath, buildvocab_tags= True, vocab = None, nertags = None):\n",
        "    if(buildvocab_tags == True):\n",
        "        all_words = []\n",
        "        all_tags = []\n",
        "        with open(datapath) as f:\n",
        "            lines = f.readlines()\n",
        "            sent_num = 0\n",
        "            for line in lines[1:]: #1: so that the first blank line isn't taken into account\n",
        "                if(line == \"\\n\"):\n",
        "                    sent_num+=1\n",
        "                else:\n",
        "                    line_sep = line.split(sep = \" \")\n",
        "                    all_words.append(line_sep[0])\n",
        "                    all_tags.append(line_sep[3][:-1])\n",
        "                    \n",
        "        words = list(set(all_words))\n",
        "        tags = list(set(all_tags))\n",
        "\n",
        "        vocab = {}\n",
        "        vocab['<pad>'] = 0 # for padding input sequences\n",
        "        vocab['<oov>'] = 1\n",
        "        for i, word in enumerate(words):\n",
        "            vocab[word] = i+2\n",
        "            \n",
        "        nertags = {}\n",
        "        nertags['padtag'] = 0\n",
        "        for i,nertag in enumerate(tags):\n",
        "            nertags[nertag] = i+1\n",
        "\n",
        "    train_sent = []\n",
        "    train_tags = []\n",
        "    with open(datapath) as f:\n",
        "        lines = f.readlines()\n",
        "        sent_num = 0\n",
        "        sentence = []\n",
        "        tag = []\n",
        "        for line in lines[1:]: #1: so that the first blank line isn't taken into account\n",
        "            if(line == \"\\n\"):\n",
        "                sent_num+=1\n",
        "                train_sent.append(sentence)\n",
        "                train_tags.append(tag)\n",
        "                sentence = []\n",
        "                tag = []\n",
        "            else:\n",
        "                line_sep = line.split(sep = \" \")\n",
        "                if(line_sep[0] in vocab.keys()):\n",
        "                    sentence.append(vocab[line_sep[0]])\n",
        "                else:\n",
        "                    sentence.append(vocab['<oov>'])\n",
        "                    \n",
        "                tag.append(nertags[line_sep[3][:-1]])\n",
        "\n",
        "    # padding the sentences at the end\n",
        "    seq_maxlen = max(len(x) for x in train_sent)\n",
        "    x_lengths = [len(x) for x in train_sent]\n",
        "    Xtrain = []\n",
        "    Ytrain = []\n",
        "    for sent, tags in zip(train_sent, train_tags):\n",
        "        length_toappend = seq_maxlen - len(sent)\n",
        "        Xtrain.append(sent+[0]*length_toappend)\n",
        "        Ytrain.append(tags+[0]*length_toappend)\n",
        "\n",
        "\n",
        "    Xtrain = torch.Tensor(Xtrain)\n",
        "    Ytrain = torch.Tensor(Ytrain)\n",
        "    x_lengths = torch.Tensor(x_lengths)\n",
        "    # print(Xtrain.shape, Ytrain.shape, x_lengths.shape)\n",
        "    \n",
        "    return Xtrain, Ytrain, x_lengths, vocab, nertags\n",
        "\n",
        "def load_char_data(words, charvocab):\n",
        "    train_char_sent = []\n",
        "    train_char_label = []\n",
        "    for word in words:\n",
        "        chars = []\n",
        "        char_labels = []\n",
        "\n",
        "        word_sep = list(word)\n",
        "        for c in word_sep[:-1]:\n",
        "            if (c in charvocab.keys()):\n",
        "                chars.append(charvocab[c])\n",
        "            else:\n",
        "                chars.append(charvocab['<oovchar>'])\n",
        "        for c in word_sep[1:]:\n",
        "            if (c in charvocab.keys()):\n",
        "                char_labels.append(charvocab[c])\n",
        "            else:\n",
        "                char_labels.append(charvocab['<oovchar>'])\n",
        "        \n",
        "        train_char_sent.append(chars)\n",
        "        train_char_label.append(char_labels)\n",
        "\n",
        "    # padding the char_sents at the end\n",
        "    seq_maxlen = max(len(x) for x in train_char_sent)\n",
        "    x_lengths_char = [len(x) for x in train_char_sent]\n",
        "    Xtrain_char = []\n",
        "    Ytrain_char = []\n",
        "    for char_sent, char_label in zip(train_char_sent, train_char_label):\n",
        "        length_toappend = seq_maxlen - len(char_sent)\n",
        "        Xtrain_char.append(char_sent+[0]*length_toappend)\n",
        "        Ytrain_char.append(char_label+[0]*length_toappend) # 0 is padchar\n",
        "\n",
        "\n",
        "    Xtrain_char = torch.Tensor(Xtrain_char)\n",
        "    Ytrain_char = torch.Tensor(Ytrain_char)\n",
        "    x_lengths_char = torch.Tensor(x_lengths_char)\n",
        "    # print(Xtrain.shape, Ytrain.shape, x_lengths.shape)\n",
        "    \n",
        "    return Xtrain_char, Ytrain_char, x_lengths_char\n",
        "\n",
        "def pad_chars(topadlist, maxlen):\n",
        "    topadlist = topadlist + [0]*(maxlen-len(topadlist))\n",
        "\n",
        "    return topadlist\n",
        "\n",
        "def make_id2word_charvocab(vocab, charvocab):\n",
        "    max_charlen = max(len(word) for word in vocab.keys())\n",
        "    print(max_charlen)\n",
        "    word_charlevel_vocab = {}\n",
        "    wordid2wordlen = {}\n",
        "    for word in vocab.keys():\n",
        "        word_charlevel_vocab[vocab[word]] = [charvocab[w] if w in charvocab.keys() else charvocab['<oovchar>'] for w in word]\n",
        "        word_charlevel_vocab[vocab[word]] = pad_chars(word_charlevel_vocab[vocab[word]], max_charlen)\n",
        "\n",
        "        wordid2wordlen[vocab[word]] = len(word)\n",
        "        # word_charlevel_vocab[vocab[word]] = word_charlevel_vocab[vocab[word]].extend([charvocab['<padchar>']]*(max_charlen-len(word_charlevel_vocab[vocab[word]])))\n",
        "    return word_charlevel_vocab, wordid2wordlen\n",
        "\n",
        "\n",
        "def load_char_level(X, wordid2word_charlevel_vocab, wordid2wordlen):\n",
        "    #X is of shape (no.of.sentences, 104)\n",
        "    Xcharlevel = [] # will finally be fo shape (total.sentences, max_sent.len, )\n",
        "    Xcharlevel_lengths = []\n",
        "    for i in range(X.shape[0]):\n",
        "        sentence = []\n",
        "        wordlengths = []\n",
        "        for j in range(X.shape[1]):\n",
        "            sentence.append(torch.tensor([wordid2word_charlevel_vocab[int(X[i, j].item())]]))\n",
        "            wordlengths.append(wordid2wordlen[int(X[i, j].item())])\n",
        "            # sentences = pad_sequence(sentences)\n",
        "        # print(i)\n",
        "        Xcharlevel_lengths.append(wordlengths)\n",
        "        Xcharlevel.append(torch.stack(sentence))\n",
        "    \n",
        "    return torch.squeeze(torch.stack(Xcharlevel)), torch.tensor(Xcharlevel_lengths)\n",
        "\n",
        "def get_charvocab(vocab):\n",
        "    # using vocab make charvocab\n",
        "    words = list(vocab.keys())\n",
        "    characters = [char for word in words for char in word]\n",
        "    characters = list(set(characters))\n",
        "    char_vocab = {}\n",
        "    char_vocab[\"<padchar>\"] = 0\n",
        "    char_vocab[\"<oovchar>\"] = 1\n",
        "    for i, char in enumerate(characters):\n",
        "        char_vocab[char] = i+2\n",
        "\n",
        "    return char_vocab"
      ],
      "execution_count": 4,
      "outputs": []
    },
    {
      "cell_type": "markdown",
      "metadata": {
        "id": "tZT58V3Avypa"
      },
      "source": [
        "### Training Data\n",
        "### using dataloader to make data batches"
      ]
    },
    {
      "cell_type": "code",
      "metadata": {
        "id": "rPFYsfyNvypb"
      },
      "source": [
        "traindatapath = \"/content/drive/MyDrive/Q2_DL/train.txt\"\n",
        "devdatapath = \"/content/drive/MyDrive/Q2_DL/dev.txt\"\n",
        "\n",
        "Xtrain, Ytrain, x_trainlengths, vocab, nertags = load_data(traindatapath, buildvocab_tags=True)\n",
        "Xdev, Ydev, x_devlengths, _, _ = load_data(devdatapath, buildvocab_tags=False, vocab = vocab, nertags = nertags)\n"
      ],
      "execution_count": 5,
      "outputs": []
    },
    {
      "cell_type": "code",
      "metadata": {
        "colab": {
          "base_uri": "https://localhost:8080/"
        },
        "id": "i4u52bo3WqPO",
        "outputId": "cb642fa5-41b6-4017-8ec4-65494656bae9"
      },
      "source": [
        "# Character Level training data making\n",
        "# make vocabulary of characters from train vocabulary\n",
        "char_vocab = get_charvocab(vocab)\n",
        "wordid2word_charlevel_vocab, wordid2wordlen = make_id2word_charvocab(vocab, char_vocab) # of the form {word:[1,2,3,4]}, {wordnum:wordlen}\n",
        "#make char level train data for the char embeddings \n",
        "Xtrain_char, xlength_char = load_char_level(Xtrain, wordid2word_charlevel_vocab, wordid2wordlen)\n",
        "#finally make the dataloader for train\n",
        "traindataset = TensorDataset(Xtrain, Xtrain_char, Ytrain, x_trainlengths, xlength_char)\n",
        "Trainloader = DataLoader(traindataset, batch_size= 128, shuffle=True)\n",
        "\n",
        "\n",
        "# Character Level validation data making\n",
        "Xdev_temp, Ydev_temp, x_devlengths_temp, devvocab, devnertags = load_data(devdatapath, buildvocab_tags=True)\n",
        "wordid2word_charlevel_vocab_dev, wordid2wordlen_dev = make_id2word_charvocab(devvocab, char_vocab) # of the form {word:[1,2,3,4]}, {wordnum:wordlen}\n",
        "#make char level train data for the char embeddings \n",
        "Xdev_char, xdevlength_char = load_char_level(Xdev_temp, wordid2word_charlevel_vocab_dev, wordid2wordlen_dev)\n",
        "#finally make the dataloader for train\n",
        "devdataset = TensorDataset(Xdev, Xdev_char, Ydev, x_devlengths, xdevlength_char)\n",
        "Devloader = DataLoader(devdataset, batch_size= 128, shuffle=True)"
      ],
      "execution_count": 6,
      "outputs": [
        {
          "output_type": "stream",
          "text": [
            "64\n",
            "26\n"
          ],
          "name": "stdout"
        }
      ]
    },
    {
      "cell_type": "code",
      "metadata": {
        "id": "hCO_s9yJgXrG"
      },
      "source": [
        "embedding_size = 100\n",
        "if(pretrained == \"glove\"):\n",
        "    gloveembeddings_index = {}\n",
        "    with io.open(\"/content/drive/MyDrive/Q2_DL/glove.6B.100d.txt\", encoding='utf8') as f:\n",
        "        for line in f:\n",
        "            values = line.split()\n",
        "            word = values[0]\n",
        "            coefs = np.asarray(values[1:],dtype='float32')\n",
        "            gloveembeddings_index[word] = coefs\n",
        "\n",
        "    #using vocab and Xtrain, Xvalid, get pretrained glove word embeddings\n",
        "    glove_embeds = np.zeros((len(vocab), embedding_size))\n",
        "    for word in vocab.keys():\n",
        "        if(word in gloveembeddings_index.keys()):\n",
        "            # for the pad word let theembedding be all zeros\n",
        "            glove_embeds[vocab[word]] = gloveembeddings_index[word]\n",
        "        else:\n",
        "            glove_embeds[vocab[word]] = np.random.randn(embedding_size)\n",
        "    word_embeds = torch.Tensor(glove_embeds)\n",
        "    # print(glove_embeds.shape) # shape (vocablength , embedding dim)\n",
        "\n",
        "if(pretrained == \"random\"):\n",
        "    num_words = len(vocab)\n",
        "    word_embeds = torch.rand(num_words, embedding_size)\n",
        "\n",
        "# hence we get word_embeds which we could use afterwards\n"
      ],
      "execution_count": 7,
      "outputs": []
    },
    {
      "cell_type": "code",
      "metadata": {
        "id": "Tz-CSE7gQtSr"
      },
      "source": [
        "#weight matrix for cross entropy loss\n",
        "weight = torch.zeros([len(nertags)])\n",
        "for i, tag in enumerate(nertags):\n",
        "    if(tag!='padtag' and tag!='O'):\n",
        "        weight[i] = 20\n",
        "    else:\n",
        "      weight[i] = 1\n",
        "    # weight[i] = 1/((Ytrain.view(-1) == i).sum())\n",
        "# print(weight)"
      ],
      "execution_count": 8,
      "outputs": []
    },
    {
      "cell_type": "code",
      "metadata": {
        "colab": {
          "base_uri": "https://localhost:8080/"
        },
        "id": "QZ6HXmmvyMS1",
        "outputId": "1a5a8806-26f8-4646-c969-2131b0f67422"
      },
      "source": [
        "char_onehot = torch.eye(len(char_vocab))\n",
        "imp_classes = [nertags[tag] for tag in nertags.keys()]\n",
        "imp_classes.remove(nertags['padtag'])\n",
        "imp_classes.remove(nertags['O'])\n",
        "# print(len(imp_classes)) #16 classes now for calculating the performance metrics\n",
        "# print(imp_classes)\n",
        "# print(char_onehot.type())\n",
        "print(nertags)"
      ],
      "execution_count": 9,
      "outputs": [
        {
          "output_type": "stream",
          "text": [
            "{'padtag': 0, 'I-tim': 1, 'B-org': 2, 'B-per': 3, 'I-per': 4, 'B-tim': 5, 'O': 6, 'I-geo': 7, 'I-org': 8, 'I-gpe': 9, 'B-nat': 10, 'B-art': 11, 'I-art': 12, 'I-eve': 13, 'B-gpe': 14, 'B-eve': 15, 'B-geo': 16, 'I-nat': 17}\n"
          ],
          "name": "stdout"
        }
      ]
    },
    {
      "cell_type": "markdown",
      "metadata": {
        "id": "gG1N_odHmcHz"
      },
      "source": [
        "# LSTM models for character **level**"
      ]
    },
    {
      "cell_type": "code",
      "metadata": {
        "id": "pDi_Al8UmazI"
      },
      "source": [
        "class forLSTM(nn.Module):\n",
        "    def __init__(self, embedding_size, hidden_size, pretr_char_embed):\n",
        "        super(forLSTM, self).__init__()\n",
        "        self.charembed = nn.Embedding.from_pretrained(pretr_char_embed, freeze = True) #size of pretrained = (totalchars,embedding size)\n",
        "        self.lstm = nn.LSTM(embedding_size, hidden_size, bidirectional = True, batch_first = True)\n",
        "\n",
        "    def forward(self, xchar, xlength_char):\n",
        "        #xchar is of shape(batchsize, seqlen_maxinbatch, maxwordlen-ie max char = 6)\n",
        "\n",
        "        shape = xchar.shape\n",
        "        xchar = xchar.view(-1, shape[2])\n",
        "        xlength_char = xlength_char.view(-1)\n",
        "        input = pack_padded_sequence(xchar, xlength_char.cpu(), batch_first=True, enforce_sorted=False)\n",
        "        input, _ = pad_packed_sequence(input, batch_first=True)\n",
        "        embed = self.charembed(input)\n",
        "        _, (h,_) = self.lstm(embed) #h is of size (2, 128*maxno. of words in a sentence in the batch, 25)\n",
        "        h = h.view(h.shape[1], 50)\n",
        "        h = h.view(shape[0], shape[1], 50)\n",
        "        return h\n",
        "\n",
        "#         out = []\n",
        "#         for i in range(xchar.shape[1]):\n",
        "#             input = pack_padded_sequence(xchar[:, i, :], xlength_char[:, i].cpu(), batch_first=True, enforce_sorted=False)\n",
        "#             input, _ = pad_packed_sequence(input, batch_first=True)\n",
        "#             embed = self.charembed(input)\n",
        "#             _, (h,_) = self.lstm(embed)\n",
        "#             out.append(h) #h is of shape [1, 128, 25]\n",
        "#         out = torch.stack(out) # out(lhs) is of size [104, 1, 128, 25]\n",
        "#         out = out.squeeze().permute(1, 0, 2)\n",
        "#         return out\n",
        "#         (batchsize, seqlen, embeddingsize = 25)\n",
        "\n",
        "\n",
        "# class backLSTM(nn.Module):\n",
        "#     def __init__(self, embedding_size, hidden_size, pretr_char_embed):\n",
        "#         super(backLSTM, self).__init__()\n",
        "#         self.charembed = nn.Embedding.from_pretrained(pretr_char_embed, freeze = True) #size of pretrained = (totalchars,embedding size)\n",
        "#         self.lstm = nn.LSTM(embedding_size, hidden_size, dropout = 0.5, bidirectional = False, batch_first = True)\n",
        "\n",
        "#     def forward(self, xchar, xlength_char):\n",
        "#         #xchar is of shape(batchsize, seqlen_maxinbatch, maxwordlen-ie max char = 6)\n",
        "#         out = []\n",
        "#         for i in range(xchar.shape[1]):\n",
        "#             input = pack_padded_sequence(xchar[:, i, :], xlength_char[:, i].cpu(), batch_first=True, enforce_sorted=False)\n",
        "#             input, _ = pad_packed_sequence(input, batch_first=True)\n",
        "#             #flip and feed the input into the backlstm\n",
        "#             input = torch.flip(input, [1]) #flip along the dimension of the maxwordlength\n",
        "#             embed = self.charembed(input)\n",
        "#             _, (h,_) = self.lstm(embed)\n",
        "#             out.append(h) #h is of shape [1, 128, 25]\n",
        "#         out = torch.stack(out) # out(lhs) is of size [104, 1, 128, 25]\n",
        "#         out = out.squeeze().permute(1, 0, 2)\n",
        "#         return out\n",
        "#         #(batchsize, seqlen, embeddingsize = 25)\n"
      ],
      "execution_count": 10,
      "outputs": []
    },
    {
      "cell_type": "markdown",
      "metadata": {
        "id": "TMzf8Y1Bvypc"
      },
      "source": [
        "# BiLSTM Model"
      ]
    },
    {
      "cell_type": "code",
      "metadata": {
        "id": "s4KBzpL-vypc"
      },
      "source": [
        "class BiLSTM(nn.Module):\n",
        "    def __init__(self, embedding_size, hidden_size, total_words, num_class, pretrained = False, pretrained_embed = None, char_embed_size = 0, pretr_char_embed = None):\n",
        "        super(BiLSTM, self).__init__()\n",
        "        self.hidden_size = hidden_size\n",
        "        self.wordembed = nn.Embedding.from_pretrained(pretrained_embed, freeze = True)\n",
        "        self.for_charembed = forLSTM(embedding_size = char_embed_size, hidden_size = 25, pretr_char_embed = pretr_char_embed)\n",
        "        self.dropout = nn.Dropout(p = 0.5)\n",
        "        self.bilstm = nn.LSTM(embedding_size + 50,hidden_size, bidirectional = True, batch_first = True)\n",
        "        self.linear = nn.Linear(2*hidden_size, num_class) # 2 because forward and backward concatenate\n",
        "\n",
        "    def forward(self, x, xchar, xlengths, xlength_char):\n",
        "        x = pack_padded_sequence(x, xlengths.cpu(), batch_first=True, enforce_sorted=False)\n",
        "        x, _ = pad_packed_sequence(x, batch_first=True)\n",
        "\n",
        "        xlength_char = pack_padded_sequence(xlength_char, xlengths.cpu(), batch_first=True, enforce_sorted=False)\n",
        "        xlength_char, _ = pad_packed_sequence(xlength_char, batch_first=True, padding_value = len(\"<pad>\")) \n",
        "        # above this line padding value is taken as len of pad word becasue that is what we pad sentences \n",
        "        # with hance at a character level it should be the length\n",
        "\n",
        "        xchar = pack_padded_sequence(xchar, xlengths.cpu(), batch_first=True, enforce_sorted=False)\n",
        "        xchar, _ = pad_packed_sequence(xchar, batch_first=True)\n",
        "\n",
        "        word_embedding = self.wordembed(x) # x is of size(batchsize, seq_len), wordembed is of size (batchsize, seq_len, embedding_size = 100)\n",
        "        forwardchar= self.for_charembed(xchar, xlength_char) #forwardchar and backwardchar would be of size (batchsize, seqlen. embedding_size = 25each) \n",
        "        word_embedding = torch.cat((word_embedding, forwardchar), dim = 2)\n",
        "\n",
        "        word_embedding = self.dropout(word_embedding) #dropout\n",
        "        out, (h,c) = self.bilstm(word_embedding) #'out' has dimension(batchsize, seq_len, 2*hidden_size)\n",
        "\n",
        "        out = self.linear(out) #now 'out' has dimension(batchsize, seq_len, num_class)\n",
        "        out = out.view(-1, out.shape[2]) # shape (128*seqlen, 18)\n",
        "        out = F.log_softmax(out, dim=1) # take the softmax across the dimension num_class, 'out' has dimension(batchsize, seq_len, num_class)\n",
        "        return out\n",
        "        \n",
        "        "
      ],
      "execution_count": 37,
      "outputs": []
    },
    {
      "cell_type": "code",
      "metadata": {
        "id": "d6byqGo9vypd"
      },
      "source": [
        "model = BiLSTM(embedding_size = 100, hidden_size = 100, total_words = len(vocab), num_class = 18, pretrained = True, pretrained_embed = word_embeds, char_embed_size = len(char_vocab), pretr_char_embed = char_onehot).to(device)\n",
        "# optimizer = torch.optim.SGD(model.parameters(), lr = 0.1)\n",
        "optimizer = torch.optim.Adam(model.parameters(), lr = 0.001)\n",
        "scheduler = torch.optim.lr_scheduler.ReduceLROnPlateau(optimizer, 'min', patience=3) \n",
        "# lossfunction = nn.CrossEntropyLoss(weight = weight)\n",
        "lossfunction = nn.CrossEntropyLoss()\n",
        "\n",
        "\n",
        "# print(model)\n",
        "def performance(y, ypred, nertags):\n",
        "    y = y.numpy()\n",
        "    ypred = ypred.numpy()\n",
        "    mask = (y != nertags['padtag']) * (y != nertags['O'])\n",
        "    y = y*mask\n",
        "    ypred = ypred*mask\n",
        "    acc = ((y==ypred)*mask).sum()/mask.sum()\n",
        "    microf1 = f1_score(y, ypred, labels = imp_classes, average='micro')\n",
        "    macrof1 = f1_score(y, ypred, labels = imp_classes, average='macro')\n",
        "\n",
        "    return acc, microf1, macrof1\n",
        "\n",
        "def validate(model, loader):\n",
        "    with torch.no_grad():\n",
        "        validloss = 0\n",
        "        acc = 0\n",
        "        microf1 = 0\n",
        "        macrof1 = 0\n",
        "        i = 0\n",
        "        for step, (X, Xchar, Y, xlen, xlen_char) in enumerate(loader):\n",
        "            Y = pack_padded_sequence(Y, xlen, batch_first=True, enforce_sorted=False)\n",
        "            Y, _ = pad_packed_sequence(Y, batch_first=True)\n",
        "            ypred = model(X.long().to(device), Xchar.to(device), xlen.to(device), xlen_char.to(device))#.permute(0, 2, 1)\n",
        "            vloss = lossfunction(ypred.to('cpu'), Y.view(-1).type(torch.LongTensor))\n",
        "            validloss+=vloss.item()\n",
        "            acc_, microf1_, macrof1_ = performance(Y.view(-1), torch.argmax(ypred.to('cpu'), dim = 1), nertags)\n",
        "            acc+=acc_\n",
        "            microf1 += microf1_\n",
        "            macrof1 += macrof1_\n",
        "            i+=1\n",
        "\n",
        "    return validloss/i, acc/i, microf1/i, macrof1/i"
      ],
      "execution_count": 69,
      "outputs": []
    },
    {
      "cell_type": "code",
      "metadata": {
        "id": "seMNHki0D0V2"
      },
      "source": [
        "trainlosslist = []\n",
        "trainacclist = [] #accuracy except pad, O\n",
        "trainmicrof1list = []\n",
        "trainmacrof1list = []\n",
        "\n",
        "\n",
        "validlosslist = []\n",
        "valacclist = []\n",
        "valmicrof1list = []\n",
        "valmacrof1list = []"
      ],
      "execution_count": 70,
      "outputs": []
    },
    {
      "cell_type": "code",
      "metadata": {
        "id": "rsMYRa5edXFF"
      },
      "source": [
        "# optimizer = torch.optim.Adam(model.parameters(), lr = 0.01)\n",
        "# optimizer = torch.optim.SGD(model.parameters(), lr = 0.001)"
      ],
      "execution_count": 71,
      "outputs": []
    },
    {
      "cell_type": "code",
      "metadata": {
        "colab": {
          "base_uri": "https://localhost:8080/",
          "height": 1000
        },
        "id": "QgudoA7Mvypd",
        "outputId": "238ebd6b-79b2-4b63-d43c-e3088bb1265a"
      },
      "source": [
        "# Model is ready now we have to train using cross entropy loss\n",
        "num_epochs = 35\n",
        "# validloss = []\n",
        "model.train()\n",
        "for epoch in range(num_epochs):\n",
        "    if(epoch == 10):\n",
        "        model.wordembed.weight.requires_grad = True\n",
        "    \n",
        "    totalloss, acc, microf1, macrof1 = 0, 0, 0, 0\n",
        "    for step, (Xbatch , Xchar ,Ybatch, xbatch_len, xlength_char) in enumerate(Trainloader):\n",
        "        #make gradients 0\n",
        "        optimizer.zero_grad()\n",
        "\n",
        "        Ybatch = pack_padded_sequence(Ybatch, xbatch_len, batch_first=True, enforce_sorted=False)\n",
        "        Ybatch, y_lengths = pad_packed_sequence(Ybatch, batch_first=True)\n",
        "\n",
        "        #get output from model and claculate loss\n",
        "        ypred = model(Xbatch.long().to(device), Xchar.to(device), xbatch_len.to(device), xlength_char.to(device))#.permute(0, 2, 1)\n",
        "        acc_, microf1_, macrof1_ = performance(Ybatch.view(-1), torch.argmax(ypred.to('cpu'), dim = 1), nertags)\n",
        "        acc+= acc_\n",
        "        microf1+=microf1_\n",
        "        macrof1+=macrof1_\n",
        "        if(step%20 == 0 and step !=0):\n",
        "            print(\"training accuracy = {}, microF1 = {}, macroF1 = {}\".format(acc/(step+1), microf1/(step+1), macrof1/(step+1)))\n",
        "        \n",
        "        loss = lossfunction(ypred.to('cpu'), Ybatch.view(-1).type(torch.LongTensor)) #Ybatch has dimension (batchsize, seqlen), ypred has dimension(batchsize, num_classes, seqlen)\n",
        "        totalloss += loss.item()\n",
        "\n",
        "        #backward and step\n",
        "        loss.backward()\n",
        "        nn.utils.clip_grad_norm_(model.parameters(), 5) # clip gradient to 5\n",
        "        optimizer.step()\n",
        "    \n",
        "    trainlosslist.append(totalloss/(step+1))\n",
        "    trainacclist.append(acc/(step+1))\n",
        "    trainmicrof1list.append(microf1/(step+1))\n",
        "    trainmacrof1list.append(macrof1/(step+1))\n",
        "\n",
        "    # model validation loss and scheduler step for learning rate change if required\n",
        "    val_loss, val_acc, val_microf1, val_macrof1  = validate(model, Devloader)\n",
        "    validlosslist.append(val_loss)\n",
        "    valacclist.append(val_acc)\n",
        "    valmicrof1list.append(val_microf1)\n",
        "    valmacrof1list.append(val_macrof1)\n",
        "    \n",
        "    # scheduler.step(val_loss)\n",
        "    print('\\nepoch = {}, training_loss = {}, validation_loss ={}, training_acc = {}, validation_acc ={}'.format(epoch, trainlosslist[-1], validlosslist[-1], trainacclist[-1], valacclist[-1]))        \n",
        "        \n",
        "        \n",
        "        "
      ],
      "execution_count": 72,
      "outputs": [
        {
          "output_type": "stream",
          "text": [
            "/usr/local/lib/python3.7/dist-packages/sklearn/metrics/_classification.py:1515: UndefinedMetricWarning: F-score is ill-defined and being set to 0.0 in labels with no true nor predicted samples. Use `zero_division` parameter to control this behavior.\n",
            "  average, \"true nor predicted\", 'F-score is', len(true_sum)\n"
          ],
          "name": "stderr"
        },
        {
          "output_type": "stream",
          "text": [
            "training accuracy = 0.007185301664850115, microF1 = 0.008002456770682878, macroF1 = 0.003810060500767568\n",
            "training accuracy = 0.003680276462484205, microF1 = 0.004098819321569279, macroF1 = 0.0019514944028321691\n",
            "training accuracy = 0.0024736284419975807, microF1 = 0.002754944134169516, macroF1 = 0.0013116601723953923\n",
            "training accuracy = 0.0018628559871833631, microF1 = 0.002074711014621487, macroF1 = 0.0009877934631619622\n",
            "training accuracy = 0.0014939736134836872, microF1 = 0.0016638771503400046, macroF1 = 0.0007921907971892964\n",
            "training accuracy = 0.0013452865022853418, microF1 = 0.0015844303375378913, macroF1 = 0.0007780038209435896\n",
            "training accuracy = 0.003823915807078532, microF1 = 0.006475014205366737, macroF1 = 0.0027056965368670856\n",
            "training accuracy = 0.01218494652560643, microF1 = 0.021287864424534196, macroF1 = 0.007734513507917541\n",
            "training accuracy = 0.02347846945012814, microF1 = 0.03994364485792317, macroF1 = 0.013947322344690153\n",
            "training accuracy = 0.03806512131121749, microF1 = 0.06217711140897576, macroF1 = 0.02193233206715422\n",
            "training accuracy = 0.05469335313146534, microF1 = 0.08618195178353845, macroF1 = 0.0309702273861446\n",
            "training accuracy = 0.07081029535687838, microF1 = 0.10863416388694813, macroF1 = 0.04003205198054606\n",
            "training accuracy = 0.08734173585169323, microF1 = 0.1308791775339709, macroF1 = 0.04887021380510322\n",
            "training accuracy = 0.1023292658694367, microF1 = 0.15062527412095567, macroF1 = 0.05700468964888634\n",
            "\n",
            "epoch = 0, training_loss = 0.33880086069049703, validation_loss =0.18848751623605944, training_acc = 0.10927948202363771, validation_acc =0.31859960669169557\n",
            "training accuracy = 0.3240395988457186, microF1 = 0.438664215609155, macroF1 = 0.18027064198389398\n",
            "training accuracy = 0.34158540926465886, microF1 = 0.456665705134169, macroF1 = 0.1885671533501713\n",
            "training accuracy = 0.34773791763860157, microF1 = 0.4625747690862169, macroF1 = 0.1947118315839754\n",
            "training accuracy = 0.353924766071258, microF1 = 0.4689544592979002, macroF1 = 0.199072620566109\n",
            "training accuracy = 0.36214486072612634, microF1 = 0.47709724830925926, macroF1 = 0.20523237230302815\n",
            "training accuracy = 0.36933414377030205, microF1 = 0.484422673993684, macroF1 = 0.21100807319844858\n",
            "training accuracy = 0.3757457307390824, microF1 = 0.4909135485298696, macroF1 = 0.2171152395591926\n",
            "training accuracy = 0.38124557742825554, microF1 = 0.49656819143759834, macroF1 = 0.22239533274776993\n",
            "training accuracy = 0.38671682462820367, microF1 = 0.501935467578206, macroF1 = 0.22677610203265783\n",
            "training accuracy = 0.3909879889232584, microF1 = 0.5062386188370983, macroF1 = 0.23053762878587003\n",
            "training accuracy = 0.39702217896581904, microF1 = 0.5121299446731187, macroF1 = 0.23535474058098987\n",
            "training accuracy = 0.40216785024630053, microF1 = 0.5173796206530642, macroF1 = 0.2396059065648036\n",
            "training accuracy = 0.40688416221587603, microF1 = 0.5220175983209183, macroF1 = 0.24317974811465265\n",
            "training accuracy = 0.41219903512277756, microF1 = 0.5272064061257312, macroF1 = 0.2468053470993657\n",
            "\n",
            "epoch = 1, training_loss = 0.16271041077641688, validation_loss =0.1526433676481247, training_acc = 0.4149151581245929, validation_acc =0.4912427337224981\n",
            "training accuracy = 0.48312810243357635, microF1 = 0.5973184265127048, macroF1 = 0.2976428444782765\n",
            "training accuracy = 0.4849608320267224, microF1 = 0.5979993301131967, macroF1 = 0.29812643687150664\n",
            "training accuracy = 0.488084336864129, microF1 = 0.6005616376258377, macroF1 = 0.3004696433718184\n",
            "training accuracy = 0.49060944905346754, microF1 = 0.602469189797086, macroF1 = 0.3014947036665075\n",
            "training accuracy = 0.4935806617919399, microF1 = 0.6060353449842094, macroF1 = 0.30417020505625936\n",
            "training accuracy = 0.4971745636467591, microF1 = 0.6096468582394473, macroF1 = 0.30708065295865017\n",
            "training accuracy = 0.5002435077469928, microF1 = 0.6120928936606348, macroF1 = 0.30846878797691163\n",
            "training accuracy = 0.5033727343996877, microF1 = 0.6147105621721062, macroF1 = 0.31059586101400494\n",
            "training accuracy = 0.5070688413828277, microF1 = 0.6180284878069225, macroF1 = 0.3126845981262601\n",
            "training accuracy = 0.5093133390842006, microF1 = 0.6197431399952841, macroF1 = 0.31468838449401676\n",
            "training accuracy = 0.509840082189427, microF1 = 0.6200029416035393, macroF1 = 0.31519306518699375\n",
            "training accuracy = 0.5111304526745702, microF1 = 0.6210481184405298, macroF1 = 0.3162903132572177\n",
            "training accuracy = 0.5129656375936533, microF1 = 0.6225813078202063, macroF1 = 0.31723932509502434\n",
            "training accuracy = 0.5149497488272298, microF1 = 0.6240875705424986, macroF1 = 0.3185526824533902\n",
            "\n",
            "epoch = 2, training_loss = 0.13691168242611015, validation_loss =0.1309043364887385, training_acc = 0.5161140125944492, validation_acc =0.534757195284836\n",
            "training accuracy = 0.5471780883561801, microF1 = 0.6510816200278406, macroF1 = 0.3343222145398524\n",
            "training accuracy = 0.5490673333164748, microF1 = 0.6516485678263164, macroF1 = 0.3372593821639091\n",
            "training accuracy = 0.5505304356501387, microF1 = 0.6531134249943896, macroF1 = 0.33941190903979696\n",
            "training accuracy = 0.5506967494847486, microF1 = 0.6527340317928075, macroF1 = 0.3397720586988636\n",
            "training accuracy = 0.5524595872127088, microF1 = 0.6538437429742443, macroF1 = 0.34033637396253275\n",
            "training accuracy = 0.5548850511074339, microF1 = 0.6560407250986517, macroF1 = 0.34148547274358926\n",
            "training accuracy = 0.5569165812379331, microF1 = 0.65752205891206, macroF1 = 0.342808803052115\n",
            "training accuracy = 0.5585664939998822, microF1 = 0.6587273747594299, macroF1 = 0.34335232787604064\n",
            "training accuracy = 0.5605509874052699, microF1 = 0.6604100236775184, macroF1 = 0.343821494227552\n",
            "training accuracy = 0.5613996968088717, microF1 = 0.660942148438763, macroF1 = 0.3449602399105492\n",
            "training accuracy = 0.562601265144634, microF1 = 0.6620663378712395, macroF1 = 0.345596072613217\n",
            "training accuracy = 0.5651293408743829, microF1 = 0.6639871051539125, macroF1 = 0.34632854434623345\n",
            "training accuracy = 0.5661439803272181, microF1 = 0.664844395506412, macroF1 = 0.34659284160657133\n",
            "training accuracy = 0.5668826896977663, microF1 = 0.6653527733865748, macroF1 = 0.3468764680119911\n",
            "\n",
            "epoch = 3, training_loss = 0.12170519192040581, validation_loss =0.1216327110977517, training_acc = 0.5673095401494966, validation_acc =0.5805107265228103\n",
            "training accuracy = 0.5933266219631174, microF1 = 0.6841295338257678, macroF1 = 0.35846450892909015\n",
            "training accuracy = 0.5925030330592818, microF1 = 0.6845686650242491, macroF1 = 0.35991416720725766\n",
            "training accuracy = 0.5949879270684901, microF1 = 0.6868165028052216, macroF1 = 0.36060514072839517\n",
            "training accuracy = 0.5925417350987322, microF1 = 0.6847928077179541, macroF1 = 0.36005968733508553\n",
            "training accuracy = 0.5928649289663699, microF1 = 0.6851012927297065, macroF1 = 0.3603798061481625\n",
            "training accuracy = 0.5933099489894642, microF1 = 0.6852468140187983, macroF1 = 0.3601389453196629\n",
            "training accuracy = 0.5933546048713033, microF1 = 0.6850200389357664, macroF1 = 0.35960631192333153\n",
            "training accuracy = 0.5941162586452098, microF1 = 0.6859319769790426, macroF1 = 0.36019535840069666\n",
            "training accuracy = 0.5961560267147172, microF1 = 0.6876973124809703, macroF1 = 0.361467365014654\n",
            "training accuracy = 0.5977955416732642, microF1 = 0.6890905014479259, macroF1 = 0.36235360011997597\n",
            "training accuracy = 0.5985371694502117, microF1 = 0.6896625975601924, macroF1 = 0.3632673200990375\n",
            "training accuracy = 0.6000700944257416, microF1 = 0.6910040084380907, macroF1 = 0.36417869921654383\n",
            "training accuracy = 0.6001400719236193, microF1 = 0.6909815617386774, macroF1 = 0.36468139948901185\n",
            "training accuracy = 0.601168300801818, microF1 = 0.6917884084662063, macroF1 = 0.36497926195737596\n",
            "\n",
            "epoch = 4, training_loss = 0.11256131915138759, validation_loss =0.11361181167597623, training_acc = 0.6018038111993596, validation_acc =0.5936352228434295\n",
            "training accuracy = 0.6032409223585914, microF1 = 0.6921866442834117, macroF1 = 0.3673903125417209\n",
            "training accuracy = 0.6158698390091926, microF1 = 0.7030974941069031, macroF1 = 0.3750679363320115\n",
            "training accuracy = 0.6193627859205183, microF1 = 0.7067116215662224, macroF1 = 0.3779782253092302\n",
            "training accuracy = 0.6183704834164125, microF1 = 0.705230671559709, macroF1 = 0.37654263444168407\n",
            "training accuracy = 0.6183622932447964, microF1 = 0.704812263180208, macroF1 = 0.37582962631118527\n",
            "training accuracy = 0.6191652681281302, microF1 = 0.7052087305112721, macroF1 = 0.37525930085696424\n",
            "training accuracy = 0.6199478820360017, microF1 = 0.705817766684254, macroF1 = 0.37613311684205775\n",
            "training accuracy = 0.6200139514429154, microF1 = 0.7059146437258088, macroF1 = 0.3766759222911647\n",
            "training accuracy = 0.6214311725795173, microF1 = 0.7072961373319154, macroF1 = 0.37727808230940474\n",
            "training accuracy = 0.6220303604578715, microF1 = 0.7076587819039238, macroF1 = 0.3769360010337034\n",
            "training accuracy = 0.6239545246510279, microF1 = 0.7094592852224846, macroF1 = 0.3779051515395132\n",
            "training accuracy = 0.6237635382174571, microF1 = 0.7092875214418152, macroF1 = 0.37774362347948465\n",
            "training accuracy = 0.6244791820618931, microF1 = 0.7098068410551504, macroF1 = 0.37817180765463265\n",
            "training accuracy = 0.6249142975560296, microF1 = 0.7101720756837671, macroF1 = 0.3785391508999388\n",
            "\n",
            "epoch = 5, training_loss = 0.10459268998188251, validation_loss =0.10626490391099576, training_acc = 0.6254010969841258, validation_acc =0.6293809501735644\n",
            "training accuracy = 0.6367444999930221, microF1 = 0.7189133040843091, macroF1 = 0.3871097014691862\n",
            "training accuracy = 0.6348217098404482, microF1 = 0.7165744512653006, macroF1 = 0.38601336944844955\n",
            "training accuracy = 0.6359401639482477, microF1 = 0.7175335079703696, macroF1 = 0.38606376500906153\n",
            "training accuracy = 0.6360141491093152, microF1 = 0.7175677445166478, macroF1 = 0.3859407553433769\n",
            "training accuracy = 0.6372658928185466, microF1 = 0.7186294204713544, macroF1 = 0.3863110865562389\n",
            "training accuracy = 0.6361457267634841, microF1 = 0.7176898453124325, macroF1 = 0.38579695140973336\n",
            "training accuracy = 0.6368866004090974, microF1 = 0.7183330251340597, macroF1 = 0.3862231788864606\n",
            "training accuracy = 0.6371252877540382, microF1 = 0.7186075251146801, macroF1 = 0.38623761275975366\n",
            "training accuracy = 0.6391781070150243, microF1 = 0.7201290491752474, macroF1 = 0.386807700039008\n",
            "training accuracy = 0.6401830026852099, microF1 = 0.7210442096262769, macroF1 = 0.3872742147235347\n",
            "training accuracy = 0.6411652409742424, microF1 = 0.721886608553513, macroF1 = 0.3875162600374311\n",
            "training accuracy = 0.6420152146032666, microF1 = 0.7223824470843283, macroF1 = 0.3877744659417713\n",
            "training accuracy = 0.6425943733499716, microF1 = 0.72273367505465, macroF1 = 0.3880617823598754\n",
            "training accuracy = 0.6428170765995642, microF1 = 0.7230395100508158, macroF1 = 0.3882592661202334\n",
            "\n",
            "epoch = 6, training_loss = 0.09979717661322597, validation_loss =0.10363746011994548, training_acc = 0.643581327814926, validation_acc =0.6456739667803503\n",
            "training accuracy = 0.6582056187524216, microF1 = 0.7341410361976098, macroF1 = 0.3949674501452951\n",
            "training accuracy = 0.6540609832338571, microF1 = 0.7313063317867982, macroF1 = 0.39304971521169163\n",
            "training accuracy = 0.6539303322777299, microF1 = 0.7320900566385413, macroF1 = 0.39379082200907845\n",
            "training accuracy = 0.6551705019215562, microF1 = 0.7333373790808548, macroF1 = 0.3949429432883496\n",
            "training accuracy = 0.6546076587450825, microF1 = 0.7326570769521147, macroF1 = 0.39461281783034546\n",
            "training accuracy = 0.6543337050620367, microF1 = 0.7321504605367491, macroF1 = 0.3942430324202117\n",
            "training accuracy = 0.6567052042457341, microF1 = 0.7339956579222429, macroF1 = 0.3957206813529559\n",
            "training accuracy = 0.6573458339403527, microF1 = 0.734685408164922, macroF1 = 0.3962252525596728\n",
            "training accuracy = 0.6568594364014564, microF1 = 0.7342976071289137, macroF1 = 0.3958486208555212\n",
            "training accuracy = 0.6571982750107719, microF1 = 0.7344805448496207, macroF1 = 0.39583148469254437\n",
            "training accuracy = 0.6579313145093363, microF1 = 0.7349566369981023, macroF1 = 0.3961773855420293\n",
            "training accuracy = 0.6585419176729717, microF1 = 0.7354515767820236, macroF1 = 0.3967094156859912\n",
            "training accuracy = 0.657813977020953, microF1 = 0.734744041076313, macroF1 = 0.3963196376439622\n",
            "training accuracy = 0.6581610845209807, microF1 = 0.7350111445980976, macroF1 = 0.3967339670127581\n",
            "\n",
            "epoch = 7, training_loss = 0.09568991021755635, validation_loss =0.10161320988050442, training_acc = 0.6587180888045314, validation_acc =0.6579661982982624\n",
            "training accuracy = 0.6720177138485368, microF1 = 0.746191486009653, macroF1 = 0.40378049635481894\n",
            "training accuracy = 0.6699534173717567, microF1 = 0.7447998542320006, macroF1 = 0.4018781233542189\n",
            "training accuracy = 0.6683626108010253, microF1 = 0.7431919935093483, macroF1 = 0.4005558722937101\n",
            "training accuracy = 0.6708974703943094, microF1 = 0.7447305412827473, macroF1 = 0.4016693333452593\n",
            "training accuracy = 0.6707082528088921, microF1 = 0.7444799166372447, macroF1 = 0.4018990577737504\n",
            "training accuracy = 0.6694334954652783, microF1 = 0.7430255902896098, macroF1 = 0.4016009589432672\n",
            "training accuracy = 0.6697096665039006, microF1 = 0.7429793743258697, macroF1 = 0.40147706530237126\n",
            "training accuracy = 0.6691666132319328, microF1 = 0.7428028349585487, macroF1 = 0.4010756261913545\n",
            "training accuracy = 0.6697592687164998, microF1 = 0.7433315337289306, macroF1 = 0.40177393536647116\n",
            "training accuracy = 0.6709775378617416, microF1 = 0.7443220111769544, macroF1 = 0.4022472381819902\n",
            "training accuracy = 0.671496420331589, microF1 = 0.7448891844014204, macroF1 = 0.4028541806772544\n",
            "training accuracy = 0.6708470211246901, microF1 = 0.7442005350476883, macroF1 = 0.4025721038035881\n",
            "training accuracy = 0.6705622839851031, microF1 = 0.7439351777966607, macroF1 = 0.4026199622735748\n",
            "training accuracy = 0.6711874775629709, microF1 = 0.7443208953464121, macroF1 = 0.40297889349819666\n",
            "\n",
            "epoch = 8, training_loss = 0.09289078959791931, validation_loss =0.09795984595092301, training_acc = 0.671478954430917, validation_acc =0.6779837635659715\n",
            "training accuracy = 0.6824855323690328, microF1 = 0.7556647180921818, macroF1 = 0.40840435720803386\n",
            "training accuracy = 0.6799310233166218, microF1 = 0.7519755454139584, macroF1 = 0.40576176888169196\n",
            "training accuracy = 0.6799384949755402, microF1 = 0.7516093867096455, macroF1 = 0.40722182264159246\n",
            "training accuracy = 0.6821467845697058, microF1 = 0.7541398402233466, macroF1 = 0.4088255198671754\n",
            "training accuracy = 0.6813430536887863, microF1 = 0.753302142249639, macroF1 = 0.40867080338206724\n",
            "training accuracy = 0.6805829883160583, microF1 = 0.7520039030042208, macroF1 = 0.40922518755350307\n",
            "training accuracy = 0.6796116862503078, microF1 = 0.7510939548057075, macroF1 = 0.4089273024776995\n",
            "training accuracy = 0.6798056257940978, microF1 = 0.7510898782591028, macroF1 = 0.409027145183264\n",
            "training accuracy = 0.6790486403149616, microF1 = 0.7504589297301748, macroF1 = 0.4084414603830728\n",
            "training accuracy = 0.6801669901932758, microF1 = 0.7512833797124228, macroF1 = 0.4089219722323309\n",
            "training accuracy = 0.68039587474182, microF1 = 0.7515693850030698, macroF1 = 0.4091383668561274\n",
            "training accuracy = 0.6808109571387734, microF1 = 0.7520004795370651, macroF1 = 0.40968272127421324\n",
            "training accuracy = 0.6807051013443256, microF1 = 0.751929054656208, macroF1 = 0.40929226289605836\n",
            "training accuracy = 0.6802174402425519, microF1 = 0.7514942013307682, macroF1 = 0.4089953026103054\n",
            "\n",
            "epoch = 9, training_loss = 0.08945771571748036, validation_loss =0.09484048821416098, training_acc = 0.6812102321754533, validation_acc =0.669418026743646\n",
            "training accuracy = 0.6907901260303427, microF1 = 0.7622895225321427, macroF1 = 0.4157056504878831\n",
            "training accuracy = 0.6889544369324099, microF1 = 0.7610377841764377, macroF1 = 0.4164821851052025\n",
            "training accuracy = 0.6887268819934182, microF1 = 0.7591098356405616, macroF1 = 0.41680744980510664\n",
            "training accuracy = 0.6896406963799714, microF1 = 0.7594247394305684, macroF1 = 0.41698392896374376\n",
            "training accuracy = 0.6934080211233022, microF1 = 0.7619089908418082, macroF1 = 0.41745497919178093\n",
            "training accuracy = 0.6951883246361159, microF1 = 0.7628586367920297, macroF1 = 0.4174837703303873\n",
            "training accuracy = 0.6966981935707057, microF1 = 0.7641155326774814, macroF1 = 0.41903409014611953\n",
            "training accuracy = 0.6982812928666722, microF1 = 0.765347674425185, macroF1 = 0.419506364125731\n",
            "training accuracy = 0.6998383885470705, microF1 = 0.7664030875857171, macroF1 = 0.41999298756071335\n",
            "training accuracy = 0.7003017694970806, microF1 = 0.7666798229621501, macroF1 = 0.42044663736875676\n",
            "training accuracy = 0.7012952187591873, microF1 = 0.7672758569174897, macroF1 = 0.42082192138156965\n",
            "training accuracy = 0.702574961775757, microF1 = 0.7681809179946294, macroF1 = 0.42176328195038254\n",
            "training accuracy = 0.7038496962033421, microF1 = 0.7692443822613461, macroF1 = 0.4226735071345573\n",
            "training accuracy = 0.7046316610120089, microF1 = 0.769610386387863, macroF1 = 0.4233143429939517\n",
            "\n",
            "epoch = 10, training_loss = 0.08339305133702829, validation_loss =0.08547857373031144, training_acc = 0.7052462110218768, validation_acc =0.714714298383838\n",
            "training accuracy = 0.7187726109080796, microF1 = 0.7781381256462746, macroF1 = 0.43223896090030706\n",
            "training accuracy = 0.7255626856475339, microF1 = 0.7840927467073161, macroF1 = 0.4360322398206476\n",
            "training accuracy = 0.7232186360386734, microF1 = 0.7822388799412163, macroF1 = 0.44126103889978724\n",
            "training accuracy = 0.7230298396838137, microF1 = 0.7819596103869051, macroF1 = 0.4402339100450995\n",
            "training accuracy = 0.7227955578962746, microF1 = 0.781498158322623, macroF1 = 0.4422452107796515\n",
            "training accuracy = 0.7253529527516975, microF1 = 0.7833362974860688, macroF1 = 0.4427446103613827\n",
            "training accuracy = 0.7265367483148936, microF1 = 0.7840390850692777, macroF1 = 0.4425816513931721\n",
            "training accuracy = 0.7262008271564072, microF1 = 0.7839144326329901, macroF1 = 0.44284364954034267\n",
            "training accuracy = 0.7273337713794044, microF1 = 0.7848850832373329, macroF1 = 0.4439030621498406\n",
            "training accuracy = 0.7284601278077694, microF1 = 0.7858276633696814, macroF1 = 0.44496764088676816\n",
            "training accuracy = 0.7289489673879441, microF1 = 0.7863399097182068, macroF1 = 0.4448000588706574\n",
            "training accuracy = 0.7297102143550245, microF1 = 0.7869765328320836, macroF1 = 0.44461564398427506\n",
            "training accuracy = 0.7307625655666439, microF1 = 0.7877620338556568, macroF1 = 0.4445831105968665\n",
            "training accuracy = 0.7312680913890989, microF1 = 0.7880451865647748, macroF1 = 0.44477900135899984\n",
            "\n",
            "epoch = 11, training_loss = 0.07454044376964011, validation_loss =0.08124312335990139, training_acc = 0.7317823359190445, validation_acc =0.7365227567088993\n",
            "training accuracy = 0.7569695102976062, microF1 = 0.8097010670799085, macroF1 = 0.46408735222007164\n",
            "training accuracy = 0.7560457664034819, microF1 = 0.8083145219811159, macroF1 = 0.46559495269775286\n",
            "training accuracy = 0.7535177833458012, microF1 = 0.8059503911813569, macroF1 = 0.4640428660745001\n",
            "training accuracy = 0.7512122690526307, microF1 = 0.8039641532554521, macroF1 = 0.46421823444519844\n",
            "training accuracy = 0.7529071472574576, microF1 = 0.8051473301835885, macroF1 = 0.46168632070872556\n",
            "training accuracy = 0.7509743337887311, microF1 = 0.8035070350074097, macroF1 = 0.46029481216342905\n",
            "training accuracy = 0.7510044961529212, microF1 = 0.8035572433408488, macroF1 = 0.4598369950996606\n",
            "training accuracy = 0.7508416341918792, microF1 = 0.8035035159245644, macroF1 = 0.4599343767703295\n",
            "training accuracy = 0.74989982784117, microF1 = 0.8027890252867455, macroF1 = 0.4580575546578457\n",
            "training accuracy = 0.7500091526613295, microF1 = 0.8027123965901842, macroF1 = 0.4570753464532103\n",
            "training accuracy = 0.7501142614415999, microF1 = 0.8027017741342156, macroF1 = 0.4577499494126992\n",
            "training accuracy = 0.7493989779033972, microF1 = 0.8019090662423137, macroF1 = 0.4579485529922308\n",
            "training accuracy = 0.7489628699874277, microF1 = 0.8013802877263992, macroF1 = 0.4577265185665509\n",
            "training accuracy = 0.7493524534481202, microF1 = 0.801556671122272, macroF1 = 0.4575887765270758\n",
            "\n",
            "epoch = 12, training_loss = 0.06919600666081373, validation_loss =0.07809429488999327, training_acc = 0.7497047953837858, validation_acc =0.743183340565859\n",
            "training accuracy = 0.7605970466056802, microF1 = 0.8097250216372365, macroF1 = 0.46795858669660473\n",
            "training accuracy = 0.7564606285366408, microF1 = 0.8072071304728897, macroF1 = 0.4679524619953787\n",
            "training accuracy = 0.7582308130739649, microF1 = 0.8091945317641571, macroF1 = 0.46822696032813643\n",
            "training accuracy = 0.7542219413773703, microF1 = 0.8049073536524931, macroF1 = 0.4646865400953659\n",
            "training accuracy = 0.7584856759651314, microF1 = 0.8085023945173244, macroF1 = 0.46498738970157616\n",
            "training accuracy = 0.75962839875781, microF1 = 0.8094126414905416, macroF1 = 0.46541877857925223\n",
            "training accuracy = 0.7614406870631563, microF1 = 0.8106714025840265, macroF1 = 0.465834144862083\n",
            "training accuracy = 0.761119229072993, microF1 = 0.8103807838586886, macroF1 = 0.46588932205926653\n",
            "training accuracy = 0.7613731562902106, microF1 = 0.8106282656348178, macroF1 = 0.4661642048414516\n",
            "training accuracy = 0.7614813493650501, microF1 = 0.810671300466891, macroF1 = 0.46512473753812716\n",
            "training accuracy = 0.7608825850678401, microF1 = 0.8100794126493654, macroF1 = 0.4651743973310755\n",
            "training accuracy = 0.7619823139715413, microF1 = 0.8107547159166502, macroF1 = 0.46600172308802107\n",
            "training accuracy = 0.7622759512111882, microF1 = 0.8108890502507309, macroF1 = 0.4665396392353187\n",
            "training accuracy = 0.7625625286592134, microF1 = 0.8109007694626434, macroF1 = 0.46658642776748743\n",
            "\n",
            "epoch = 13, training_loss = 0.06596215755464285, validation_loss =0.07470654208481926, training_acc = 0.7626930187658736, validation_acc =0.7558502575090982\n",
            "training accuracy = 0.7755878456466744, microF1 = 0.8220275704224009, macroF1 = 0.48179211845147746\n",
            "training accuracy = 0.7747903318991726, microF1 = 0.8200184717128136, macroF1 = 0.48134239755969765\n",
            "training accuracy = 0.7750394985658505, microF1 = 0.8212236203331301, macroF1 = 0.479339155282076\n",
            "training accuracy = 0.7737740461293549, microF1 = 0.8196459816747591, macroF1 = 0.4798426838444288\n",
            "training accuracy = 0.7743586268906982, microF1 = 0.8206244720351877, macroF1 = 0.47770003499701374\n",
            "training accuracy = 0.7746734384864639, microF1 = 0.8208635708982195, macroF1 = 0.4784634040815914\n",
            "training accuracy = 0.7746417473691901, microF1 = 0.8210195343034944, macroF1 = 0.477727086675868\n",
            "training accuracy = 0.7748297757037351, microF1 = 0.820628282164627, macroF1 = 0.4774071291806488\n",
            "training accuracy = 0.7739583465125964, microF1 = 0.819858807471328, macroF1 = 0.4772804240628723\n",
            "training accuracy = 0.7741195231591901, microF1 = 0.8201071124822568, macroF1 = 0.47709678769876535\n",
            "training accuracy = 0.7745677408073869, microF1 = 0.8205718200552756, macroF1 = 0.4764424182548236\n",
            "training accuracy = 0.774499883475503, microF1 = 0.8204818131998419, macroF1 = 0.4764736890353747\n",
            "training accuracy = 0.7746802095146786, microF1 = 0.8207428357638998, macroF1 = 0.47638241855343344\n",
            "training accuracy = 0.7750000897360515, microF1 = 0.8207516371369655, macroF1 = 0.4759604679857528\n",
            "\n",
            "epoch = 14, training_loss = 0.062280336548526265, validation_loss =0.07337161276451092, training_acc = 0.7749585859652927, validation_acc =0.7591395466438934\n",
            "training accuracy = 0.78205084534665, microF1 = 0.8267465840124111, macroF1 = 0.46573407837509234\n",
            "training accuracy = 0.7886073195192116, microF1 = 0.8327636454525121, macroF1 = 0.4755352113433558\n",
            "training accuracy = 0.7859625865117309, microF1 = 0.8305573273020843, macroF1 = 0.4776908162838579\n",
            "training accuracy = 0.7862840166866912, microF1 = 0.8308167679220697, macroF1 = 0.47834981533468474\n",
            "training accuracy = 0.7840641093502758, microF1 = 0.8285334320068095, macroF1 = 0.47992435572469583\n",
            "training accuracy = 0.7849838639821416, microF1 = 0.829438183102398, macroF1 = 0.48137626712424225\n",
            "training accuracy = 0.7837181890291277, microF1 = 0.8282378276917771, macroF1 = 0.4833590947856452\n",
            "training accuracy = 0.7839428274406595, microF1 = 0.8282845091516631, macroF1 = 0.48387464245269063\n",
            "training accuracy = 0.783053596573125, microF1 = 0.8274739282647477, macroF1 = 0.4825705877375337\n",
            "training accuracy = 0.7830484434149023, microF1 = 0.8272344620614935, macroF1 = 0.4809734353383388\n",
            "training accuracy = 0.7839787941015814, microF1 = 0.8279820412808749, macroF1 = 0.481836126365623\n",
            "training accuracy = 0.7835682318337628, microF1 = 0.827538807626013, macroF1 = 0.4818403022265106\n",
            "training accuracy = 0.7825710150634674, microF1 = 0.826483197535808, macroF1 = 0.48167419420431357\n",
            "training accuracy = 0.7821262966792668, microF1 = 0.8260179497525684, macroF1 = 0.48118020070769696\n",
            "\n",
            "epoch = 15, training_loss = 0.05957323214186426, validation_loss =0.07082152024833198, training_acc = 0.7817710659517181, validation_acc =0.7597849284367695\n",
            "training accuracy = 0.7940726682749288, microF1 = 0.8362815007715833, macroF1 = 0.49376055518021644\n",
            "training accuracy = 0.7905945212016182, microF1 = 0.833259054093169, macroF1 = 0.4934716507876883\n",
            "training accuracy = 0.7867220949047324, microF1 = 0.8287049403189798, macroF1 = 0.4902580781195966\n",
            "training accuracy = 0.7894542801495921, microF1 = 0.8308817550226584, macroF1 = 0.49051962393314247\n",
            "training accuracy = 0.7905968639593568, microF1 = 0.831844696025551, macroF1 = 0.49225080192617693\n",
            "training accuracy = 0.7907352366248886, microF1 = 0.8323249421840859, macroF1 = 0.49039879127665426\n",
            "training accuracy = 0.790689031296146, microF1 = 0.8323680884116477, macroF1 = 0.4911048594422733\n",
            "training accuracy = 0.7900524862606805, microF1 = 0.8318141109710699, macroF1 = 0.4907052835659368\n",
            "training accuracy = 0.7901781425397572, microF1 = 0.8320028555744454, macroF1 = 0.4906710181949079\n",
            "training accuracy = 0.789741246622569, microF1 = 0.8316619714248903, macroF1 = 0.49289984974025247\n",
            "training accuracy = 0.7901174597176138, microF1 = 0.8317041724846679, macroF1 = 0.49223568740574153\n",
            "training accuracy = 0.7902912194962585, microF1 = 0.8319525526954309, macroF1 = 0.49166100909152893\n",
            "training accuracy = 0.7902596385905843, microF1 = 0.8321036289348115, macroF1 = 0.49136556833883177\n",
            "training accuracy = 0.7896841105912502, microF1 = 0.8315339806706489, macroF1 = 0.4896247504347039\n",
            "\n",
            "epoch = 16, training_loss = 0.05723858738631727, validation_loss =0.06910799939146976, training_acc = 0.7900001656476073, validation_acc =0.7645839972681397\n",
            "training accuracy = 0.8044754973948491, microF1 = 0.8440321865058251, macroF1 = 0.496142029982774\n",
            "training accuracy = 0.8045433244720752, microF1 = 0.844160193499748, macroF1 = 0.5008852727851357\n",
            "training accuracy = 0.8015062269630872, microF1 = 0.8413624660658502, macroF1 = 0.4935451494360377\n",
            "training accuracy = 0.7994063736352487, microF1 = 0.8395676937325962, macroF1 = 0.4920002143885477\n",
            "training accuracy = 0.7993481844405034, microF1 = 0.8394474616254274, macroF1 = 0.4911544666279721\n",
            "training accuracy = 0.7991197785042473, microF1 = 0.8395772729346426, macroF1 = 0.4919859164264836\n",
            "training accuracy = 0.7977353939465407, microF1 = 0.8385323582073986, macroF1 = 0.49079058675504417\n",
            "training accuracy = 0.7969841357269615, microF1 = 0.8378675451076368, macroF1 = 0.49057230264916263\n",
            "training accuracy = 0.7975475195742722, microF1 = 0.8381014985411055, macroF1 = 0.4906926258905206\n",
            "training accuracy = 0.7972870752549414, microF1 = 0.8377052194670221, macroF1 = 0.49178405732627634\n",
            "training accuracy = 0.797094710204904, microF1 = 0.8375805928302714, macroF1 = 0.49100089772301714\n",
            "training accuracy = 0.7971623508515242, microF1 = 0.8375410858932311, macroF1 = 0.4912984784436578\n",
            "training accuracy = 0.7984262217280044, microF1 = 0.8386419828659856, macroF1 = 0.4913801097061473\n",
            "training accuracy = 0.7984841032680714, microF1 = 0.8386747493308956, macroF1 = 0.49108116944009705\n",
            "\n",
            "epoch = 17, training_loss = 0.054935376886342396, validation_loss =0.06943862401333052, training_acc = 0.7983083028109178, validation_acc =0.7703475237805273\n",
            "training accuracy = 0.8017652056577502, microF1 = 0.8418424129430278, macroF1 = 0.4889853933965612\n",
            "training accuracy = 0.8009968274436601, microF1 = 0.8414907036116613, macroF1 = 0.4961710290768294\n",
            "training accuracy = 0.8014648221972082, microF1 = 0.8417294175492357, macroF1 = 0.5015123707358355\n",
            "training accuracy = 0.8034016922654614, microF1 = 0.8430318267697005, macroF1 = 0.5066609459126203\n",
            "training accuracy = 0.8030319505356546, microF1 = 0.8424905188228022, macroF1 = 0.5045166492826535\n",
            "training accuracy = 0.8029978687673218, microF1 = 0.8427685404738616, macroF1 = 0.5040083042331619\n",
            "training accuracy = 0.8020187495093207, microF1 = 0.8415961208871853, macroF1 = 0.5038008693602412\n",
            "training accuracy = 0.8016567650333598, microF1 = 0.8413706454709474, macroF1 = 0.5006995692358733\n",
            "training accuracy = 0.8010690349168669, microF1 = 0.8407919826936202, macroF1 = 0.4998010057377953\n",
            "training accuracy = 0.8019533693518037, microF1 = 0.8416917833726736, macroF1 = 0.4988895864842295\n",
            "training accuracy = 0.8017954467499545, microF1 = 0.841407555434536, macroF1 = 0.4971892123607789\n",
            "training accuracy = 0.8017471589204379, microF1 = 0.841226666399273, macroF1 = 0.4978406325245549\n",
            "training accuracy = 0.8021003822533623, microF1 = 0.841377328324333, macroF1 = 0.4987948119859957\n",
            "training accuracy = 0.8023303236072776, microF1 = 0.841658597680847, macroF1 = 0.4985149671078578\n",
            "\n",
            "epoch = 18, training_loss = 0.05309715648773814, validation_loss =0.06818846547880124, training_acc = 0.8020904237465137, validation_acc =0.776216085252686\n",
            "training accuracy = 0.8192478588360508, microF1 = 0.8551273117006772, macroF1 = 0.5290214307169551\n",
            "training accuracy = 0.8178469496085783, microF1 = 0.8539668110126888, macroF1 = 0.5183107252864745\n",
            "training accuracy = 0.8159547298894713, microF1 = 0.8529185951402487, macroF1 = 0.5100091805465043\n",
            "training accuracy = 0.8130125968780669, microF1 = 0.8501001715390885, macroF1 = 0.5071406940700506\n",
            "training accuracy = 0.8137809193918024, microF1 = 0.8509353613660089, macroF1 = 0.505438387423684\n",
            "training accuracy = 0.8127015790489789, microF1 = 0.8501236881887873, macroF1 = 0.5051654670408202\n",
            "training accuracy = 0.8122334290408363, microF1 = 0.8497017239200114, macroF1 = 0.5052473141596012\n",
            "training accuracy = 0.8112303747727048, microF1 = 0.8486670309844064, macroF1 = 0.5052873353006795\n",
            "training accuracy = 0.8101175332755016, microF1 = 0.847747606201762, macroF1 = 0.50463946341965\n",
            "training accuracy = 0.8102646530111568, microF1 = 0.8480136162997097, macroF1 = 0.5061410386289332\n",
            "training accuracy = 0.810429074240917, microF1 = 0.8482698185648279, macroF1 = 0.5066422899641054\n",
            "training accuracy = 0.810789973362189, microF1 = 0.8483997836169795, macroF1 = 0.5054504732718909\n",
            "training accuracy = 0.8102065317500566, microF1 = 0.8478639501217191, macroF1 = 0.5043245923481009\n",
            "training accuracy = 0.8094430324509428, microF1 = 0.8471509239688761, macroF1 = 0.5034374510352516\n",
            "\n",
            "epoch = 19, training_loss = 0.05180743700885486, validation_loss =0.06725323891516813, training_acc = 0.8096935585290481, validation_acc =0.7725722829831799\n",
            "training accuracy = 0.8133496584517639, microF1 = 0.851811631726308, macroF1 = 0.4931859178171202\n",
            "training accuracy = 0.8146279782259342, microF1 = 0.8523475547743007, macroF1 = 0.5008623396793525\n",
            "training accuracy = 0.8187112787349136, microF1 = 0.8553446193583821, macroF1 = 0.5042802004709035\n",
            "training accuracy = 0.8175879819933768, microF1 = 0.8541943454971398, macroF1 = 0.5051742553568213\n",
            "training accuracy = 0.8161873794379625, microF1 = 0.8529502939211787, macroF1 = 0.5054465077152482\n",
            "training accuracy = 0.8171969226354014, microF1 = 0.853577480922115, macroF1 = 0.5057135096357052\n",
            "training accuracy = 0.8159469923415504, microF1 = 0.8527424675409028, macroF1 = 0.5049228899002925\n",
            "training accuracy = 0.816601274987503, microF1 = 0.8532505162454209, macroF1 = 0.5056302256130915\n",
            "training accuracy = 0.8155996945093387, microF1 = 0.8520798448871987, macroF1 = 0.5052061280113603\n",
            "training accuracy = 0.8159325298535789, microF1 = 0.8525350058082054, macroF1 = 0.5072219013501574\n",
            "training accuracy = 0.8154638494592569, microF1 = 0.8522854088636591, macroF1 = 0.5054979204556697\n",
            "training accuracy = 0.8155383859094226, microF1 = 0.852207927148827, macroF1 = 0.5060069354861927\n",
            "training accuracy = 0.8156351493449888, microF1 = 0.8522268809750243, macroF1 = 0.5091885382533253\n",
            "training accuracy = 0.8154994696306259, microF1 = 0.8520946465721434, macroF1 = 0.5094954455663894\n",
            "\n",
            "epoch = 20, training_loss = 0.050008101107175, validation_loss =0.06704650823142111, training_acc = 0.8157141975970192, validation_acc =0.7827758675213012\n",
            "training accuracy = 0.8149828407633586, microF1 = 0.8493884408981937, macroF1 = 0.5121864024734516\n",
            "training accuracy = 0.8169478770701069, microF1 = 0.8527261708037442, macroF1 = 0.511770771750864\n",
            "training accuracy = 0.8162037326649181, microF1 = 0.8521036029528483, macroF1 = 0.5094199002347826\n",
            "training accuracy = 0.8179398093438766, microF1 = 0.853756855229583, macroF1 = 0.5086106564288124\n",
            "training accuracy = 0.8178267014314933, microF1 = 0.8535357139657649, macroF1 = 0.5094607776963386\n",
            "training accuracy = 0.8172593642913315, microF1 = 0.8528969573228691, macroF1 = 0.5081633886852361\n",
            "training accuracy = 0.8178213944354219, microF1 = 0.8534608278095172, macroF1 = 0.5080253591073287\n",
            "training accuracy = 0.8190651543310824, microF1 = 0.8545457532647827, macroF1 = 0.5115481282465683\n",
            "training accuracy = 0.8202099398110155, microF1 = 0.8554400163320085, macroF1 = 0.51097889386287\n",
            "training accuracy = 0.8204177850729056, microF1 = 0.8556871372466721, macroF1 = 0.5114284635419517\n",
            "training accuracy = 0.8191301975230716, microF1 = 0.8546876839890072, macroF1 = 0.5101361823649165\n",
            "training accuracy = 0.8182355048667005, microF1 = 0.8540478187840924, macroF1 = 0.5099316135954272\n",
            "training accuracy = 0.8181621557721214, microF1 = 0.8539709312447904, macroF1 = 0.5110938985968585\n",
            "training accuracy = 0.8183302659634405, microF1 = 0.8541567796428444, macroF1 = 0.5111968432689249\n",
            "\n",
            "epoch = 21, training_loss = 0.04880817569920288, validation_loss =0.06647356814637627, training_acc = 0.8181655884814089, validation_acc =0.783306511999432\n",
            "training accuracy = 0.824447181448703, microF1 = 0.8587307955214987, macroF1 = 0.527577607168822\n",
            "training accuracy = 0.824741004454224, microF1 = 0.859250453585686, macroF1 = 0.5276364022967505\n",
            "training accuracy = 0.820313532234125, microF1 = 0.8552038241785717, macroF1 = 0.5141432355548683\n",
            "training accuracy = 0.8207856299335166, microF1 = 0.8560304761036024, macroF1 = 0.5167285406669884\n",
            "training accuracy = 0.8216210694383606, microF1 = 0.8567639635872867, macroF1 = 0.5146303972497515\n",
            "training accuracy = 0.8216777439616177, microF1 = 0.856844922049523, macroF1 = 0.517024204647101\n",
            "training accuracy = 0.8230251123208165, microF1 = 0.8579615623550748, macroF1 = 0.5210798515540637\n",
            "training accuracy = 0.823779702001783, microF1 = 0.858314591198228, macroF1 = 0.521547192116603\n",
            "training accuracy = 0.82514254489067, microF1 = 0.8594500581663763, macroF1 = 0.5227557062925373\n",
            "training accuracy = 0.8260034595317498, microF1 = 0.860142380861466, macroF1 = 0.5216042083781858\n",
            "training accuracy = 0.8256151063895224, microF1 = 0.8598406697370746, macroF1 = 0.5216744137927953\n",
            "training accuracy = 0.8256932584564063, microF1 = 0.8599699554136598, macroF1 = 0.5215034921246131\n",
            "training accuracy = 0.8254094530320711, microF1 = 0.8595905466440502, macroF1 = 0.5210525916030493\n",
            "training accuracy = 0.8254176056899495, microF1 = 0.8595057986082036, macroF1 = 0.5210386206168532\n",
            "\n",
            "epoch = 22, training_loss = 0.04691170903620441, validation_loss =0.06629058833896499, training_acc = 0.8257410687865189, validation_acc =0.7825659990067375\n",
            "training accuracy = 0.8246334841671925, microF1 = 0.8590024069640437, macroF1 = 0.5149147515329343\n",
            "training accuracy = 0.831329145224152, microF1 = 0.8638762537811601, macroF1 = 0.5135680241701215\n",
            "training accuracy = 0.8304385373446246, microF1 = 0.8631856099682086, macroF1 = 0.5162348545216981\n",
            "training accuracy = 0.8289692997043703, microF1 = 0.8622455496641295, macroF1 = 0.5119952388105399\n",
            "training accuracy = 0.8309656703311032, microF1 = 0.8638153939373727, macroF1 = 0.5139554779003062\n",
            "training accuracy = 0.8298696210084424, microF1 = 0.8630499974198975, macroF1 = 0.5144569641546866\n",
            "training accuracy = 0.8291148390896896, microF1 = 0.8623834999897545, macroF1 = 0.5145245179462817\n",
            "training accuracy = 0.8297018261871731, microF1 = 0.8629874138182001, macroF1 = 0.5179355991418882\n",
            "training accuracy = 0.8293795076562848, microF1 = 0.8628092668481352, macroF1 = 0.5202242532084582\n",
            "training accuracy = 0.8293498551273433, microF1 = 0.8627987862205829, macroF1 = 0.5189461021446091\n",
            "training accuracy = 0.8288219604449164, microF1 = 0.8623339938045977, macroF1 = 0.5199681638774358\n",
            "training accuracy = 0.8290803452922719, microF1 = 0.8625343174254377, macroF1 = 0.5209828848955498\n",
            "training accuracy = 0.8290212352345252, microF1 = 0.8624201314645923, macroF1 = 0.5202196583610064\n",
            "training accuracy = 0.8288116148786058, microF1 = 0.8621627371808906, macroF1 = 0.5208280990024268\n",
            "\n",
            "epoch = 23, training_loss = 0.04610501351379037, validation_loss =0.06611570281927119, training_acc = 0.8284682399781272, validation_acc =0.7772821400942047\n",
            "training accuracy = 0.8312948184991398, microF1 = 0.8628911241347679, macroF1 = 0.5051259201280853\n",
            "training accuracy = 0.8329396826031399, microF1 = 0.8650321621402666, macroF1 = 0.5152480476474484\n",
            "training accuracy = 0.8333729334927541, microF1 = 0.8652948624436083, macroF1 = 0.521383664376996\n",
            "training accuracy = 0.8330877101517299, microF1 = 0.8651529200748981, macroF1 = 0.5277360906451831\n",
            "training accuracy = 0.833389248272093, microF1 = 0.8653264157879408, macroF1 = 0.5261164927888483\n",
            "training accuracy = 0.8325085473725912, microF1 = 0.8647363198533652, macroF1 = 0.528352757672245\n",
            "training accuracy = 0.8330364251557613, microF1 = 0.8652813675388215, macroF1 = 0.5283658451293787\n",
            "training accuracy = 0.8333689787503251, microF1 = 0.8656999122732809, macroF1 = 0.5292734297768558\n",
            "training accuracy = 0.8331925259623433, microF1 = 0.8656229763465767, macroF1 = 0.527417731167167\n",
            "training accuracy = 0.8331550356815922, microF1 = 0.8655913340200889, macroF1 = 0.5269067007978424\n",
            "training accuracy = 0.8334145369780213, microF1 = 0.865832728522121, macroF1 = 0.5275211334669087\n",
            "training accuracy = 0.8331456197015591, microF1 = 0.8655698701178111, macroF1 = 0.5259440713567203\n",
            "training accuracy = 0.8326280162104658, microF1 = 0.8652148263777093, macroF1 = 0.5263348853515267\n",
            "training accuracy = 0.8327661891650875, microF1 = 0.8652666174141915, macroF1 = 0.5271638062093558\n",
            "\n",
            "epoch = 24, training_loss = 0.044962262261108436, validation_loss =0.06534463927610633, training_acc = 0.8327676756503085, validation_acc =0.7857369840485087\n",
            "training accuracy = 0.8468489953167814, microF1 = 0.8773286682934285, macroF1 = 0.5434631253335338\n",
            "training accuracy = 0.8427625912326678, microF1 = 0.874169198379361, macroF1 = 0.5423620956059488\n",
            "training accuracy = 0.8410568672769422, microF1 = 0.8724188517552305, macroF1 = 0.5385188073691229\n",
            "training accuracy = 0.8399830804240842, microF1 = 0.8718353483510732, macroF1 = 0.5372560251890528\n",
            "training accuracy = 0.8385282773361019, microF1 = 0.8702200918183253, macroF1 = 0.5381922608216678\n",
            "training accuracy = 0.8388064138995355, microF1 = 0.8704320537726887, macroF1 = 0.5367653972373523\n",
            "training accuracy = 0.8381269035105996, microF1 = 0.8701676207706367, macroF1 = 0.536555155880746\n",
            "training accuracy = 0.8379235475083078, microF1 = 0.8696966811884194, macroF1 = 0.5341111514379475\n",
            "training accuracy = 0.8369818371694475, microF1 = 0.8687714451011174, macroF1 = 0.5319278800389305\n",
            "training accuracy = 0.8362765134256614, microF1 = 0.8684092480652366, macroF1 = 0.5304292524807271\n",
            "training accuracy = 0.836940395442885, microF1 = 0.8689433516175876, macroF1 = 0.5304884894115647\n",
            "training accuracy = 0.837139232706013, microF1 = 0.8690306069429363, macroF1 = 0.5312746036715585\n",
            "training accuracy = 0.8370696753719369, microF1 = 0.8690787208123438, macroF1 = 0.5322909735019248\n",
            "training accuracy = 0.8370336772330944, microF1 = 0.8690343921284074, macroF1 = 0.5317261864450019\n",
            "\n",
            "epoch = 25, training_loss = 0.04387762515303196, validation_loss =0.06549539059861419, training_acc = 0.8367156980489882, validation_acc =0.7862807727528874\n",
            "training accuracy = 0.8408888199073095, microF1 = 0.873368985589593, macroF1 = 0.5318573921662628\n",
            "training accuracy = 0.8421473106864515, microF1 = 0.8736555526106726, macroF1 = 0.5272890801425129\n",
            "training accuracy = 0.8407939581871633, microF1 = 0.8733210524883355, macroF1 = 0.5252455780533987\n",
            "training accuracy = 0.8396225886043651, microF1 = 0.8717470135774392, macroF1 = 0.5248301871161141\n",
            "training accuracy = 0.8385139762124812, microF1 = 0.8703294672206563, macroF1 = 0.5265598461825581\n",
            "training accuracy = 0.8382068558946173, microF1 = 0.8699255312147747, macroF1 = 0.5282175975586304\n",
            "training accuracy = 0.8382627192094506, microF1 = 0.8699058148958828, macroF1 = 0.5298137439176327\n",
            "training accuracy = 0.8392131951844813, microF1 = 0.8705267152474185, macroF1 = 0.5312915175338062\n",
            "training accuracy = 0.839612411267025, microF1 = 0.870983324109014, macroF1 = 0.5331752297492407\n",
            "training accuracy = 0.8392410413284276, microF1 = 0.8706114654578462, macroF1 = 0.5337908495699295\n",
            "training accuracy = 0.8398865820111293, microF1 = 0.871224124650791, macroF1 = 0.5341006819667824\n",
            "training accuracy = 0.8397624505032606, microF1 = 0.8711129939579004, macroF1 = 0.53270034088459\n",
            "training accuracy = 0.8395464833826283, microF1 = 0.8710093809836443, macroF1 = 0.5323621840653328\n",
            "training accuracy = 0.8392339950894726, microF1 = 0.8707138815914643, macroF1 = 0.5335129763454116\n",
            "\n",
            "epoch = 26, training_loss = 0.043102504077441095, validation_loss =0.0650439713265478, training_acc = 0.8392104673009503, validation_acc =0.7771856877349215\n",
            "training accuracy = 0.8391331718550297, microF1 = 0.8700751278589183, macroF1 = 0.5495703790908072\n",
            "training accuracy = 0.8436093982648718, microF1 = 0.8738449945508754, macroF1 = 0.540307396983326\n",
            "training accuracy = 0.8449227780768201, microF1 = 0.8748799529700008, macroF1 = 0.5473434223044498\n",
            "training accuracy = 0.8466442471542961, microF1 = 0.8762373086813927, macroF1 = 0.550758484979786\n",
            "training accuracy = 0.8443480269306208, microF1 = 0.8744682932540354, macroF1 = 0.547156967419659\n",
            "training accuracy = 0.8429938138886623, microF1 = 0.8732356580110462, macroF1 = 0.5456326337673372\n",
            "training accuracy = 0.8433197257497016, microF1 = 0.8735943272389828, macroF1 = 0.5428993730244297\n",
            "training accuracy = 0.8429766490730167, microF1 = 0.873468933537437, macroF1 = 0.5429141132182185\n",
            "training accuracy = 0.84295577954222, microF1 = 0.8734041173059959, macroF1 = 0.5415253631734304\n",
            "training accuracy = 0.8433480536727492, microF1 = 0.8738082804874547, macroF1 = 0.5391567037130547\n",
            "training accuracy = 0.8432794161724727, microF1 = 0.873817492054543, macroF1 = 0.5391944273301477\n",
            "training accuracy = 0.8430635562885311, microF1 = 0.8735397799226264, macroF1 = 0.5378211237395816\n",
            "training accuracy = 0.8432480769394526, microF1 = 0.873628898181447, macroF1 = 0.537109806792594\n",
            "training accuracy = 0.8429467871302857, microF1 = 0.8734535208256254, macroF1 = 0.5369490074722035\n",
            "\n",
            "epoch = 27, training_loss = 0.04176541527291549, validation_loss =0.06572164894686532, training_acc = 0.8431581976688135, validation_acc =0.7847725312258617\n",
            "training accuracy = 0.8423662576641336, microF1 = 0.8711711111511824, macroF1 = 0.5404061491353618\n",
            "training accuracy = 0.8410519978671316, microF1 = 0.8707844049480608, macroF1 = 0.5463906336414819\n",
            "training accuracy = 0.841656304713209, microF1 = 0.8714713550251896, macroF1 = 0.5509512510933569\n",
            "training accuracy = 0.8436105393068504, microF1 = 0.8733637241671146, macroF1 = 0.5469224036482129\n",
            "training accuracy = 0.8450924281498146, microF1 = 0.874821219197937, macroF1 = 0.5463896795907118\n",
            "training accuracy = 0.8454197631684586, microF1 = 0.8750776615171828, macroF1 = 0.5454418374684457\n",
            "training accuracy = 0.8459021144624082, microF1 = 0.8753380935965149, macroF1 = 0.5429282163836509\n",
            "training accuracy = 0.8458121310214132, microF1 = 0.8754572226488487, macroF1 = 0.5427760227522243\n",
            "training accuracy = 0.8468734807254065, microF1 = 0.8763579196522097, macroF1 = 0.5458287197675336\n",
            "training accuracy = 0.8468111887171668, microF1 = 0.8761789042583998, macroF1 = 0.5459161756395442\n",
            "training accuracy = 0.8474533586050321, microF1 = 0.8769462824441083, macroF1 = 0.5456071107349498\n",
            "training accuracy = 0.8476131383044052, microF1 = 0.8770854101211716, macroF1 = 0.5454497841418405\n",
            "training accuracy = 0.8475764831096563, microF1 = 0.8769778686883385, macroF1 = 0.544852789048559\n",
            "training accuracy = 0.8475690240080002, microF1 = 0.8769141130065549, macroF1 = 0.5444692668826163\n",
            "\n",
            "epoch = 28, training_loss = 0.04057718849904144, validation_loss =0.06702518774215709, training_acc = 0.8472530956223182, validation_acc =0.789956846030508\n",
            "training accuracy = 0.8574472631364431, microF1 = 0.8844323718404278, macroF1 = 0.5450635524696814\n",
            "training accuracy = 0.8500076708832697, microF1 = 0.8787018988938989, macroF1 = 0.5456773376254813\n",
            "training accuracy = 0.8504943562740201, microF1 = 0.8794875199115695, macroF1 = 0.5496021925956732\n",
            "training accuracy = 0.8512841547482547, microF1 = 0.8801143833859097, macroF1 = 0.5515859437549049\n",
            "training accuracy = 0.8504806711073204, microF1 = 0.8794419004489249, macroF1 = 0.5514301987122796\n",
            "training accuracy = 0.8505372852109376, microF1 = 0.8794458585544028, macroF1 = 0.5525039606225848\n",
            "training accuracy = 0.8496630122396358, microF1 = 0.878679427021039, macroF1 = 0.5509750329993767\n",
            "training accuracy = 0.8500890248752703, microF1 = 0.8788858007470477, macroF1 = 0.5491436954803095\n",
            "training accuracy = 0.8504327816979051, microF1 = 0.8792409764841814, macroF1 = 0.5465742962511981\n",
            "training accuracy = 0.8497775894481684, microF1 = 0.8787302684455746, macroF1 = 0.5456392993787892\n",
            "training accuracy = 0.8505398072531513, microF1 = 0.8793570660750226, macroF1 = 0.5479527650502268\n",
            "training accuracy = 0.8508525956384588, microF1 = 0.8796508302016607, macroF1 = 0.5462090869657228\n",
            "training accuracy = 0.8509315794538517, microF1 = 0.8797995179436436, macroF1 = 0.5478297360237092\n",
            "training accuracy = 0.8508586588163332, microF1 = 0.8795880641529649, macroF1 = 0.5464931508956715\n",
            "\n",
            "epoch = 29, training_loss = 0.03983607874139888, validation_loss =0.06693231299058679, training_acc = 0.8508979022271785, validation_acc =0.7894281788508039\n",
            "training accuracy = 0.8496554802295581, microF1 = 0.8773111078237738, macroF1 = 0.5540606301146546\n",
            "training accuracy = 0.8532826888002051, microF1 = 0.8808220598978006, macroF1 = 0.5492212526141704\n",
            "training accuracy = 0.8539841567173048, microF1 = 0.8811953346355622, macroF1 = 0.5484195707068618\n",
            "training accuracy = 0.8522329640507033, microF1 = 0.8797353927981436, macroF1 = 0.5463738391401556\n",
            "training accuracy = 0.8514052225479952, microF1 = 0.8792572417385198, macroF1 = 0.5442260502075219\n",
            "training accuracy = 0.851870872752144, microF1 = 0.8796376545817931, macroF1 = 0.5446457364189039\n",
            "training accuracy = 0.8512974636259437, microF1 = 0.8791208751655749, macroF1 = 0.5467823755338225\n",
            "training accuracy = 0.8519242741760127, microF1 = 0.8797066225622252, macroF1 = 0.5487437289248321\n",
            "training accuracy = 0.8522832614590671, microF1 = 0.8801691406871888, macroF1 = 0.5486375978199437\n",
            "training accuracy = 0.8520641917199058, microF1 = 0.8801279208934318, macroF1 = 0.5476586163255815\n",
            "training accuracy = 0.8523517326565451, microF1 = 0.8804594426039799, macroF1 = 0.5472416484557333\n",
            "training accuracy = 0.8520436343626825, microF1 = 0.8801565942966005, macroF1 = 0.5482623669911727\n",
            "training accuracy = 0.8522262137784808, microF1 = 0.8803120776423504, macroF1 = 0.5483481745792949\n",
            "training accuracy = 0.8530321319770284, microF1 = 0.8810966605235063, macroF1 = 0.549694049682651\n",
            "\n",
            "epoch = 30, training_loss = 0.03918576497853417, validation_loss =0.06592186486598142, training_acc = 0.8531077863914356, validation_acc =0.788548264726678\n",
            "training accuracy = 0.8598675040123754, microF1 = 0.8861704667464039, macroF1 = 0.5629285924448334\n",
            "training accuracy = 0.8594371829762787, microF1 = 0.8854368071891828, macroF1 = 0.5603802694497949\n",
            "training accuracy = 0.859107597727172, microF1 = 0.8859808860042285, macroF1 = 0.5646427612437929\n",
            "training accuracy = 0.8584585767430165, microF1 = 0.8852790925004553, macroF1 = 0.5593399077490031\n",
            "training accuracy = 0.8568758984404338, microF1 = 0.8841943633700907, macroF1 = 0.555015235190272\n",
            "training accuracy = 0.8576345542481594, microF1 = 0.8846554046649848, macroF1 = 0.5549917988971202\n",
            "training accuracy = 0.857118086996622, microF1 = 0.8844823245921437, macroF1 = 0.5536561895962279\n",
            "training accuracy = 0.8576154534814224, microF1 = 0.8848416021574984, macroF1 = 0.5536417910996908\n",
            "training accuracy = 0.8573448544105202, microF1 = 0.8847576037082218, macroF1 = 0.555898983643114\n",
            "training accuracy = 0.8567903192668223, microF1 = 0.8842364139146511, macroF1 = 0.5539964312546594\n",
            "training accuracy = 0.8565424680617307, microF1 = 0.8841381514223339, macroF1 = 0.5534726752759264\n",
            "training accuracy = 0.8564310043036335, microF1 = 0.884005110055311, macroF1 = 0.5535518720649069\n",
            "training accuracy = 0.8558383734420192, microF1 = 0.8834113159684116, macroF1 = 0.5531411983458653\n",
            "training accuracy = 0.8558786553725298, microF1 = 0.88343225760636, macroF1 = 0.551231278933378\n",
            "\n",
            "epoch = 31, training_loss = 0.03838702574807549, validation_loss =0.06703329885128848, training_acc = 0.8556301864341006, validation_acc =0.7827042282928034\n",
            "training accuracy = 0.8526821235130995, microF1 = 0.8815580938472268, macroF1 = 0.5377754489727525\n",
            "training accuracy = 0.8581359893983748, microF1 = 0.8867166803520742, macroF1 = 0.54666194679055\n",
            "training accuracy = 0.8591432917018565, microF1 = 0.8865515351436258, macroF1 = 0.5544061980940204\n",
            "training accuracy = 0.8581619944382133, microF1 = 0.885893905286146, macroF1 = 0.5483331234119643\n",
            "training accuracy = 0.8594727303255227, microF1 = 0.8869399187442157, macroF1 = 0.5532180475937343\n",
            "training accuracy = 0.8601832188611079, microF1 = 0.8876627754119808, macroF1 = 0.5465873121782318\n",
            "training accuracy = 0.8610997114959272, microF1 = 0.8884339785774489, macroF1 = 0.5506564390213831\n",
            "training accuracy = 0.8612703338921258, microF1 = 0.8885342863382427, macroF1 = 0.5538662170189426\n",
            "training accuracy = 0.8607105808461097, microF1 = 0.888095127462918, macroF1 = 0.5538643682278511\n",
            "training accuracy = 0.8608632901703654, microF1 = 0.8881103910943353, macroF1 = 0.5570848454765787\n",
            "training accuracy = 0.8606888537491695, microF1 = 0.8878439677157318, macroF1 = 0.5546547532723733\n",
            "training accuracy = 0.8603935722028703, microF1 = 0.887548989753975, macroF1 = 0.5548894868913475\n",
            "training accuracy = 0.8604594640706195, microF1 = 0.8875949611532536, macroF1 = 0.5566485412229535\n",
            "training accuracy = 0.860137481263626, microF1 = 0.8871882716902487, macroF1 = 0.5567038709104419\n",
            "\n",
            "epoch = 32, training_loss = 0.037333085854566586, validation_loss =0.06606748481233095, training_acc = 0.8596285067778454, validation_acc =0.7864265222052982\n",
            "training accuracy = 0.8634140189448041, microF1 = 0.8893612085000709, macroF1 = 0.5520965065798624\n",
            "training accuracy = 0.8640492266871203, microF1 = 0.8905141746890157, macroF1 = 0.5587225176518269\n",
            "training accuracy = 0.8614004662133447, microF1 = 0.8882516758133164, macroF1 = 0.570916560515512\n",
            "training accuracy = 0.8621190120330096, microF1 = 0.8886012167061685, macroF1 = 0.5751860790516837\n",
            "training accuracy = 0.8622524726216271, microF1 = 0.8889600173583511, macroF1 = 0.5755987520383014\n",
            "training accuracy = 0.86418199340791, microF1 = 0.8908142022711082, macroF1 = 0.5741341742980843\n",
            "training accuracy = 0.8633127505822851, microF1 = 0.8899582557521223, macroF1 = 0.570258518036273\n",
            "training accuracy = 0.8631660059348957, microF1 = 0.8900031945493128, macroF1 = 0.5707447054895272\n",
            "training accuracy = 0.8641801329056288, microF1 = 0.8906801840828483, macroF1 = 0.568183754661458\n",
            "training accuracy = 0.8645671553991338, microF1 = 0.8908808087729436, macroF1 = 0.567993319679664\n",
            "training accuracy = 0.8641722274492457, microF1 = 0.8904735254066293, macroF1 = 0.5654349825372663\n",
            "training accuracy = 0.8640538958012967, microF1 = 0.8904197117331151, macroF1 = 0.5639677259656278\n",
            "training accuracy = 0.8633727980070314, microF1 = 0.8897164988981262, macroF1 = 0.5639261258459795\n",
            "training accuracy = 0.8635794971765222, microF1 = 0.8898797825778747, macroF1 = 0.5653937302887497\n",
            "\n",
            "epoch = 33, training_loss = 0.03651057366486575, validation_loss =0.06714479863336406, training_acc = 0.8636033036382011, validation_acc =0.7843939911564165\n",
            "training accuracy = 0.8635164157793476, microF1 = 0.8900034291146096, macroF1 = 0.5682505632677032\n",
            "training accuracy = 0.8618967672467884, microF1 = 0.8882054457818556, macroF1 = 0.5570589987380596\n",
            "training accuracy = 0.8632581202930002, microF1 = 0.8894296675362727, macroF1 = 0.5545210283352113\n",
            "training accuracy = 0.8655690970448172, microF1 = 0.8912866483952077, macroF1 = 0.5583362544146789\n",
            "training accuracy = 0.865089674272791, microF1 = 0.8906250894069776, macroF1 = 0.5579345535837287\n",
            "training accuracy = 0.8638594428464349, microF1 = 0.8896635933165824, macroF1 = 0.558905512029153\n",
            "training accuracy = 0.8633920734135446, microF1 = 0.8893744157646672, macroF1 = 0.5588622031268649\n",
            "training accuracy = 0.864680941536011, microF1 = 0.8905377616092234, macroF1 = 0.5577677378837014\n",
            "training accuracy = 0.864523566048441, microF1 = 0.8904541074622822, macroF1 = 0.5561289521124662\n",
            "training accuracy = 0.8649443279185175, microF1 = 0.8907539663673244, macroF1 = 0.5559143625977964\n",
            "training accuracy = 0.86446266317641, microF1 = 0.8903353299760753, macroF1 = 0.555905155207636\n",
            "training accuracy = 0.8646419121799741, microF1 = 0.89040327785714, macroF1 = 0.5569737686643752\n",
            "training accuracy = 0.8644084346250019, microF1 = 0.8901559675431387, macroF1 = 0.5571863508995896\n",
            "training accuracy = 0.8639615124703631, microF1 = 0.8899662071669129, macroF1 = 0.5576894564310425\n",
            "\n",
            "epoch = 34, training_loss = 0.035955728214118896, validation_loss =0.0667243607188623, training_acc = 0.863697818973274, validation_acc =0.7944183778501264\n",
            "training accuracy = 0.8678178088677961, microF1 = 0.8937329320419595, macroF1 = 0.5886822179344148\n",
            "training accuracy = 0.8687903197181471, microF1 = 0.893282876909503, macroF1 = 0.575547835235517\n",
            "training accuracy = 0.8682718785889897, microF1 = 0.8930734540930514, macroF1 = 0.5712446927555453\n",
            "training accuracy = 0.8678631524692696, microF1 = 0.8928273474694489, macroF1 = 0.5675233600086661\n",
            "training accuracy = 0.8671912223796061, microF1 = 0.8920928322481831, macroF1 = 0.5657885708577945\n",
            "training accuracy = 0.867454949746566, microF1 = 0.8924224444588142, macroF1 = 0.5682627612881694\n",
            "training accuracy = 0.8685333103438659, microF1 = 0.8933794705991956, macroF1 = 0.5707072788321677\n",
            "training accuracy = 0.8684882712073467, microF1 = 0.893641045427726, macroF1 = 0.5705697652281987\n",
            "training accuracy = 0.8688419687593444, microF1 = 0.89397641940753, macroF1 = 0.5694103593585744\n",
            "training accuracy = 0.8691028324090077, microF1 = 0.8940979990590905, macroF1 = 0.5703300071305022\n",
            "training accuracy = 0.8686031187233386, microF1 = 0.8936943067924398, macroF1 = 0.5719014073579926\n",
            "training accuracy = 0.8682446478565525, microF1 = 0.89351418492621, macroF1 = 0.5730667920107099\n",
            "training accuracy = 0.8680975638911392, microF1 = 0.8933970469403709, macroF1 = 0.5721343742333201\n",
            "training accuracy = 0.8673912333302595, microF1 = 0.8927115174839072, macroF1 = 0.5724794975437317\n",
            "\n",
            "epoch = 35, training_loss = 0.03525513879749988, validation_loss =0.06790655793756553, training_acc = 0.8671141014323378, validation_acc =0.7882088034094961\n",
            "training accuracy = 0.8736143014622237, microF1 = 0.8979788528103834, macroF1 = 0.5878526904910559\n",
            "training accuracy = 0.8712527462223126, microF1 = 0.8959378085549515, macroF1 = 0.5896288359729519\n",
            "training accuracy = 0.8734791164427992, microF1 = 0.8979771488871808, macroF1 = 0.5847460781034896\n",
            "training accuracy = 0.87162777781364, microF1 = 0.8962215807913061, macroF1 = 0.5806972908044559\n",
            "training accuracy = 0.8718727567486418, microF1 = 0.8959574486520564, macroF1 = 0.5770161705924346\n",
            "training accuracy = 0.8712008522848966, microF1 = 0.8957442341331202, macroF1 = 0.5723502196012014\n",
            "training accuracy = 0.8712064430702591, microF1 = 0.8958616474260295, macroF1 = 0.5704793188350742\n",
            "training accuracy = 0.8703606748082137, microF1 = 0.8950385100569523, macroF1 = 0.5715986895667954\n",
            "training accuracy = 0.8703667061998479, microF1 = 0.8949394157552557, macroF1 = 0.57409847205586\n",
            "training accuracy = 0.8704604294398033, microF1 = 0.8949002815335656, macroF1 = 0.5742858593122625\n",
            "training accuracy = 0.8704409835310195, microF1 = 0.8948641800072309, macroF1 = 0.5741150503986541\n",
            "training accuracy = 0.8699982241104258, microF1 = 0.8945332002440128, macroF1 = 0.570064669540001\n",
            "training accuracy = 0.8701602017264268, microF1 = 0.8947219056953661, macroF1 = 0.5716939342929194\n"
          ],
          "name": "stdout"
        },
        {
          "output_type": "error",
          "ename": "KeyboardInterrupt",
          "evalue": "ignored",
          "traceback": [
            "\u001b[0;31m---------------------------------------------------------------------------\u001b[0m",
            "\u001b[0;31mKeyboardInterrupt\u001b[0m                         Traceback (most recent call last)",
            "\u001b[0;32m<ipython-input-72-869cbe9e8a71>\u001b[0m in \u001b[0;36m<module>\u001b[0;34m()\u001b[0m\n\u001b[1;32m     17\u001b[0m         \u001b[0;31m#get output from model and claculate loss\u001b[0m\u001b[0;34m\u001b[0m\u001b[0;34m\u001b[0m\u001b[0;34m\u001b[0m\u001b[0m\n\u001b[1;32m     18\u001b[0m         \u001b[0mypred\u001b[0m \u001b[0;34m=\u001b[0m \u001b[0mmodel\u001b[0m\u001b[0;34m(\u001b[0m\u001b[0mXbatch\u001b[0m\u001b[0;34m.\u001b[0m\u001b[0mlong\u001b[0m\u001b[0;34m(\u001b[0m\u001b[0;34m)\u001b[0m\u001b[0;34m.\u001b[0m\u001b[0mto\u001b[0m\u001b[0;34m(\u001b[0m\u001b[0mdevice\u001b[0m\u001b[0;34m)\u001b[0m\u001b[0;34m,\u001b[0m \u001b[0mXchar\u001b[0m\u001b[0;34m.\u001b[0m\u001b[0mto\u001b[0m\u001b[0;34m(\u001b[0m\u001b[0mdevice\u001b[0m\u001b[0;34m)\u001b[0m\u001b[0;34m,\u001b[0m \u001b[0mxbatch_len\u001b[0m\u001b[0;34m.\u001b[0m\u001b[0mto\u001b[0m\u001b[0;34m(\u001b[0m\u001b[0mdevice\u001b[0m\u001b[0;34m)\u001b[0m\u001b[0;34m,\u001b[0m \u001b[0mxlength_char\u001b[0m\u001b[0;34m.\u001b[0m\u001b[0mto\u001b[0m\u001b[0;34m(\u001b[0m\u001b[0mdevice\u001b[0m\u001b[0;34m)\u001b[0m\u001b[0;34m)\u001b[0m\u001b[0;31m#.permute(0, 2, 1)\u001b[0m\u001b[0;34m\u001b[0m\u001b[0;34m\u001b[0m\u001b[0m\n\u001b[0;32m---> 19\u001b[0;31m         \u001b[0macc_\u001b[0m\u001b[0;34m,\u001b[0m \u001b[0mmicrof1_\u001b[0m\u001b[0;34m,\u001b[0m \u001b[0mmacrof1_\u001b[0m \u001b[0;34m=\u001b[0m \u001b[0mperformance\u001b[0m\u001b[0;34m(\u001b[0m\u001b[0mYbatch\u001b[0m\u001b[0;34m.\u001b[0m\u001b[0mview\u001b[0m\u001b[0;34m(\u001b[0m\u001b[0;34m-\u001b[0m\u001b[0;36m1\u001b[0m\u001b[0;34m)\u001b[0m\u001b[0;34m,\u001b[0m \u001b[0mtorch\u001b[0m\u001b[0;34m.\u001b[0m\u001b[0margmax\u001b[0m\u001b[0;34m(\u001b[0m\u001b[0mypred\u001b[0m\u001b[0;34m.\u001b[0m\u001b[0mto\u001b[0m\u001b[0;34m(\u001b[0m\u001b[0;34m'cpu'\u001b[0m\u001b[0;34m)\u001b[0m\u001b[0;34m,\u001b[0m \u001b[0mdim\u001b[0m \u001b[0;34m=\u001b[0m \u001b[0;36m1\u001b[0m\u001b[0;34m)\u001b[0m\u001b[0;34m,\u001b[0m \u001b[0mnertags\u001b[0m\u001b[0;34m)\u001b[0m\u001b[0;34m\u001b[0m\u001b[0;34m\u001b[0m\u001b[0m\n\u001b[0m\u001b[1;32m     20\u001b[0m         \u001b[0macc\u001b[0m\u001b[0;34m+=\u001b[0m \u001b[0macc_\u001b[0m\u001b[0;34m\u001b[0m\u001b[0;34m\u001b[0m\u001b[0m\n\u001b[1;32m     21\u001b[0m         \u001b[0mmicrof1\u001b[0m\u001b[0;34m+=\u001b[0m\u001b[0mmicrof1_\u001b[0m\u001b[0;34m\u001b[0m\u001b[0;34m\u001b[0m\u001b[0m\n",
            "\u001b[0;32m<ipython-input-69-0fa346b8962a>\u001b[0m in \u001b[0;36mperformance\u001b[0;34m(y, ypred, nertags)\u001b[0m\n\u001b[1;32m     16\u001b[0m     \u001b[0macc\u001b[0m \u001b[0;34m=\u001b[0m \u001b[0;34m(\u001b[0m\u001b[0;34m(\u001b[0m\u001b[0my\u001b[0m\u001b[0;34m==\u001b[0m\u001b[0mypred\u001b[0m\u001b[0;34m)\u001b[0m\u001b[0;34m*\u001b[0m\u001b[0mmask\u001b[0m\u001b[0;34m)\u001b[0m\u001b[0;34m.\u001b[0m\u001b[0msum\u001b[0m\u001b[0;34m(\u001b[0m\u001b[0;34m)\u001b[0m\u001b[0;34m/\u001b[0m\u001b[0mmask\u001b[0m\u001b[0;34m.\u001b[0m\u001b[0msum\u001b[0m\u001b[0;34m(\u001b[0m\u001b[0;34m)\u001b[0m\u001b[0;34m\u001b[0m\u001b[0;34m\u001b[0m\u001b[0m\n\u001b[1;32m     17\u001b[0m     \u001b[0mmicrof1\u001b[0m \u001b[0;34m=\u001b[0m \u001b[0mf1_score\u001b[0m\u001b[0;34m(\u001b[0m\u001b[0my\u001b[0m\u001b[0;34m,\u001b[0m \u001b[0mypred\u001b[0m\u001b[0;34m,\u001b[0m \u001b[0mlabels\u001b[0m \u001b[0;34m=\u001b[0m \u001b[0mimp_classes\u001b[0m\u001b[0;34m,\u001b[0m \u001b[0maverage\u001b[0m\u001b[0;34m=\u001b[0m\u001b[0;34m'micro'\u001b[0m\u001b[0;34m)\u001b[0m\u001b[0;34m\u001b[0m\u001b[0;34m\u001b[0m\u001b[0m\n\u001b[0;32m---> 18\u001b[0;31m     \u001b[0mmacrof1\u001b[0m \u001b[0;34m=\u001b[0m \u001b[0mf1_score\u001b[0m\u001b[0;34m(\u001b[0m\u001b[0my\u001b[0m\u001b[0;34m,\u001b[0m \u001b[0mypred\u001b[0m\u001b[0;34m,\u001b[0m \u001b[0mlabels\u001b[0m \u001b[0;34m=\u001b[0m \u001b[0mimp_classes\u001b[0m\u001b[0;34m,\u001b[0m \u001b[0maverage\u001b[0m\u001b[0;34m=\u001b[0m\u001b[0;34m'macro'\u001b[0m\u001b[0;34m)\u001b[0m\u001b[0;34m\u001b[0m\u001b[0;34m\u001b[0m\u001b[0m\n\u001b[0m\u001b[1;32m     19\u001b[0m \u001b[0;34m\u001b[0m\u001b[0m\n\u001b[1;32m     20\u001b[0m     \u001b[0;32mreturn\u001b[0m \u001b[0macc\u001b[0m\u001b[0;34m,\u001b[0m \u001b[0mmicrof1\u001b[0m\u001b[0;34m,\u001b[0m \u001b[0mmacrof1\u001b[0m\u001b[0;34m\u001b[0m\u001b[0;34m\u001b[0m\u001b[0m\n",
            "\u001b[0;32m/usr/local/lib/python3.7/dist-packages/sklearn/metrics/_classification.py\u001b[0m in \u001b[0;36mf1_score\u001b[0;34m(y_true, y_pred, labels, pos_label, average, sample_weight, zero_division)\u001b[0m\n\u001b[1;32m   1097\u001b[0m                        \u001b[0mpos_label\u001b[0m\u001b[0;34m=\u001b[0m\u001b[0mpos_label\u001b[0m\u001b[0;34m,\u001b[0m \u001b[0maverage\u001b[0m\u001b[0;34m=\u001b[0m\u001b[0maverage\u001b[0m\u001b[0;34m,\u001b[0m\u001b[0;34m\u001b[0m\u001b[0;34m\u001b[0m\u001b[0m\n\u001b[1;32m   1098\u001b[0m                        \u001b[0msample_weight\u001b[0m\u001b[0;34m=\u001b[0m\u001b[0msample_weight\u001b[0m\u001b[0;34m,\u001b[0m\u001b[0;34m\u001b[0m\u001b[0;34m\u001b[0m\u001b[0m\n\u001b[0;32m-> 1099\u001b[0;31m                        zero_division=zero_division)\n\u001b[0m\u001b[1;32m   1100\u001b[0m \u001b[0;34m\u001b[0m\u001b[0m\n\u001b[1;32m   1101\u001b[0m \u001b[0;34m\u001b[0m\u001b[0m\n",
            "\u001b[0;32m/usr/local/lib/python3.7/dist-packages/sklearn/metrics/_classification.py\u001b[0m in \u001b[0;36mfbeta_score\u001b[0;34m(y_true, y_pred, beta, labels, pos_label, average, sample_weight, zero_division)\u001b[0m\n\u001b[1;32m   1224\u001b[0m                                                  \u001b[0mwarn_for\u001b[0m\u001b[0;34m=\u001b[0m\u001b[0;34m(\u001b[0m\u001b[0;34m'f-score'\u001b[0m\u001b[0;34m,\u001b[0m\u001b[0;34m)\u001b[0m\u001b[0;34m,\u001b[0m\u001b[0;34m\u001b[0m\u001b[0;34m\u001b[0m\u001b[0m\n\u001b[1;32m   1225\u001b[0m                                                  \u001b[0msample_weight\u001b[0m\u001b[0;34m=\u001b[0m\u001b[0msample_weight\u001b[0m\u001b[0;34m,\u001b[0m\u001b[0;34m\u001b[0m\u001b[0;34m\u001b[0m\u001b[0m\n\u001b[0;32m-> 1226\u001b[0;31m                                                  zero_division=zero_division)\n\u001b[0m\u001b[1;32m   1227\u001b[0m     \u001b[0;32mreturn\u001b[0m \u001b[0mf\u001b[0m\u001b[0;34m\u001b[0m\u001b[0;34m\u001b[0m\u001b[0m\n\u001b[1;32m   1228\u001b[0m \u001b[0;34m\u001b[0m\u001b[0m\n",
            "\u001b[0;32m/usr/local/lib/python3.7/dist-packages/sklearn/metrics/_classification.py\u001b[0m in \u001b[0;36mprecision_recall_fscore_support\u001b[0;34m(y_true, y_pred, beta, labels, pos_label, average, warn_for, sample_weight, zero_division)\u001b[0m\n\u001b[1;32m   1482\u001b[0m         \u001b[0;32mraise\u001b[0m \u001b[0mValueError\u001b[0m\u001b[0;34m(\u001b[0m\u001b[0;34m\"beta should be >=0 in the F-beta score\"\u001b[0m\u001b[0;34m)\u001b[0m\u001b[0;34m\u001b[0m\u001b[0;34m\u001b[0m\u001b[0m\n\u001b[1;32m   1483\u001b[0m     labels = _check_set_wise_labels(y_true, y_pred, average, labels,\n\u001b[0;32m-> 1484\u001b[0;31m                                     pos_label)\n\u001b[0m\u001b[1;32m   1485\u001b[0m \u001b[0;34m\u001b[0m\u001b[0m\n\u001b[1;32m   1486\u001b[0m     \u001b[0;31m# Calculate tp_sum, pred_sum, true_sum ###\u001b[0m\u001b[0;34m\u001b[0m\u001b[0;34m\u001b[0m\u001b[0;34m\u001b[0m\u001b[0m\n",
            "\u001b[0;32m/usr/local/lib/python3.7/dist-packages/sklearn/metrics/_classification.py\u001b[0m in \u001b[0;36m_check_set_wise_labels\u001b[0;34m(y_true, y_pred, average, labels, pos_label)\u001b[0m\n\u001b[1;32m   1299\u001b[0m                          str(average_options))\n\u001b[1;32m   1300\u001b[0m \u001b[0;34m\u001b[0m\u001b[0m\n\u001b[0;32m-> 1301\u001b[0;31m     \u001b[0my_type\u001b[0m\u001b[0;34m,\u001b[0m \u001b[0my_true\u001b[0m\u001b[0;34m,\u001b[0m \u001b[0my_pred\u001b[0m \u001b[0;34m=\u001b[0m \u001b[0m_check_targets\u001b[0m\u001b[0;34m(\u001b[0m\u001b[0my_true\u001b[0m\u001b[0;34m,\u001b[0m \u001b[0my_pred\u001b[0m\u001b[0;34m)\u001b[0m\u001b[0;34m\u001b[0m\u001b[0;34m\u001b[0m\u001b[0m\n\u001b[0m\u001b[1;32m   1302\u001b[0m     \u001b[0mpresent_labels\u001b[0m \u001b[0;34m=\u001b[0m \u001b[0munique_labels\u001b[0m\u001b[0;34m(\u001b[0m\u001b[0my_true\u001b[0m\u001b[0;34m,\u001b[0m \u001b[0my_pred\u001b[0m\u001b[0;34m)\u001b[0m\u001b[0;34m\u001b[0m\u001b[0;34m\u001b[0m\u001b[0m\n\u001b[1;32m   1303\u001b[0m     \u001b[0;32mif\u001b[0m \u001b[0maverage\u001b[0m \u001b[0;34m==\u001b[0m \u001b[0;34m'binary'\u001b[0m\u001b[0;34m:\u001b[0m\u001b[0;34m\u001b[0m\u001b[0;34m\u001b[0m\u001b[0m\n",
            "\u001b[0;32m/usr/local/lib/python3.7/dist-packages/sklearn/metrics/_classification.py\u001b[0m in \u001b[0;36m_check_targets\u001b[0;34m(y_true, y_pred)\u001b[0m\n\u001b[1;32m     80\u001b[0m     \u001b[0mcheck_consistent_length\u001b[0m\u001b[0;34m(\u001b[0m\u001b[0my_true\u001b[0m\u001b[0;34m,\u001b[0m \u001b[0my_pred\u001b[0m\u001b[0;34m)\u001b[0m\u001b[0;34m\u001b[0m\u001b[0;34m\u001b[0m\u001b[0m\n\u001b[1;32m     81\u001b[0m     \u001b[0mtype_true\u001b[0m \u001b[0;34m=\u001b[0m \u001b[0mtype_of_target\u001b[0m\u001b[0;34m(\u001b[0m\u001b[0my_true\u001b[0m\u001b[0;34m)\u001b[0m\u001b[0;34m\u001b[0m\u001b[0;34m\u001b[0m\u001b[0m\n\u001b[0;32m---> 82\u001b[0;31m     \u001b[0mtype_pred\u001b[0m \u001b[0;34m=\u001b[0m \u001b[0mtype_of_target\u001b[0m\u001b[0;34m(\u001b[0m\u001b[0my_pred\u001b[0m\u001b[0;34m)\u001b[0m\u001b[0;34m\u001b[0m\u001b[0;34m\u001b[0m\u001b[0m\n\u001b[0m\u001b[1;32m     83\u001b[0m \u001b[0;34m\u001b[0m\u001b[0m\n\u001b[1;32m     84\u001b[0m     \u001b[0my_type\u001b[0m \u001b[0;34m=\u001b[0m \u001b[0;34m{\u001b[0m\u001b[0mtype_true\u001b[0m\u001b[0;34m,\u001b[0m \u001b[0mtype_pred\u001b[0m\u001b[0;34m}\u001b[0m\u001b[0;34m\u001b[0m\u001b[0;34m\u001b[0m\u001b[0m\n",
            "\u001b[0;32m/usr/local/lib/python3.7/dist-packages/sklearn/utils/multiclass.py\u001b[0m in \u001b[0;36mtype_of_target\u001b[0;34m(y)\u001b[0m\n\u001b[1;32m    285\u001b[0m         \u001b[0;32mreturn\u001b[0m \u001b[0;34m'continuous'\u001b[0m \u001b[0;34m+\u001b[0m \u001b[0msuffix\u001b[0m\u001b[0;34m\u001b[0m\u001b[0;34m\u001b[0m\u001b[0m\n\u001b[1;32m    286\u001b[0m \u001b[0;34m\u001b[0m\u001b[0m\n\u001b[0;32m--> 287\u001b[0;31m     \u001b[0;32mif\u001b[0m \u001b[0;34m(\u001b[0m\u001b[0mlen\u001b[0m\u001b[0;34m(\u001b[0m\u001b[0mnp\u001b[0m\u001b[0;34m.\u001b[0m\u001b[0munique\u001b[0m\u001b[0;34m(\u001b[0m\u001b[0my\u001b[0m\u001b[0;34m)\u001b[0m\u001b[0;34m)\u001b[0m \u001b[0;34m>\u001b[0m \u001b[0;36m2\u001b[0m\u001b[0;34m)\u001b[0m \u001b[0;32mor\u001b[0m \u001b[0;34m(\u001b[0m\u001b[0my\u001b[0m\u001b[0;34m.\u001b[0m\u001b[0mndim\u001b[0m \u001b[0;34m>=\u001b[0m \u001b[0;36m2\u001b[0m \u001b[0;32mand\u001b[0m \u001b[0mlen\u001b[0m\u001b[0;34m(\u001b[0m\u001b[0my\u001b[0m\u001b[0;34m[\u001b[0m\u001b[0;36m0\u001b[0m\u001b[0;34m]\u001b[0m\u001b[0;34m)\u001b[0m \u001b[0;34m>\u001b[0m \u001b[0;36m1\u001b[0m\u001b[0;34m)\u001b[0m\u001b[0;34m:\u001b[0m\u001b[0;34m\u001b[0m\u001b[0;34m\u001b[0m\u001b[0m\n\u001b[0m\u001b[1;32m    288\u001b[0m         \u001b[0;32mreturn\u001b[0m \u001b[0;34m'multiclass'\u001b[0m \u001b[0;34m+\u001b[0m \u001b[0msuffix\u001b[0m  \u001b[0;31m# [1, 2, 3] or [[1., 2., 3]] or [[1, 2]]\u001b[0m\u001b[0;34m\u001b[0m\u001b[0;34m\u001b[0m\u001b[0m\n\u001b[1;32m    289\u001b[0m     \u001b[0;32melse\u001b[0m\u001b[0;34m:\u001b[0m\u001b[0;34m\u001b[0m\u001b[0;34m\u001b[0m\u001b[0m\n",
            "\u001b[0;32m<__array_function__ internals>\u001b[0m in \u001b[0;36munique\u001b[0;34m(*args, **kwargs)\u001b[0m\n",
            "\u001b[0;32m/usr/local/lib/python3.7/dist-packages/numpy/lib/arraysetops.py\u001b[0m in \u001b[0;36munique\u001b[0;34m(ar, return_index, return_inverse, return_counts, axis)\u001b[0m\n\u001b[1;32m    259\u001b[0m     \u001b[0mar\u001b[0m \u001b[0;34m=\u001b[0m \u001b[0mnp\u001b[0m\u001b[0;34m.\u001b[0m\u001b[0masanyarray\u001b[0m\u001b[0;34m(\u001b[0m\u001b[0mar\u001b[0m\u001b[0;34m)\u001b[0m\u001b[0;34m\u001b[0m\u001b[0;34m\u001b[0m\u001b[0m\n\u001b[1;32m    260\u001b[0m     \u001b[0;32mif\u001b[0m \u001b[0maxis\u001b[0m \u001b[0;32mis\u001b[0m \u001b[0;32mNone\u001b[0m\u001b[0;34m:\u001b[0m\u001b[0;34m\u001b[0m\u001b[0;34m\u001b[0m\u001b[0m\n\u001b[0;32m--> 261\u001b[0;31m         \u001b[0mret\u001b[0m \u001b[0;34m=\u001b[0m \u001b[0m_unique1d\u001b[0m\u001b[0;34m(\u001b[0m\u001b[0mar\u001b[0m\u001b[0;34m,\u001b[0m \u001b[0mreturn_index\u001b[0m\u001b[0;34m,\u001b[0m \u001b[0mreturn_inverse\u001b[0m\u001b[0;34m,\u001b[0m \u001b[0mreturn_counts\u001b[0m\u001b[0;34m)\u001b[0m\u001b[0;34m\u001b[0m\u001b[0;34m\u001b[0m\u001b[0m\n\u001b[0m\u001b[1;32m    262\u001b[0m         \u001b[0;32mreturn\u001b[0m \u001b[0m_unpack_tuple\u001b[0m\u001b[0;34m(\u001b[0m\u001b[0mret\u001b[0m\u001b[0;34m)\u001b[0m\u001b[0;34m\u001b[0m\u001b[0;34m\u001b[0m\u001b[0m\n\u001b[1;32m    263\u001b[0m \u001b[0;34m\u001b[0m\u001b[0m\n",
            "\u001b[0;32m/usr/local/lib/python3.7/dist-packages/numpy/lib/arraysetops.py\u001b[0m in \u001b[0;36m_unique1d\u001b[0;34m(ar, return_index, return_inverse, return_counts)\u001b[0m\n\u001b[1;32m    320\u001b[0m         \u001b[0maux\u001b[0m \u001b[0;34m=\u001b[0m \u001b[0mar\u001b[0m\u001b[0;34m[\u001b[0m\u001b[0mperm\u001b[0m\u001b[0;34m]\u001b[0m\u001b[0;34m\u001b[0m\u001b[0;34m\u001b[0m\u001b[0m\n\u001b[1;32m    321\u001b[0m     \u001b[0;32melse\u001b[0m\u001b[0;34m:\u001b[0m\u001b[0;34m\u001b[0m\u001b[0;34m\u001b[0m\u001b[0m\n\u001b[0;32m--> 322\u001b[0;31m         \u001b[0mar\u001b[0m\u001b[0;34m.\u001b[0m\u001b[0msort\u001b[0m\u001b[0;34m(\u001b[0m\u001b[0;34m)\u001b[0m\u001b[0;34m\u001b[0m\u001b[0;34m\u001b[0m\u001b[0m\n\u001b[0m\u001b[1;32m    323\u001b[0m         \u001b[0maux\u001b[0m \u001b[0;34m=\u001b[0m \u001b[0mar\u001b[0m\u001b[0;34m\u001b[0m\u001b[0;34m\u001b[0m\u001b[0m\n\u001b[1;32m    324\u001b[0m     \u001b[0mmask\u001b[0m \u001b[0;34m=\u001b[0m \u001b[0mnp\u001b[0m\u001b[0;34m.\u001b[0m\u001b[0mempty\u001b[0m\u001b[0;34m(\u001b[0m\u001b[0maux\u001b[0m\u001b[0;34m.\u001b[0m\u001b[0mshape\u001b[0m\u001b[0;34m,\u001b[0m \u001b[0mdtype\u001b[0m\u001b[0;34m=\u001b[0m\u001b[0mnp\u001b[0m\u001b[0;34m.\u001b[0m\u001b[0mbool_\u001b[0m\u001b[0;34m)\u001b[0m\u001b[0;34m\u001b[0m\u001b[0;34m\u001b[0m\u001b[0m\n",
            "\u001b[0;31mKeyboardInterrupt\u001b[0m: "
          ]
        }
      ]
    },
    {
      "cell_type": "code",
      "metadata": {
        "colab": {
          "base_uri": "https://localhost:8080/",
          "height": 267
        },
        "id": "KJ0IjhNavype",
        "outputId": "023a10ff-3a18-4236-fa39-46c349473bdf"
      },
      "source": [
        "plt.plot(trainlosslist, label = \"trainloss\")\n",
        "plt.plot(validlosslist, label = \"validloss\")\n",
        "plt.legend()\n",
        "plt.show()\n"
      ],
      "execution_count": 73,
      "outputs": [
        {
          "output_type": "display_data",
          "data": {
            "image/png": "[encoded data removed]",
            "text/plain": [
              "<Figure size 432x288 with 1 Axes>"
            ]
          },
          "metadata": {
            "tags": [],
            "needs_background": "light"
          }
        }
      ]
    },
    {
      "cell_type": "code",
      "metadata": {
        "id": "3kuOxKLJ2jvT",
        "colab": {
          "base_uri": "https://localhost:8080/",
          "height": 268
        },
        "outputId": "12a43163-703a-46f5-987d-6c3b209febe2"
      },
      "source": [
        "plt.plot(trainacclist, label = 'train_accuracy')\n",
        "plt.plot(valacclist, label = 'val_accuracy')\n",
        "plt.legend()\n",
        "plt.show()"
      ],
      "execution_count": 74,
      "outputs": [
        {
          "output_type": "display_data",
          "data": {
            "image/png": "[encoded data removed]",
            "text/plain": [
              "<Figure size 432x288 with 1 Axes>"
            ]
          },
          "metadata": {
            "tags": [],
            "needs_background": "light"
          }
        }
      ]
    },
    {
      "cell_type": "code",
      "metadata": {
        "colab": {
          "base_uri": "https://localhost:8080/",
          "height": 265
        },
        "id": "9ZxuqBi0I8Fz",
        "outputId": "fc45ec06-0c7c-4ddf-f59a-d65f1ca592d3"
      },
      "source": [
        "plt.plot(trainmicrof1list, label = 'train_microF1')\n",
        "plt.plot(valmicrof1list, label = 'val_microF1')\n",
        "plt.legend()\n",
        "plt.show()"
      ],
      "execution_count": 75,
      "outputs": [
        {
          "output_type": "display_data",
          "data": {
            "image/png": "[encoded data removed]",
            "text/plain": [
              "<Figure size 432x288 with 1 Axes>"
            ]
          },
          "metadata": {
            "tags": [],
            "needs_background": "light"
          }
        }
      ]
    },
    {
      "cell_type": "code",
      "metadata": {
        "colab": {
          "base_uri": "https://localhost:8080/",
          "height": 265
        },
        "id": "oLbH_sTcI8IS",
        "outputId": "62ee11f3-aa3b-435d-d00f-18164cc0ef12"
      },
      "source": [
        "plt.plot(trainmacrof1list, label = 'train_macroF1')\n",
        "plt.plot(valmacrof1list, label = 'val_macroF1')\n",
        "plt.legend()\n",
        "plt.show()"
      ],
      "execution_count": 76,
      "outputs": [
        {
          "output_type": "display_data",
          "data": {
            "image/png": "[encoded data removed]",
            "text/plain": [
              "<Figure size 432x288 with 1 Axes>"
            ]
          },
          "metadata": {
            "tags": [],
            "needs_background": "light"
          }
        }
      ]
    },
    {
      "cell_type": "code",
      "metadata": {
        "id": "zjJ0UWVXYyeA"
      },
      "source": [
        "#make id2tag\n",
        "id2tag = {}\n",
        "for tag in nertags.keys():\n",
        "    if(tag == 'padtag'):\n",
        "        id2tag[nertags[tag]] = 'O' # because we dont want the model to predict 'padtag' tags\n",
        "    else:\n",
        "        id2tag[nertags[tag]] = tag\n",
        "\n",
        "# print(id2tag)"
      ],
      "execution_count": 77,
      "outputs": []
    },
    {
      "cell_type": "code",
      "metadata": {
        "id": "Fq96j0gcSshF"
      },
      "source": [
        "def final_metrics(model, loader):\n",
        "    y_predicted = []\n",
        "    y_true = []\n",
        "    with torch.no_grad():\n",
        "        for step, (X, Xchar, Y, xlen, xlen_char) in enumerate(loader):\n",
        "            Y = pack_padded_sequence(Y, xlen, batch_first=True, enforce_sorted=False)\n",
        "            Y, _ = pad_packed_sequence(Y, batch_first=True)\n",
        "            ypred = model(X.long().to(device), Xchar.to(device), xlen.to(device), xlen_char.to(device))#.permute(0, 2, 1)\n",
        "            ypred = torch.argmax(ypred.to('cpu'), dim = 1)\n",
        "            ypred = ypred.view(Y.shape[0], -1)\n",
        "            # print(ypred.shape)\n",
        "\n",
        "            y_predicted.append(ypred)\n",
        "            y_true.append(Y)\n",
        "\n",
        "    y_predicted_list = []\n",
        "    y_true_list = []\n",
        "    for i in range(len(y_predicted)):\n",
        "        for j in range(y_predicted[i].shape[0]):\n",
        "            sent_pred = []\n",
        "            sent_true = []\n",
        "            for x in range(y_predicted[i].shape[1]):\n",
        "                sent_pred.append(id2tag[int(y_predicted[i][j, x])])\n",
        "                sent_true.append(id2tag[int(y_true[i][j, x])])\n",
        "            y_predicted_list.append(sent_pred)\n",
        "            y_true_list.append(sent_true)\n",
        "    print(y_predicted_list[0:5])\n",
        "    print(y_true_list[0:5])\n",
        "    return seq_f1_score(y_true_list, y_predicted_list), seq_accuracy_score(y_true_list, y_predicted_list), seq_classification_report(y_true_list, y_predicted_list)\n",
        "    #CONVERTING y_predicted and y_true lists into tag list\n",
        "    # return y_predicted, y_true"
      ],
      "execution_count": 78,
      "outputs": []
    },
    {
      "cell_type": "code",
      "metadata": {
        "id": "giEz1miziBeN",
        "colab": {
          "base_uri": "https://localhost:8080/"
        },
        "outputId": "b33a6843-169d-4bcb-f6d7-15227d5c969f"
      },
      "source": [
        "# calculate the final metrics usign seq eval\n",
        "# TRAINING DATA\n",
        "loader_train = DataLoader(traindataset, batch_size= 1, shuffle=False)\n",
        "train_f1_conll, train_acc_conll, train_classif_report = final_metrics(model, loader_train)\n",
        "\n",
        "# VALIDATION DATA\n",
        "loader_valid = DataLoader(devdataset, batch_size= 1, shuffle=False)\n",
        "valid_f1_conll, valid_acc_conll, valid_classif_report = final_metrics(model, loader_valid)"
      ],
      "execution_count": 80,
      "outputs": [
        {
          "output_type": "stream",
          "text": [
            "[['O', 'B-org', 'O', 'O', 'O', 'B-tim', 'O', 'O', 'O', 'O', 'O', 'O', 'O', 'O', 'O', 'O', 'O', 'O', 'O', 'O', 'O', 'O', 'O', 'O', 'O', 'O', 'O', 'O', 'O', 'O', 'O', 'O', 'O', 'O', 'O', 'O', 'B-geo', 'O', 'O', 'O', 'O'], ['O', 'O', 'O', 'O', 'O', 'O', 'O', 'O', 'O', 'B-geo', 'O', 'B-geo', 'O', 'O', 'O', 'O', 'O', 'O', 'O', 'B-gpe', 'O', 'O', 'B-org', 'O'], ['O', 'O', 'O', 'O', 'O', 'O', 'O', 'O', 'O'], ['O', 'O', 'O', 'O', 'O', 'O', 'O', 'O', 'O', 'O', 'O', 'O', 'O', 'O', 'O', 'O', 'O', 'O', 'O', 'O'], ['O', 'O', 'O', 'O', 'O', 'O', 'B-tim', 'O', 'B-geo', 'O', 'B-geo', 'B-per', 'I-per', 'O', 'O', 'O', 'O', 'O', 'O', 'O', 'O', 'O', 'O', 'B-geo', 'O', 'O', 'O', 'O', 'O', 'O', 'O', 'O', 'O', 'O', 'O', 'O']]\n",
            "[['O', 'B-org', 'O', 'O', 'O', 'B-tim', 'O', 'O', 'O', 'O', 'O', 'O', 'O', 'O', 'O', 'O', 'O', 'O', 'O', 'O', 'O', 'O', 'O', 'O', 'O', 'O', 'O', 'O', 'O', 'O', 'O', 'O', 'O', 'O', 'O', 'O', 'B-geo', 'O', 'O', 'O', 'O'], ['O', 'O', 'O', 'O', 'O', 'O', 'O', 'O', 'O', 'B-geo', 'O', 'B-geo', 'O', 'O', 'O', 'O', 'O', 'O', 'O', 'B-gpe', 'O', 'O', 'B-org', 'O'], ['O', 'O', 'O', 'O', 'O', 'O', 'O', 'O', 'O'], ['O', 'O', 'O', 'O', 'O', 'O', 'O', 'O', 'O', 'O', 'O', 'O', 'O', 'O', 'O', 'O', 'O', 'O', 'O', 'O'], ['O', 'O', 'O', 'O', 'O', 'O', 'B-tim', 'O', 'B-geo', 'O', 'B-geo', 'B-per', 'I-per', 'O', 'O', 'O', 'O', 'O', 'O', 'O', 'O', 'O', 'O', 'B-geo', 'O', 'O', 'O', 'O', 'O', 'O', 'O', 'O', 'O', 'O', 'O', 'O']]\n",
            "[['O', 'O', 'O', 'O', 'B-tim', 'O', 'O', 'O', 'B-gpe', 'O', 'O', 'O', 'O', 'B-geo', 'O'], ['O', 'O', 'O', 'O', 'O', 'O', 'O', 'O', 'B-geo', 'O', 'O', 'O', 'B-org', 'I-org', 'O', 'O', 'O', 'O', 'O', 'O'], ['O', 'O', 'O', 'O', 'O', 'B-geo', 'O', 'B-geo', 'O', 'O', 'O', 'O', 'O', 'O', 'O', 'O'], ['O', 'O', 'O', 'O', 'O', 'B-per', 'I-per', 'I-per', 'O', 'O', 'O', 'O'], ['B-per', 'I-per', 'O', 'O', 'O', 'O', 'O', 'O', 'O']]\n",
            "[['O', 'O', 'O', 'O', 'B-tim', 'O', 'O', 'O', 'B-gpe', 'O', 'O', 'O', 'O', 'B-geo', 'O'], ['O', 'O', 'O', 'O', 'O', 'O', 'O', 'O', 'B-geo', 'O', 'O', 'O', 'B-org', 'I-org', 'O', 'O', 'O', 'O', 'O', 'O'], ['O', 'O', 'O', 'O', 'O', 'B-geo', 'O', 'B-geo', 'O', 'O', 'O', 'O', 'O', 'O', 'O', 'O'], ['O', 'O', 'O', 'O', 'O', 'B-per', 'I-per', 'I-per', 'O', 'O', 'O', 'O'], ['B-per', 'I-per', 'O', 'O', 'O', 'O', 'O', 'O', 'O']]\n"
          ],
          "name": "stdout"
        }
      ]
    },
    {
      "cell_type": "code",
      "metadata": {
        "colab": {
          "base_uri": "https://localhost:8080/"
        },
        "id": "Bz32VRN2ZkRG",
        "outputId": "069cd3a9-a687-4c2c-8c06-be87343a6f3e"
      },
      "source": [
        "print(train_f1_conll, train_acc_conll)\n",
        "print(valid_f1_conll, valid_acc_conll)\n",
        "print(train_classif_report)\n",
        "print(valid_classif_report)"
      ],
      "execution_count": 81,
      "outputs": [
        {
          "output_type": "stream",
          "text": [
            "0.8454516767549269 0.9753905832291655\n",
            "0.7636627710599203 0.9568450895810924\n",
            "              precision    recall  f1-score   support\n",
            "\n",
            "         art       0.47      0.35      0.40       296\n",
            "         eve       0.42      0.42      0.42       226\n",
            "         geo       0.86      0.90      0.88     29240\n",
            "         gpe       0.94      0.93      0.94     12058\n",
            "         nat       0.57      0.45      0.50       133\n",
            "         org       0.70      0.70      0.70     15803\n",
            "         per       0.85      0.84      0.84     13121\n",
            "         tim       0.89      0.87      0.88     15767\n",
            "\n",
            "   micro avg       0.84      0.85      0.85     86644\n",
            "   macro avg       0.71      0.68      0.70     86644\n",
            "weighted avg       0.84      0.85      0.85     86644\n",
            "\n",
            "              precision    recall  f1-score   support\n",
            "\n",
            "         art       0.29      0.13      0.18       105\n",
            "         eve       0.34      0.26      0.29        78\n",
            "         geo       0.80      0.84      0.82      9724\n",
            "         gpe       0.91      0.91      0.91      4210\n",
            "         nat       0.33      0.36      0.34        50\n",
            "         org       0.50      0.59      0.54      5187\n",
            "         per       0.72      0.70      0.71      4457\n",
            "         tim       0.86      0.83      0.85      5254\n",
            "\n",
            "   micro avg       0.75      0.78      0.76     29065\n",
            "   macro avg       0.59      0.58      0.58     29065\n",
            "weighted avg       0.76      0.78      0.77     29065\n",
            "\n"
          ],
          "name": "stdout"
        }
      ]
    },
    {
      "cell_type": "code",
      "metadata": {
        "id": "YOEZxs9PH3vW"
      },
      "source": [
        "#save train loss, acc, micro, macro\n",
        "#save val loss, acc, micro, macro\n",
        "#save figure train, val - loss, acc, micro, macro\n",
        "#save the sentence level f1 score evaluation which is done using seq eval\n",
        "# save model"
      ],
      "execution_count": 82,
      "outputs": []
    },
    {
      "cell_type": "code",
      "metadata": {
        "colab": {
          "base_uri": "https://localhost:8080/"
        },
        "id": "2dtYOhPTZeQN",
        "outputId": "1b76d4a0-99db-491f-fc26-ba6f1491afd6"
      },
      "source": [
        "testdatapath = \"/content/drive/MyDrive/Q2_DL/test.txt\"\n",
        "\n",
        "char_vocab = get_charvocab(vocab)\n",
        "Xtest, Ytest, x_testlengths, _, _ = load_data(testdatapath, buildvocab_tags=False, vocab = vocab, nertags = nertags)\n",
        "\n",
        "Xtest_temp, Ytest_temp, x_testlengths_temp, testvocab, testnertags = load_data(testdatapath, buildvocab_tags=True)\n",
        "wordid2word_charlevel_vocab_test, wordid2wordlen_test = make_id2word_charvocab(testvocab, char_vocab) # of the form {word:[1,2,3,4]}, {wordnum:wordlen}\n",
        "#make char level train data for the char embeddings \n",
        "Xtest_char, xtestlength_char = load_char_level(Xtest_temp, wordid2word_charlevel_vocab_test, wordid2wordlen_test)\n",
        "#finally make the dataloader for train\n",
        "testdataset = TensorDataset(Xtest, Xtest_char, Ytest, x_testlengths, xtestlength_char)\n",
        "loader_test = DataLoader(testdataset, batch_size= 1, shuffle=False)"
      ],
      "execution_count": 83,
      "outputs": [
        {
          "output_type": "stream",
          "text": [
            "24\n"
          ],
          "name": "stdout"
        }
      ]
    },
    {
      "cell_type": "code",
      "metadata": {
        "colab": {
          "base_uri": "https://localhost:8080/"
        },
        "id": "HoJia62fx4FX",
        "outputId": "264d3c8b-9ae0-4315-dabc-f9448ed75d84"
      },
      "source": [
        "test_f1_conll, test_acc_conll, test_classif_report = final_metrics(model, loader_test)"
      ],
      "execution_count": 84,
      "outputs": [
        {
          "output_type": "stream",
          "text": [
            "[['O', 'O', 'O', 'O', 'O', 'O', 'O', 'O', 'O', 'O', 'O', 'O'], ['B-gpe', 'O', 'O', 'O', 'O', 'O', 'O', 'O', 'O', 'O', 'B-geo', 'O', 'O', 'O', 'O', 'O', 'O', 'B-gpe', 'O', 'O', 'O', 'O', 'O', 'O', 'O'], ['O', 'O', 'O', 'O', 'O', 'O', 'O', 'O', 'O', 'O', 'O', 'O', 'O', 'O', 'O', 'O', 'O', 'O'], ['O', 'O', 'O', 'O', 'B-geo', 'O', 'O', 'O', 'O', 'O', 'O', 'O', 'O', 'O', 'O', 'O', 'O', 'O', 'B-tim', 'O', 'B-geo', 'O'], ['B-per', 'I-per', 'O', 'O', 'O', 'O', 'O', 'B-geo', 'O', 'O', 'O', 'O', 'O', 'O', 'O', 'O', 'O', 'O', 'O', 'O', 'O', 'O', 'O', 'O', 'O', 'B-tim', 'O', 'O', 'O', 'O', 'O', 'O', 'O']]\n",
            "[['O', 'O', 'O', 'O', 'O', 'O', 'O', 'O', 'O', 'O', 'O', 'O'], ['B-gpe', 'O', 'O', 'O', 'O', 'O', 'O', 'O', 'O', 'O', 'B-geo', 'O', 'O', 'O', 'O', 'O', 'O', 'B-gpe', 'O', 'O', 'O', 'O', 'O', 'O', 'O'], ['O', 'O', 'O', 'O', 'O', 'O', 'O', 'O', 'O', 'O', 'O', 'O', 'O', 'O', 'O', 'O', 'O', 'O'], ['O', 'O', 'O', 'O', 'B-geo', 'O', 'O', 'O', 'O', 'O', 'O', 'O', 'O', 'O', 'O', 'O', 'O', 'O', 'B-tim', 'O', 'B-geo', 'O'], ['B-per', 'I-per', 'O', 'O', 'O', 'O', 'O', 'B-geo', 'O', 'O', 'O', 'O', 'O', 'O', 'O', 'O', 'O', 'O', 'O', 'O', 'O', 'O', 'O', 'O', 'O', 'B-tim', 'O', 'O', 'O', 'O', 'O', 'O', 'O']]\n"
          ],
          "name": "stdout"
        }
      ]
    },
    {
      "cell_type": "code",
      "metadata": {
        "colab": {
          "base_uri": "https://localhost:8080/"
        },
        "id": "pwNZ5qQWyoFP",
        "outputId": "49dd53ad-4cfb-4148-ba77-9dad4d05f337"
      },
      "source": [
        "print(test_f1_conll, test_acc_conll)\n",
        "print(test_classif_report)"
      ],
      "execution_count": 85,
      "outputs": [
        {
          "output_type": "stream",
          "text": [
            "0.7601134247218911 0.955933057058525\n",
            "              precision    recall  f1-score   support\n",
            "\n",
            "         art       0.20      0.08      0.11       102\n",
            "         eve       0.32      0.28      0.30        87\n",
            "         geo       0.80      0.84      0.82      9912\n",
            "         gpe       0.91      0.90      0.91      4168\n",
            "         nat       0.55      0.42      0.47        55\n",
            "         org       0.49      0.58      0.54      5205\n",
            "         per       0.71      0.70      0.70      4406\n",
            "         tim       0.84      0.82      0.83      5275\n",
            "\n",
            "   micro avg       0.75      0.78      0.76     29210\n",
            "   macro avg       0.60      0.58      0.59     29210\n",
            "weighted avg       0.75      0.78      0.76     29210\n",
            "\n"
          ],
          "name": "stdout"
        }
      ]
    },
    {
      "cell_type": "code",
      "metadata": {
        "colab": {
          "base_uri": "https://localhost:8080/"
        },
        "id": "ByMxlIw9xWMs",
        "outputId": "5034586b-e58a-4309-b5e8-8857615d61e6"
      },
      "source": [
        "print(Xtest_char[0, 1])\n",
        "print(char_vocab)"
      ],
      "execution_count": 86,
      "outputs": [
        {
          "output_type": "stream",
          "text": [
            "tensor([23, 32, 66,  0,  0,  0,  0,  0,  0,  0,  0,  0,  0,  0,  0,  0,  0,  0,\n",
            "         0,  0,  0,  0,  0,  0])\n",
            "{'<padchar>': 0, '<oovchar>': 1, 'e': 2, 'k': 3, 'z': 4, \"'\": 5, 'x': 6, 'r': 7, '[': 8, ']': 9, '~': 10, 'j': 11, 'i': 12, '7': 13, 'l': 14, '9': 15, '6': 16, '#': 17, '…': 18, 'o': 19, 'é': 20, 'v': 21, '&': 22, 's': 23, '8': 24, 'w': 25, '’': 26, '–': 27, '/': 28, '?': 29, '\"': 30, 'm': 31, 'a': 32, '3': 33, '0': 34, 'u': 35, '-': 36, ',': 37, '”': 38, ':': 39, 'ö': 40, '(': 41, 'g': 42, '`': 43, '5': 44, 'f': 45, '—': 46, '‘': 47, '.': 48, 'n': 49, '_': 50, 'ó': 51, '2': 52, 'c': 53, '$': 54, '>': 55, '4': 56, 'b': 57, ';': 58, ')': 59, 'p': 60, 'h': 61, '1': 62, '%': 63, '!': 64, 'd': 65, 'y': 66, 'q': 67, 't': 68, '“': 69, '<': 70}\n"
          ],
          "name": "stdout"
        }
      ]
    },
    {
      "cell_type": "code",
      "metadata": {
        "colab": {
          "base_uri": "https://localhost:8080/"
        },
        "id": "STghdjp_xHxQ",
        "outputId": "05db0f8f-4fc8-4038-ce5f-3af494959b55"
      },
      "source": [
        "print(Ytest)"
      ],
      "execution_count": 87,
      "outputs": [
        {
          "output_type": "stream",
          "text": [
            "tensor([[ 6.,  6.,  6.,  ...,  0.,  0.,  0.],\n",
            "        [14.,  6.,  6.,  ...,  0.,  0.,  0.],\n",
            "        [ 6.,  6.,  6.,  ...,  0.,  0.,  0.],\n",
            "        ...,\n",
            "        [ 6.,  6.,  6.,  ...,  0.,  0.,  0.],\n",
            "        [ 6.,  6.,  6.,  ...,  0.,  0.,  0.],\n",
            "        [ 6.,  6.,  6.,  ...,  0.,  0.,  0.]])\n"
          ],
          "name": "stdout"
        }
      ]
    },
    {
      "cell_type": "code",
      "metadata": {
        "colab": {
          "base_uri": "https://localhost:8080/"
        },
        "id": "MS-_39ijxhLG",
        "outputId": "33e1c8fe-7932-4b7e-c99a-ead7315a22fa"
      },
      "source": [
        "print(Xdev.shape)"
      ],
      "execution_count": 88,
      "outputs": [
        {
          "output_type": "stream",
          "text": [
            "torch.Size([12402, 68])\n"
          ],
          "name": "stdout"
        }
      ]
    },
    {
      "cell_type": "code",
      "metadata": {
        "id": "5aBs-ds-yNHv",
        "colab": {
          "base_uri": "https://localhost:8080/"
        },
        "outputId": "7dbc78fc-b13f-49d8-8879-f15dc880722e"
      },
      "source": [
        "!head \"/content/drive/MyDrive/Q2_DL/test.txt\"\n"
      ],
      "execution_count": 89,
      "outputs": [
        {
          "output_type": "stream",
          "text": [
            "\n",
            "it PRP It O\n",
            "say VBD said O\n",
            "the DT the O\n",
            "fund NNS funds O\n",
            "would MD would O\n",
            "also RB also O\n",
            "be VB be O\n",
            "use VBN used O\n",
            "for IN for O\n"
          ],
          "name": "stdout"
        }
      ]
    },
    {
      "cell_type": "code",
      "metadata": {
        "id": "ARZGzZQs8wPL"
      },
      "source": [
        ""
      ],
      "execution_count": 89,
      "outputs": []
    }
  ]
}