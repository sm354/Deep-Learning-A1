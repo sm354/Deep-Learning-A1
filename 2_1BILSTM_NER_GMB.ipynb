{
  "nbformat": 4,
  "nbformat_minor": 0,
  "metadata": {
    "kernelspec": {
      "display_name": "Python 3",
      "language": "python",
      "name": "python3"
    },
    "language_info": {
      "codemirror_mode": {
        "name": "ipython",
        "version": 3
      },
      "file_extension": ".py",
      "mimetype": "text/x-python",
      "name": "python",
      "nbconvert_exporter": "python",
      "pygments_lexer": "ipython3",
      "version": "3.8.5"
    },
    "colab": {
      "name": "2_1BILSTM_NER_GMB.ipynb",
      "provenance": [],
      "collapsed_sections": [],
      "toc_visible": true,
      "include_colab_link": true
    },
    "accelerator": "GPU"
  },
  "cells": [
    {
      "cell_type": "markdown",
      "metadata": {
        "id": "view-in-github",
        "colab_type": "text"
      },
      "source": [
        "<a href=\"https://colab.research.google.com/github/sm354/COL870-Assignment-1/blob/main/2_1BILSTM_NER_GMB.ipynb\" target=\"_parent\"><img src=\"https://colab.research.google.com/assets/colab-badge.svg\" alt=\"Open In Colab\"/></a>"
      ]
    },
    {
      "cell_type": "code",
      "metadata": {
        "id": "Xp14M1xlCZRT"
      },
      "source": [
        "# !ln -sf /opt/bin/nvidia-smi /usr/bin/nvidia-smi\n",
        "# !pip install gputil\n",
        "# !pip install psutil\n",
        "# !pip install humanize\n",
        "\n",
        "# import psutil\n",
        "# import humanize\n",
        "# import os\n",
        "# import GPUtil as GPU\n",
        "\n",
        "# GPUs = GPU.getGPUs()\n",
        "# # XXX: only one GPU on Colab and isn’t guaranteed\n",
        "# gpu = GPUs[0]\n",
        "# def printm():\n",
        "#     process = psutil.Process(os.getpid())\n",
        "#     print(\"Gen RAM Free: \" + humanize.naturalsize(psutil.virtual_memory().available), \" |     Proc size: \" + humanize.naturalsize(process.memory_info().rss))\n",
        "#     print(\"GPU RAM Free: {0:.0f}MB | Used: {1:.0f}MB | Util {2:3.0f}% | Total     {3:.0f}MB\".format(gpu.memoryFree, gpu.memoryUsed, gpu.memoryUtil*100, gpu.memoryTotal))\n",
        "# printm()\n"
      ],
      "execution_count": 91,
      "outputs": []
    },
    {
      "cell_type": "code",
      "metadata": {
        "id": "6Toj8wCvvypN"
      },
      "source": [
        "import torch\n",
        "import torch.nn as nn\n",
        "import torch.nn.functional as F\n",
        "import pandas as pd\n",
        "import numpy as np\n",
        "import matplotlib.pyplot as plt\n",
        "from torch.nn.utils.rnn import pack_padded_sequence, pad_packed_sequence\n",
        "from torch.utils.data import Dataset, DataLoader, TensorDataset\n",
        "import io\n",
        "\n",
        "if torch.cuda.is_available():  \n",
        "  device = \"cuda:0\" \n",
        "else:  \n",
        "  device = \"cpu\"  \n",
        "\n",
        "# device = \"cpu\""
      ],
      "execution_count": 2,
      "outputs": []
    },
    {
      "cell_type": "code",
      "metadata": {
        "colab": {
          "base_uri": "https://localhost:8080/"
        },
        "id": "e9M1uW9_xHfE",
        "outputId": "b9f91744-3a42-4bef-c11a-b0b0e143708c"
      },
      "source": [
        "from google.colab import drive\n",
        "drive.mount('/content/drive')"
      ],
      "execution_count": 3,
      "outputs": [
        {
          "output_type": "stream",
          "text": [
            "Mounted at /content/drive\n"
          ],
          "name": "stdout"
        }
      ]
    },
    {
      "cell_type": "code",
      "metadata": {
        "id": "11BCpE2Sw7LL"
      },
      "source": [
        "pretrained = \"glove\" # glove or random\n",
        "char_embeds = \"Yes\""
      ],
      "execution_count": null,
      "outputs": []
    },
    {
      "cell_type": "code",
      "metadata": {
        "id": "FCOcV-RtvypX"
      },
      "source": [
        "# reading text file in python and making list of sentences (list of lists) and list of tags(list of lists)\n",
        "def load_data(datapath, buildvocab_tags= True, vocab = None, nertags = None):\n",
        "    if(buildvocab_tags == True):\n",
        "        all_words = []\n",
        "        all_tags = []\n",
        "        with open(datapath) as f:\n",
        "            lines = f.readlines()\n",
        "            sent_num = 0\n",
        "            for line in lines[1:]: #1: so that the first blank line isn't taken into account\n",
        "                if(line == \"\\n\"):\n",
        "                    sent_num+=1\n",
        "                else:\n",
        "                    line_sep = line.split(sep = \" \")\n",
        "                    all_words.append(line_sep[0])\n",
        "                    all_tags.append(line_sep[3][:-1])\n",
        "                    \n",
        "        words = list(set(all_words))\n",
        "        tags = list(set(all_tags))\n",
        "\n",
        "        vocab = {}\n",
        "        vocab['<pad>'] = 0 # for padding input sequences\n",
        "        vocab['<oov>'] = 1\n",
        "        for i, word in enumerate(words):\n",
        "            vocab[word] = i+2\n",
        "            \n",
        "        nertags = {}\n",
        "        nertags['padtag'] = 0\n",
        "        for i,nertag in enumerate(tags):\n",
        "            nertags[nertag] = i+1\n",
        "\n",
        "    train_sent = []\n",
        "    train_tags = []\n",
        "    with open(datapath) as f:\n",
        "        lines = f.readlines()\n",
        "        sent_num = 0\n",
        "        sentence = []\n",
        "        tag = []\n",
        "        for line in lines[1:]: #1: so that the first blank line isn't taken into account\n",
        "            if(line == \"\\n\"):\n",
        "                sent_num+=1\n",
        "                train_sent.append(sentence)\n",
        "                train_tags.append(tag)\n",
        "                sentence = []\n",
        "                tag = []\n",
        "            else:\n",
        "                line_sep = line.split(sep = \" \")\n",
        "                if(line_sep[0] in vocab.keys()):\n",
        "                    sentence.append(vocab[line_sep[0]])\n",
        "                else:\n",
        "                    sentence.append(vocab['<oov>'])\n",
        "                    \n",
        "                tag.append(nertags[line_sep[3][:-1]])\n",
        "\n",
        "    # padding the sentences at the end\n",
        "    seq_maxlen = max(len(x) for x in train_sent)\n",
        "    x_lengths = [len(x) for x in train_sent]\n",
        "    Xtrain = []\n",
        "    Ytrain = []\n",
        "    for sent, tags in zip(train_sent, train_tags):\n",
        "        length_toappend = seq_maxlen - len(sent)\n",
        "        Xtrain.append(sent+[0]*length_toappend)\n",
        "        Ytrain.append(tags+[0]*length_toappend)\n",
        "\n",
        "\n",
        "    Xtrain = torch.Tensor(Xtrain)\n",
        "    Ytrain = torch.Tensor(Ytrain)\n",
        "    x_lengths = torch.Tensor(x_lengths)\n",
        "    # print(Xtrain.shape, Ytrain.shape, x_lengths.shape)\n",
        "    \n",
        "    return Xtrain, Ytrain, x_lengths, vocab, nertags"
      ],
      "execution_count": 6,
      "outputs": []
    },
    {
      "cell_type": "markdown",
      "metadata": {
        "id": "tZT58V3Avypa"
      },
      "source": [
        "### Training Data\n",
        "### using dataloader to make data batches"
      ]
    },
    {
      "cell_type": "code",
      "metadata": {
        "id": "rPFYsfyNvypb"
      },
      "source": [
        "traindatapath = \"/content/drive/MyDrive/Q2_DL/train.txt\"\n",
        "devdatapath = \"/content/drive/MyDrive/Q2_DL/dev.txt\"\n",
        "\n",
        "Xtrain, Ytrain, x_trainlengths, vocab, nertags = load_data(traindatapath, buildvocab_tags=True)\n",
        "Xdev, Ydev, x_devlengths, _, _ = load_data(devdatapath, buildvocab_tags=False, vocab = vocab, nertags = nertags)\n",
        "\n",
        "traindataset = TensorDataset(Xtrain, Ytrain, x_trainlengths)\n",
        "Trainloader = DataLoader(traindataset, batch_size= 128, shuffle=True)\n",
        "\n",
        "devdataset = TensorDataset(Xdev, Ydev, x_devlengths)\n",
        "Devloader = DataLoader(devdataset, batch_size = 128)"
      ],
      "execution_count": 7,
      "outputs": []
    },
    {
      "cell_type": "code",
      "metadata": {
        "id": "hCO_s9yJgXrG"
      },
      "source": [
        "embedding_size = 100\n",
        "if(pretrained == \"glove\"):\n",
        "    gloveembeddings_index = {}\n",
        "    with io.open(\"/content/drive/MyDrive/Q2_DL/glove.6B.100d.txt\", encoding='utf8') as f:\n",
        "        for line in f:\n",
        "            values = line.split()\n",
        "            word = values[0]\n",
        "            coefs = np.asarray(values[1:],dtype='float32')\n",
        "            gloveembeddings_index[word] = coefs\n",
        "\n",
        "    #using vocab and Xtrain, Xvalid, get pretrained glove word embeddings\n",
        "    glove_embeds = np.zeros((len(vocab), embedding_size))\n",
        "    for word in vocab.keys():\n",
        "        if(word in gloveembeddings_index.keys()):\n",
        "            # for the pad word let theembedding be all zeros\n",
        "            glove_embeds[vocab[word]] = gloveembeddings_index[word]\n",
        "        else:\n",
        "            glove_embeds[vocab[word]] = np.random.randn(embedding_size)\n",
        "    word_embeds = torch.Tensor(glove_embeds)\n",
        "    # print(glove_embeds.shape) # shape (vocablength , embedding dim)\n",
        "\n",
        "if(pretrained == \"random\"):\n",
        "    num_words = len(vocab)\n",
        "    word_embeds = torch.rand(num_words, embed_dim)\n",
        "\n",
        "# hence we get word_embeds which we could use afterwards"
      ],
      "execution_count": 4,
      "outputs": []
    },
    {
      "cell_type": "code",
      "metadata": {
        "id": "bBG6d7VY0W1F"
      },
      "source": [
        "if(char_embeds = \"Yes\"):\n",
        "    charmodel = train_charmodel(train)"
      ],
      "execution_count": null,
      "outputs": []
    },
    {
      "cell_type": "code",
      "metadata": {
        "colab": {
          "base_uri": "https://localhost:8080/"
        },
        "id": "Tz-CSE7gQtSr",
        "outputId": "5eb50462-c52c-4567-e72f-397d05354162"
      },
      "source": [
        "#weight matrix for cross entropy loss\n",
        "weight = torch.zeros([len(nertags)])\n",
        "for i in range(len(nertags)):\n",
        "    weight[i] = 1/((Ytrain.view(-1) == i).sum())\n",
        "# print(weight)"
      ],
      "execution_count": 99,
      "outputs": [
        {
          "output_type": "stream",
          "text": [
            "tensor([3.2724e-07, 3.4200e-05, 4.4248e-03, 7.5426e-05, 7.5426e-05, 4.4248e-03,\n",
            "        7.0423e-03, 2.5641e-02, 3.3784e-03, 6.3279e-05, 6.3424e-05, 1.7498e-04,\n",
            "        1.4512e-06, 1.9775e-04, 5.2910e-03, 7.5188e-03, 7.6214e-05, 8.2932e-05])\n"
          ],
          "name": "stdout"
        }
      ]
    },
    {
      "cell_type": "markdown",
      "metadata": {
        "id": "gG1N_odHmcHz"
      },
      "source": [
        "# LSTM models for character **level**"
      ]
    },
    {
      "cell_type": "code",
      "metadata": {
        "id": "pDi_Al8UmazI"
      },
      "source": [
        "class forwardLSTM(nn.Module)\n",
        "    def __init__(self, embedding_size, hidden_size, pretr_char_embed):\n",
        "        super(forwardLSTM, self).__init__()\n",
        "        self.charembed = nn.Embedding.from_pretrained(pretr_char_embed, freeze = True) #size of pretrained = (totalchars,embedding size)\n",
        "        self.lstm = nn.LSTM(embedding_size, hidden_size, dropout = 0.5, bidirectional = False, batch_first = True)\n",
        "\n",
        "    def forward(self, xchar):\n",
        "        #xchar is of shape(batchsize, seqlen, maxwordlen-ie max char = 6)\n",
        "        out = []\n",
        "        for i in range(xchar.shape[1])\n",
        "\n",
        "        #(batchsize, seqlen, embeddingsize = 25)\n",
        "\n",
        "\n",
        "class backLSTM(nn.Module)\n",
        "    def __init__(self):\n",
        "        super(forwardLSTM, self).__init__()\n",
        "\n",
        "    def forward(self, xchar):"
      ],
      "execution_count": null,
      "outputs": []
    },
    {
      "cell_type": "markdown",
      "metadata": {
        "id": "TMzf8Y1Bvypc"
      },
      "source": [
        "# BiLSTM Model"
      ]
    },
    {
      "cell_type": "code",
      "metadata": {
        "id": "s4KBzpL-vypc"
      },
      "source": [
        "class BiLSTM(nn.Module):\n",
        "    def __init__(self, embedding_size, hidden_size, total_words, num_class, pretrained = False, pretrained_embed = None):\n",
        "        super(BiLSTM, self).__init__()\n",
        "        self.hidden_size = hidden_size\n",
        "        \n",
        "        # self.wordembed = nn.Embedding(total_words, embedding_size) #weights initiallized from std normal dist, randomly\n",
        "        # if(pretrained == True):\n",
        "        #     self.wordembed.weight = nn.Parameter(pretrained_embed) #pretrained embeds have size (total_words, embedding_size)\n",
        "\n",
        "        self.wordembed = nn.Embedding.from_pretrained(pretrained_embed, freeze = True)\n",
        "        self.for_charembed = forwardLSTM()\n",
        "        self.back_charembed = bachwardLSTM()\n",
        "\n",
        "        self.bilstm = nn.LSTM(embedding_size + 50,hidden_size, dropout = 0.5, bidirectional = True, batch_first = True)\n",
        "        self.linear = nn.Linear(2*hidden_size, num_class) # 2 because forward and backward concatenate\n",
        "\n",
        "    def forward(self, x, xchar, xlengths):\n",
        "        word_embedding = self.wordembed(x) # x is of size(batchsize, seq_len), out is of size (batchsize, seq_len, embedding_size = 100)\n",
        "        forwardchar= self.for_charembed(xchar) #forwardchar and backwardchar would be of size (batchsize, seqlen. embedding_size = 25each) \n",
        "        backwardchar = self.back_charembed(xchar)\n",
        "        out = torch.cat((word_embedding, forwardchar, backwardchar), dim = 2)\n",
        "\n",
        "        # out = pack_padded_sequence(out, xlengths.cpu(), batch_first=True, enforce_sorted=False)\n",
        "        \n",
        "        out, (h,c) = self.bilstm(out) #'out' has dimension(batchsize, seq_len, 2*hidden_size)\n",
        "        \n",
        "        # out, out_lengths = pad_packed_sequence(out, batch_first=True)\n",
        "\n",
        "        out = self.linear(out) #now 'out' has dimension(batchsize, seq_len, num_class)\n",
        "        out = out.view(-1, out.shape[2]) # shape (128*seqlen, 18)\n",
        "        out = F.log_softmax(out, dim=1) # take the softmax across the dimension num_class, 'out' has dimension(batchsize, seq_len, num_class)\n",
        "        return out\n",
        "        \n",
        "        "
      ],
      "execution_count": 103,
      "outputs": []
    },
    {
      "cell_type": "code",
      "metadata": {
        "id": "d6byqGo9vypd",
        "colab": {
          "base_uri": "https://localhost:8080/"
        },
        "outputId": "8ca52783-1e61-49b5-8d1a-cf793d811dcb"
      },
      "source": [
        "model = BiLSTM(embedding_size = 100, hidden_size = 100, total_words = len(vocab), num_class = 18, pretrained = True, pretrained_embed = glove_embeds).to(device)\n",
        "optimizer = torch.optim.SGD(model.parameters(), lr = 0.01, momentum = 0.9)\n",
        "scheduler = torch.optim.lr_scheduler.ReduceLROnPlateau(optimizer, 'min', patience=3) \n",
        "lossfunction = nn.CrossEntropyLoss(weight = weight)\n",
        "\n",
        "# print(model)\n",
        "def accuracy(y, ypred, nertags):\n",
        "    y = y.numpy()\n",
        "    ypred = ypred.numpy()\n",
        "    mask = (y != nertags['padtag']) * (y != nertags['O'])\n",
        "    # print(mask.sum())\n",
        "    # print(mask)\n",
        "    y = y*mask\n",
        "    ypred = ypred*mask\n",
        "    acc = ((y==ypred)*mask).sum()/mask.sum()\n",
        "    return acc\n",
        "\n",
        "# def lossfunction(ypred, yactual):\n",
        "#     mask_padded = (yactual!=nertags['padtag']).float()\n",
        "#     logprobs = ypred[:, yactual]\n",
        "#     logprobs = logprobs*mask_padded\n",
        "#     num = (yactual!=nertags['padtag']).sum().item()\n",
        "#     return -torch.sum(logprobs)/num\n",
        "\n",
        "def validate(model, loader):\n",
        "    with torch.no_grad():\n",
        "        validloss = 0\n",
        "        acc = 0\n",
        "        i = 0\n",
        "        for step, (X, Y, xlen) in enumerate(loader):\n",
        "            ypred = model(X.long().to(device), xlen.to(device))#.permute(0, 2, 1)\n",
        "            vloss = lossfunction(ypred.to('cpu'), Y.view(-1).type(torch.LongTensor))\n",
        "            validloss+=vloss\n",
        "            acc_ = accuracy(Y.view(-1), torch.argmax(ypred.to('cpu'), dim = 1), nertags)\n",
        "            acc+=acc_\n",
        "            i+=1\n",
        "\n",
        "    return validloss/i, acc/i"
      ],
      "execution_count": 104,
      "outputs": [
        {
          "output_type": "stream",
          "text": [
            "/usr/local/lib/python3.7/dist-packages/torch/nn/modules/rnn.py:63: UserWarning: dropout option adds dropout after all but last recurrent layer, so non-zero dropout expects num_layers greater than 1, but got dropout=0.5 and num_layers=1\n",
            "  \"num_layers={}\".format(dropout, num_layers))\n"
          ],
          "name": "stderr"
        }
      ]
    },
    {
      "cell_type": "code",
      "metadata": {
        "id": "seMNHki0D0V2"
      },
      "source": [
        "# optimizer = torch.optim.SGD(model.parameters(), lr = 0.001) \n",
        "trainloss = []\n",
        "validloss = []\n",
        "acclist = [] #accuracy except pad, O\n",
        "valacclist = []"
      ],
      "execution_count": 105,
      "outputs": []
    },
    {
      "cell_type": "code",
      "metadata": {
        "id": "I_us_70hYvzq"
      },
      "source": [
        "# optimizer = torch.optim.SGD(model.parameters(), lr = 0.001, momentum = 0.9) "
      ],
      "execution_count": 112,
      "outputs": []
    },
    {
      "cell_type": "code",
      "metadata": {
        "colab": {
          "base_uri": "https://localhost:8080/",
          "height": 1000
        },
        "id": "QgudoA7Mvypd",
        "outputId": "517138e5-4407-4b51-e062-8a231dace0c9"
      },
      "source": [
        "# Model is ready now we have to train using cross entropy loss\n",
        "num_epochs = 100\n",
        "# validloss = []\n",
        "model.train()\n",
        "for epoch in range(num_epochs):\n",
        "    if(epoch == 10):\n",
        "      model.wordembed.weight.requires_grad = True\n",
        "    for step, (Xbatch ,Ybatch, xbatch_len) in enumerate(Trainloader):\n",
        "        #make gradients 0\n",
        "        optimizer.zero_grad()\n",
        "        # print(Xbatch.shape)\n",
        "        \n",
        "        #get output from model and claculate loss\n",
        "        ypred = model(Xbatch.long().to(device), xbatch_len.to(device))#.permute(0, 2, 1)\n",
        "        if(step%1000 == 0):\n",
        "            # print(ypred.shape, Ybatch.shape)\n",
        "            acc = accuracy(Ybatch.view(-1), torch.argmax(ypred.to('cpu'), dim = 1), nertags)\n",
        "            print(\"accuracy = {}\".format(acc))\n",
        "            acclist.append(acc)\n",
        "        \n",
        "        loss = lossfunction(ypred.to('cpu'), Ybatch.view(-1).type(torch.LongTensor)) #Ybatch has dimension (batchsize, seqlen), ypred has dimension(batchsize, num_classes, seqlen)\n",
        "        \n",
        "        #backward and step\n",
        "        loss.backward()\n",
        "        nn.utils.clip_grad_norm_(model.parameters(), 5) # clip gradient to 5\n",
        "        optimizer.step()\n",
        "    \n",
        "    trainloss.append(loss)\n",
        "    # model validation loss and scheduler step for learning rate change if required\n",
        "    val_loss, val_acc = validate(model, Devloader)\n",
        "    validloss.append(val_loss)\n",
        "    valacclist.append(val_acc)\n",
        "    scheduler.step(val_loss)\n",
        "    print('\\nepoch = {}, training_loss = {}, validation_loss = {}'.format(epoch, trainloss[-1], validloss[-1]))        \n",
        "        \n",
        "        \n",
        "        "
      ],
      "execution_count": 113,
      "outputs": [
        {
          "output_type": "stream",
          "text": [
            "accuracy = 0.8069767441860465\n",
            "\n",
            "epoch = 0, training_loss = 0.25071361660957336, validation_loss = 1.0424443483352661\n",
            "accuracy = 0.8093023255813954\n",
            "\n",
            "epoch = 1, training_loss = 0.4421331584453583, validation_loss = 1.05917489528656\n",
            "accuracy = 0.8326180257510729\n",
            "\n",
            "epoch = 2, training_loss = 0.30962640047073364, validation_loss = 1.0555262565612793\n",
            "accuracy = 0.7909090909090909\n",
            "\n",
            "epoch = 3, training_loss = 0.5047191977500916, validation_loss = 1.0505092144012451\n",
            "accuracy = 0.7954545454545454\n",
            "\n",
            "epoch = 4, training_loss = 0.4159138798713684, validation_loss = 1.0583398342132568\n",
            "accuracy = 0.7837837837837838\n",
            "\n",
            "epoch = 5, training_loss = 0.3818749487400055, validation_loss = 1.066270351409912\n",
            "accuracy = 0.7780429594272077\n",
            "\n",
            "epoch = 6, training_loss = 0.33888372778892517, validation_loss = 1.0631229877471924\n",
            "accuracy = 0.8131067961165048\n",
            "\n",
            "epoch = 7, training_loss = 0.4743479788303375, validation_loss = 1.0566062927246094\n",
            "accuracy = 0.7991071428571429\n",
            "\n",
            "epoch = 8, training_loss = 0.2748398780822754, validation_loss = 1.0651822090148926\n",
            "accuracy = 0.789838337182448\n",
            "\n",
            "epoch = 9, training_loss = 0.2693910598754883, validation_loss = 1.0897763967514038\n",
            "accuracy = 0.8355437665782494\n",
            "\n",
            "epoch = 10, training_loss = 0.21668750047683716, validation_loss = 1.0777586698532104\n",
            "accuracy = 0.784688995215311\n",
            "\n",
            "epoch = 11, training_loss = 0.40473058819770813, validation_loss = 1.0683414936065674\n",
            "accuracy = 0.7878787878787878\n",
            "\n",
            "epoch = 12, training_loss = 0.512765645980835, validation_loss = 1.0840487480163574\n",
            "accuracy = 0.8058035714285714\n",
            "\n",
            "epoch = 13, training_loss = 0.3078879415988922, validation_loss = 1.0849649906158447\n",
            "accuracy = 0.8281938325991189\n",
            "\n",
            "epoch = 14, training_loss = 0.39178502559661865, validation_loss = 1.0884186029434204\n",
            "accuracy = 0.8246013667425968\n",
            "\n",
            "epoch = 15, training_loss = 0.4803318679332733, validation_loss = 1.0660463571548462\n",
            "accuracy = 0.7901498929336188\n",
            "\n",
            "epoch = 16, training_loss = 0.3411398231983185, validation_loss = 1.0915923118591309\n",
            "accuracy = 0.8197969543147208\n"
          ],
          "name": "stdout"
        },
        {
          "output_type": "error",
          "ename": "KeyboardInterrupt",
          "evalue": "ignored",
          "traceback": [
            "\u001b[0;31m---------------------------------------------------------------------------\u001b[0m",
            "\u001b[0;31mKeyboardInterrupt\u001b[0m                         Traceback (most recent call last)",
            "\u001b[0;32m<ipython-input-113-0e6ad1b3b53b>\u001b[0m in \u001b[0;36m<module>\u001b[0;34m()\u001b[0m\n\u001b[1;32m     22\u001b[0m \u001b[0;34m\u001b[0m\u001b[0m\n\u001b[1;32m     23\u001b[0m         \u001b[0;31m#backward and step\u001b[0m\u001b[0;34m\u001b[0m\u001b[0;34m\u001b[0m\u001b[0;34m\u001b[0m\u001b[0m\n\u001b[0;32m---> 24\u001b[0;31m         \u001b[0mloss\u001b[0m\u001b[0;34m.\u001b[0m\u001b[0mbackward\u001b[0m\u001b[0;34m(\u001b[0m\u001b[0;34m)\u001b[0m\u001b[0;34m\u001b[0m\u001b[0;34m\u001b[0m\u001b[0m\n\u001b[0m\u001b[1;32m     25\u001b[0m         \u001b[0mnn\u001b[0m\u001b[0;34m.\u001b[0m\u001b[0mutils\u001b[0m\u001b[0;34m.\u001b[0m\u001b[0mclip_grad_norm_\u001b[0m\u001b[0;34m(\u001b[0m\u001b[0mmodel\u001b[0m\u001b[0;34m.\u001b[0m\u001b[0mparameters\u001b[0m\u001b[0;34m(\u001b[0m\u001b[0;34m)\u001b[0m\u001b[0;34m,\u001b[0m \u001b[0;36m5\u001b[0m\u001b[0;34m)\u001b[0m \u001b[0;31m# clip gradient to 5\u001b[0m\u001b[0;34m\u001b[0m\u001b[0;34m\u001b[0m\u001b[0m\n\u001b[1;32m     26\u001b[0m         \u001b[0moptimizer\u001b[0m\u001b[0;34m.\u001b[0m\u001b[0mstep\u001b[0m\u001b[0;34m(\u001b[0m\u001b[0;34m)\u001b[0m\u001b[0;34m\u001b[0m\u001b[0;34m\u001b[0m\u001b[0m\n",
            "\u001b[0;32m/usr/local/lib/python3.7/dist-packages/torch/tensor.py\u001b[0m in \u001b[0;36mbackward\u001b[0;34m(self, gradient, retain_graph, create_graph, inputs)\u001b[0m\n\u001b[1;32m    243\u001b[0m                 \u001b[0mcreate_graph\u001b[0m\u001b[0;34m=\u001b[0m\u001b[0mcreate_graph\u001b[0m\u001b[0;34m,\u001b[0m\u001b[0;34m\u001b[0m\u001b[0;34m\u001b[0m\u001b[0m\n\u001b[1;32m    244\u001b[0m                 inputs=inputs)\n\u001b[0;32m--> 245\u001b[0;31m         \u001b[0mtorch\u001b[0m\u001b[0;34m.\u001b[0m\u001b[0mautograd\u001b[0m\u001b[0;34m.\u001b[0m\u001b[0mbackward\u001b[0m\u001b[0;34m(\u001b[0m\u001b[0mself\u001b[0m\u001b[0;34m,\u001b[0m \u001b[0mgradient\u001b[0m\u001b[0;34m,\u001b[0m \u001b[0mretain_graph\u001b[0m\u001b[0;34m,\u001b[0m \u001b[0mcreate_graph\u001b[0m\u001b[0;34m,\u001b[0m \u001b[0minputs\u001b[0m\u001b[0;34m=\u001b[0m\u001b[0minputs\u001b[0m\u001b[0;34m)\u001b[0m\u001b[0;34m\u001b[0m\u001b[0;34m\u001b[0m\u001b[0m\n\u001b[0m\u001b[1;32m    246\u001b[0m \u001b[0;34m\u001b[0m\u001b[0m\n\u001b[1;32m    247\u001b[0m     \u001b[0;32mdef\u001b[0m \u001b[0mregister_hook\u001b[0m\u001b[0;34m(\u001b[0m\u001b[0mself\u001b[0m\u001b[0;34m,\u001b[0m \u001b[0mhook\u001b[0m\u001b[0;34m)\u001b[0m\u001b[0;34m:\u001b[0m\u001b[0;34m\u001b[0m\u001b[0;34m\u001b[0m\u001b[0m\n",
            "\u001b[0;32m/usr/local/lib/python3.7/dist-packages/torch/autograd/__init__.py\u001b[0m in \u001b[0;36mbackward\u001b[0;34m(tensors, grad_tensors, retain_graph, create_graph, grad_variables, inputs)\u001b[0m\n\u001b[1;32m    145\u001b[0m     Variable._execution_engine.run_backward(\n\u001b[1;32m    146\u001b[0m         \u001b[0mtensors\u001b[0m\u001b[0;34m,\u001b[0m \u001b[0mgrad_tensors_\u001b[0m\u001b[0;34m,\u001b[0m \u001b[0mretain_graph\u001b[0m\u001b[0;34m,\u001b[0m \u001b[0mcreate_graph\u001b[0m\u001b[0;34m,\u001b[0m \u001b[0minputs\u001b[0m\u001b[0;34m,\u001b[0m\u001b[0;34m\u001b[0m\u001b[0;34m\u001b[0m\u001b[0m\n\u001b[0;32m--> 147\u001b[0;31m         allow_unreachable=True, accumulate_grad=True)  # allow_unreachable flag\n\u001b[0m\u001b[1;32m    148\u001b[0m \u001b[0;34m\u001b[0m\u001b[0m\n\u001b[1;32m    149\u001b[0m \u001b[0;34m\u001b[0m\u001b[0m\n",
            "\u001b[0;31mKeyboardInterrupt\u001b[0m: "
          ]
        }
      ]
    },
    {
      "cell_type": "code",
      "metadata": {
        "colab": {
          "base_uri": "https://localhost:8080/"
        },
        "id": "XTjqszDbvype",
        "outputId": "9e2438c9-25b0-4901-8e62-ddd9f4de89ac"
      },
      "source": [
        "print(trainloss)\n",
        "print(acclist)"
      ],
      "execution_count": 114,
      "outputs": [
        {
          "output_type": "stream",
          "text": [
            "[tensor(1.8262, grad_fn=<NllLossBackward>), tensor(1.7313, grad_fn=<NllLossBackward>), tensor(1.1247, grad_fn=<NllLossBackward>), tensor(0.7176, grad_fn=<NllLossBackward>), tensor(0.7206, grad_fn=<NllLossBackward>), tensor(0.8368, grad_fn=<NllLossBackward>), tensor(1.0982, grad_fn=<NllLossBackward>), tensor(0.7484, grad_fn=<NllLossBackward>), tensor(0.9695, grad_fn=<NllLossBackward>), tensor(0.6556, grad_fn=<NllLossBackward>), tensor(0.7988, grad_fn=<NllLossBackward>), tensor(0.6737, grad_fn=<NllLossBackward>), tensor(0.6650, grad_fn=<NllLossBackward>), tensor(0.4299, grad_fn=<NllLossBackward>), tensor(0.4433, grad_fn=<NllLossBackward>), tensor(0.5393, grad_fn=<NllLossBackward>), tensor(0.5148, grad_fn=<NllLossBackward>), tensor(0.5604, grad_fn=<NllLossBackward>), tensor(0.3638, grad_fn=<NllLossBackward>), tensor(0.5430, grad_fn=<NllLossBackward>), tensor(0.4363, grad_fn=<NllLossBackward>), tensor(0.3378, grad_fn=<NllLossBackward>), tensor(0.3410, grad_fn=<NllLossBackward>), tensor(0.2507, grad_fn=<NllLossBackward>), tensor(0.4421, grad_fn=<NllLossBackward>), tensor(0.3096, grad_fn=<NllLossBackward>), tensor(0.5047, grad_fn=<NllLossBackward>), tensor(0.4159, grad_fn=<NllLossBackward>), tensor(0.3819, grad_fn=<NllLossBackward>), tensor(0.3389, grad_fn=<NllLossBackward>), tensor(0.4743, grad_fn=<NllLossBackward>), tensor(0.2748, grad_fn=<NllLossBackward>), tensor(0.2694, grad_fn=<NllLossBackward>), tensor(0.2167, grad_fn=<NllLossBackward>), tensor(0.4047, grad_fn=<NllLossBackward>), tensor(0.5128, grad_fn=<NllLossBackward>), tensor(0.3079, grad_fn=<NllLossBackward>), tensor(0.3918, grad_fn=<NllLossBackward>), tensor(0.4803, grad_fn=<NllLossBackward>), tensor(0.3411, grad_fn=<NllLossBackward>)]\n",
            "[0.03036876355748373, 0.3908872901678657, 0.5420792079207921, 0.6049661399548533, 0.6681514476614699, 0.6576354679802956, 0.6861924686192469, 0.6823027718550106, 0.6962616822429907, 0.7312072892938497, 0.7916666666666666, 0.7432432432432432, 0.7438692098092643, 0.7612293144208038, 0.7159353348729792, 0.748868778280543, 0.8346055979643766, 0.8044077134986226, 0.7903225806451613, 0.8014184397163121, 0.7633744855967078, 0.7990543735224587, 0.8214285714285714, 0.8211382113821138, 0.8069767441860465, 0.8093023255813954, 0.8326180257510729, 0.7909090909090909, 0.7954545454545454, 0.7837837837837838, 0.7780429594272077, 0.8131067961165048, 0.7991071428571429, 0.789838337182448, 0.8355437665782494, 0.784688995215311, 0.7878787878787878, 0.8058035714285714, 0.8281938325991189, 0.8246013667425968, 0.7901498929336188, 0.8197969543147208]\n"
          ],
          "name": "stdout"
        }
      ]
    },
    {
      "cell_type": "code",
      "metadata": {
        "colab": {
          "base_uri": "https://localhost:8080/",
          "height": 268
        },
        "id": "KJ0IjhNavype",
        "outputId": "a17b7914-f03a-4ea0-f78a-2db11d8b2935"
      },
      "source": [
        "plt.plot(trainloss, label = \"trainloss\")\n",
        "plt.plot(validloss, label = \"validloss\")\n",
        "plt.legend()\n",
        "plt.show()"
      ],
      "execution_count": 115,
      "outputs": [
        {
          "output_type": "display_data",
          "data": {
            "image/png": "[encoded data removed]",
            "text/plain": [
              "<Figure size 432x288 with 1 Axes>"
            ]
          },
          "metadata": {
            "tags": [],
            "needs_background": "light"
          }
        }
      ]
    },
    {
      "cell_type": "code",
      "metadata": {
        "id": "3kuOxKLJ2jvT",
        "colab": {
          "base_uri": "https://localhost:8080/",
          "height": 265
        },
        "outputId": "f4f889dd-6ec0-4c52-bab2-1cb4f0fb656f"
      },
      "source": [
        "plt.plot(acclist, label = 'train_accuracy(exclude \"0\", \"padtag\")')\n",
        "plt.plot(valacclist, label = 'val_accuracy')\n",
        "plt.legend()\n",
        "plt.show()"
      ],
      "execution_count": 117,
      "outputs": [
        {
          "output_type": "display_data",
          "data": {
            "image/png": "[encoded data removed]",
            "text/plain": [
              "<Figure size 432x288 with 1 Axes>"
            ]
          },
          "metadata": {
            "tags": [],
            "needs_background": "light"
          }
        }
      ]
    },
    {
      "cell_type": "code",
      "metadata": {
        "id": "giEz1miziBeN"
      },
      "source": [
        ""
      ],
      "execution_count": 117,
      "outputs": []
    }
  ]
}