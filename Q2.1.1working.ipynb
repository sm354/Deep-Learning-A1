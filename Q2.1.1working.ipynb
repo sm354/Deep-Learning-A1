{
  "nbformat": 4,
  "nbformat_minor": 0,
  "metadata": {
    "kernelspec": {
      "display_name": "Python 3",
      "language": "python",
      "name": "python3"
    },
    "language_info": {
      "codemirror_mode": {
        "name": "ipython",
        "version": 3
      },
      "file_extension": ".py",
      "mimetype": "text/x-python",
      "name": "python",
      "nbconvert_exporter": "python",
      "pygments_lexer": "ipython3",
      "version": "3.8.5"
    },
    "colab": {
      "name": "2_1BILSTM_NER_GMB.ipynb",
      "provenance": [],
      "collapsed_sections": [],
      "toc_visible": true,
      "include_colab_link": true
    },
    "accelerator": "GPU"
  },
  "cells": [
    {
      "cell_type": "markdown",
      "metadata": {
        "id": "view-in-github",
        "colab_type": "text"
      },
      "source": [
        "<a href=\"https://colab.research.google.com/github/sm354/COL870-Assignment-1/blob/main/Q2.1.1working.ipynb\" target=\"_parent\"><img src=\"https://colab.research.google.com/assets/colab-badge.svg\" alt=\"Open In Colab\"/></a>"
      ]
    },
    {
      "cell_type": "code",
      "metadata": {
        "id": "Xp14M1xlCZRT"
      },
      "source": [
        "# !ln -sf /opt/bin/nvidia-smi /usr/bin/nvidia-smi\n",
        "# !pip install gputil\n",
        "# !pip install psutil\n",
        "# !pip install humanize\n",
        "\n",
        "# import psutil\n",
        "# import humanize\n",
        "# import os\n",
        "# import GPUtil as GPU\n",
        "\n",
        "# GPUs = GPU.getGPUs()\n",
        "# # XXX: only one GPU on Colab and isn’t guaranteed\n",
        "# gpu = GPUs[0]\n",
        "# def printm():\n",
        "#     process = psutil.Process(os.getpid())\n",
        "#     print(\"Gen RAM Free: \" + humanize.naturalsize(psutil.virtual_memory().available), \" |     Proc size: \" + humanize.naturalsize(process.memory_info().rss))\n",
        "#     print(\"GPU RAM Free: {0:.0f}MB | Used: {1:.0f}MB | Util {2:3.0f}% | Total     {3:.0f}MB\".format(gpu.memoryFree, gpu.memoryUsed, gpu.memoryUtil*100, gpu.memoryTotal))\n",
        "# printm()\n"
      ],
      "execution_count": 2,
      "outputs": []
    },
    {
      "cell_type": "code",
      "metadata": {
        "id": "6Toj8wCvvypN"
      },
      "source": [
        "import torch\n",
        "import torch.nn as nn\n",
        "import torch.nn.functional as F\n",
        "import pandas as pd\n",
        "import numpy as np\n",
        "import matplotlib.pyplot as plt\n",
        "from torch.nn.utils.rnn import pack_padded_sequence, pad_packed_sequence\n",
        "from torch.utils.data import Dataset, DataLoader, TensorDataset\n",
        "import io\n",
        "\n",
        "if torch.cuda.is_available():  \n",
        "  device = \"cuda:0\" \n",
        "else:  \n",
        "  device = \"cpu\"  \n",
        "\n",
        "# device = \"cpu\""
      ],
      "execution_count": 25,
      "outputs": []
    },
    {
      "cell_type": "code",
      "metadata": {
        "colab": {
          "base_uri": "https://localhost:8080/"
        },
        "id": "e9M1uW9_xHfE",
        "outputId": "3c921c81-c0b6-4777-b892-581122b0ecbe"
      },
      "source": [
        "from google.colab import drive\n",
        "drive.mount('/content/drive')"
      ],
      "execution_count": 4,
      "outputs": [
        {
          "output_type": "stream",
          "text": [
            "Mounted at /content/drive\n"
          ],
          "name": "stdout"
        }
      ]
    },
    {
      "cell_type": "code",
      "metadata": {
        "id": "11BCpE2Sw7LL"
      },
      "source": [
        "pretrained = \"random\" # glove or random\n",
        "char_embeds = \"Yes\""
      ],
      "execution_count": 26,
      "outputs": []
    },
    {
      "cell_type": "code",
      "metadata": {
        "id": "FCOcV-RtvypX"
      },
      "source": [
        "# reading text file in python and making list of sentences (list of lists) and list of tags(list of lists)\n",
        "def load_data(datapath, buildvocab_tags= True, vocab = None, nertags = None):\n",
        "    if(buildvocab_tags == True):\n",
        "        all_words = []\n",
        "        all_tags = []\n",
        "        with open(datapath) as f:\n",
        "            lines = f.readlines()\n",
        "            sent_num = 0\n",
        "            for line in lines[1:]: #1: so that the first blank line isn't taken into account\n",
        "                if(line == \"\\n\"):\n",
        "                    sent_num+=1\n",
        "                else:\n",
        "                    line_sep = line.split(sep = \" \")\n",
        "                    all_words.append(line_sep[0])\n",
        "                    all_tags.append(line_sep[3][:-1])\n",
        "                    \n",
        "        words = list(set(all_words))\n",
        "        tags = list(set(all_tags))\n",
        "\n",
        "        vocab = {}\n",
        "        vocab['<pad>'] = 0 # for padding input sequences\n",
        "        vocab['<oov>'] = 1\n",
        "        for i, word in enumerate(words):\n",
        "            vocab[word] = i+2\n",
        "            \n",
        "        nertags = {}\n",
        "        nertags['padtag'] = 0\n",
        "        for i,nertag in enumerate(tags):\n",
        "            nertags[nertag] = i+1\n",
        "\n",
        "    train_sent = []\n",
        "    train_tags = []\n",
        "    with open(datapath) as f:\n",
        "        lines = f.readlines()\n",
        "        sent_num = 0\n",
        "        sentence = []\n",
        "        tag = []\n",
        "        for line in lines[1:]: #1: so that the first blank line isn't taken into account\n",
        "            if(line == \"\\n\"):\n",
        "                sent_num+=1\n",
        "                train_sent.append(sentence)\n",
        "                train_tags.append(tag)\n",
        "                sentence = []\n",
        "                tag = []\n",
        "            else:\n",
        "                line_sep = line.split(sep = \" \")\n",
        "                if(line_sep[0] in vocab.keys()):\n",
        "                    sentence.append(vocab[line_sep[0]])\n",
        "                else:\n",
        "                    sentence.append(vocab['<oov>'])\n",
        "                    \n",
        "                tag.append(nertags[line_sep[3][:-1]])\n",
        "\n",
        "    # padding the sentences at the end\n",
        "    seq_maxlen = max(len(x) for x in train_sent)\n",
        "    x_lengths = [len(x) for x in train_sent]\n",
        "    Xtrain = []\n",
        "    Ytrain = []\n",
        "    for sent, tags in zip(train_sent, train_tags):\n",
        "        length_toappend = seq_maxlen - len(sent)\n",
        "        Xtrain.append(sent+[0]*length_toappend)\n",
        "        Ytrain.append(tags+[0]*length_toappend)\n",
        "\n",
        "\n",
        "    Xtrain = torch.Tensor(Xtrain)\n",
        "    Ytrain = torch.Tensor(Ytrain)\n",
        "    x_lengths = torch.Tensor(x_lengths)\n",
        "    # print(Xtrain.shape, Ytrain.shape, x_lengths.shape)\n",
        "    \n",
        "    return Xtrain, Ytrain, x_lengths, vocab, nertags"
      ],
      "execution_count": 27,
      "outputs": []
    },
    {
      "cell_type": "markdown",
      "metadata": {
        "id": "tZT58V3Avypa"
      },
      "source": [
        "### Training Data\n",
        "### using dataloader to make data batches"
      ]
    },
    {
      "cell_type": "code",
      "metadata": {
        "id": "rPFYsfyNvypb"
      },
      "source": [
        "traindatapath = \"/content/drive/MyDrive/Q2_DL/train.txt\"\n",
        "devdatapath = \"/content/drive/MyDrive/Q2_DL/dev.txt\"\n",
        "\n",
        "Xtrain, Ytrain, x_trainlengths, vocab, nertags = load_data(traindatapath, buildvocab_tags=True)\n",
        "Xdev, Ydev, x_devlengths, _, _ = load_data(devdatapath, buildvocab_tags=False, vocab = vocab, nertags = nertags)\n",
        "\n",
        "traindataset = TensorDataset(Xtrain, Ytrain, x_trainlengths)\n",
        "Trainloader = DataLoader(traindataset, batch_size= 128, shuffle=True)\n",
        "\n",
        "devdataset = TensorDataset(Xdev, Ydev, x_devlengths)\n",
        "Devloader = DataLoader(devdataset, batch_size = 128)"
      ],
      "execution_count": 28,
      "outputs": []
    },
    {
      "cell_type": "code",
      "metadata": {
        "id": "hCO_s9yJgXrG"
      },
      "source": [
        "embedding_size = 100\n",
        "if(pretrained == \"glove\"):\n",
        "    gloveembeddings_index = {}\n",
        "    with io.open(\"/content/drive/MyDrive/Q2_DL/glove.6B.100d.txt\", encoding='utf8') as f:\n",
        "        for line in f:\n",
        "            values = line.split()\n",
        "            word = values[0]\n",
        "            coefs = np.asarray(values[1:],dtype='float32')\n",
        "            gloveembeddings_index[word] = coefs\n",
        "\n",
        "    #using vocab and Xtrain, Xvalid, get pretrained glove word embeddings\n",
        "    glove_embeds = np.zeros((len(vocab), embedding_size))\n",
        "    for word in vocab.keys():\n",
        "        if(word in gloveembeddings_index.keys()):\n",
        "            # for the pad word let theembedding be all zeros\n",
        "            glove_embeds[vocab[word]] = gloveembeddings_index[word]\n",
        "        else:\n",
        "            glove_embeds[vocab[word]] = np.random.randn(embedding_size)\n",
        "    word_embeds = torch.Tensor(glove_embeds)\n",
        "    # print(glove_embeds.shape) # shape (vocablength , embedding dim)\n",
        "\n",
        "if(pretrained == \"random\"):\n",
        "    num_words = len(vocab)\n",
        "    word_embeds = torch.rand(num_words, embedding_size)\n",
        "\n",
        "# hence we get word_embeds which we could use afterwards"
      ],
      "execution_count": 30,
      "outputs": []
    },
    {
      "cell_type": "code",
      "metadata": {
        "id": "bBG6d7VY0W1F"
      },
      "source": [
        "# if(char_embeds = \"Yes\"):\n",
        "#     charmodel = train_charmodel(train)"
      ],
      "execution_count": 31,
      "outputs": []
    },
    {
      "cell_type": "code",
      "metadata": {
        "id": "Tz-CSE7gQtSr"
      },
      "source": [
        "#weight matrix for cross entropy loss\n",
        "weight = torch.zeros([len(nertags)])\n",
        "for i in range(len(nertags)):\n",
        "    weight[i] = 1/((Ytrain.view(-1) == i).sum())\n",
        "# print(weight)"
      ],
      "execution_count": 32,
      "outputs": []
    },
    {
      "cell_type": "markdown",
      "metadata": {
        "id": "gG1N_odHmcHz"
      },
      "source": [
        "# LSTM models for character **level**"
      ]
    },
    {
      "cell_type": "code",
      "metadata": {
        "id": "pDi_Al8UmazI"
      },
      "source": [
        "# class forwardLSTM(nn.Module)\n",
        "#     def __init__(self, embedding_size, hidden_size, pretr_char_embed):\n",
        "#         super(forwardLSTM, self).__init__()\n",
        "#         self.charembed = nn.Embedding.from_pretrained(pretr_char_embed, freeze = True) #size of pretrained = (totalchars,embedding size)\n",
        "#         self.lstm = nn.LSTM(embedding_size, hidden_size, dropout = 0.5, bidirectional = False, batch_first = True)\n",
        "\n",
        "#     def forward(self, xchar):\n",
        "#         #xchar is of shape(batchsize, seqlen, maxwordlen-ie max char = 6)\n",
        "#         out = []\n",
        "#         for i in range(xchar.shape[1])\n",
        "\n",
        "#         #(batchsize, seqlen, embeddingsize = 25)\n",
        "\n",
        "\n",
        "# class backLSTM(nn.Module)\n",
        "#     def __init__(self):\n",
        "#         super(forwardLSTM, self).__init__()\n",
        "\n",
        "#     def forward(self, xchar):"
      ],
      "execution_count": 33,
      "outputs": []
    },
    {
      "cell_type": "markdown",
      "metadata": {
        "id": "TMzf8Y1Bvypc"
      },
      "source": [
        "# BiLSTM Model"
      ]
    },
    {
      "cell_type": "code",
      "metadata": {
        "id": "s4KBzpL-vypc"
      },
      "source": [
        "class BiLSTM(nn.Module):\n",
        "    def __init__(self, embedding_size, hidden_size, total_words, num_class, pretrained = False, pretrained_embed = None):\n",
        "        super(BiLSTM, self).__init__()\n",
        "        self.hidden_size = hidden_size\n",
        "        \n",
        "        # self.wordembed = nn.Embedding(total_words, embedding_size) #weights initiallized from std normal dist, randomly\n",
        "        # if(pretrained == True):\n",
        "        #     self.wordembed.weight = nn.Parameter(pretrained_embed) #pretrained embeds have size (total_words, embedding_size)\n",
        "\n",
        "        self.wordembed = nn.Embedding.from_pretrained(pretrained_embed, freeze = True)\n",
        "        # self.for_charembed = forwardLSTM()\n",
        "        # self.back_charembed = bachwardLSTM()\n",
        "\n",
        "        self.bilstm = nn.LSTM(embedding_size,hidden_size, dropout = 0.5, bidirectional = True, batch_first = True)\n",
        "        self.linear = nn.Linear(2*hidden_size, num_class) # 2 because forward and backward concatenate\n",
        "\n",
        "    def forward(self, x, xlengths): #add xchar\n",
        "        word_embedding = self.wordembed(x) # x is of size(batchsize, seq_len), out is of size (batchsize, seq_len, embedding_size = 100)\n",
        "        # forwardchar= self.for_charembed(xchar) #forwardchar and backwardchar would be of size (batchsize, seqlen. embedding_size = 25each) \n",
        "        # backwardchar = self.back_charembed(xchar)\n",
        "        # word_embedding = torch.cat((word_embedding, forwardchar, backwardchar), dim = 2)\n",
        "\n",
        "        # out = pack_padded_sequence(word_embedding, xlengths.cpu(), batch_first=True, enforce_sorted=False)\n",
        "        \n",
        "        out, (h,c) = self.bilstm(word_embedding) #'out' has dimension(batchsize, seq_len, 2*hidden_size)\n",
        "        \n",
        "        # out, out_lengths = pad_packed_sequence(out, batch_first=True)\n",
        "\n",
        "        out = self.linear(out) #now 'out' has dimension(batchsize, seq_len, num_class)\n",
        "        out = out.view(-1, out.shape[2]) # shape (128*seqlen, 18)\n",
        "        out = F.log_softmax(out, dim=1) # take the softmax across the dimension num_class, 'out' has dimension(batchsize, seq_len, num_class)\n",
        "        return out\n",
        "        \n",
        "        "
      ],
      "execution_count": 34,
      "outputs": []
    },
    {
      "cell_type": "code",
      "metadata": {
        "id": "d6byqGo9vypd",
        "colab": {
          "base_uri": "https://localhost:8080/"
        },
        "outputId": "8685870e-2985-4ff2-88d0-ad9b456d4bce"
      },
      "source": [
        "model = BiLSTM(embedding_size = 100, hidden_size = 100, total_words = len(vocab), num_class = 18, pretrained = True, pretrained_embed = word_embeds).to(device)\n",
        "optimizer = torch.optim.SGD(model.parameters(), lr = 0.01, momentum = 0.9)\n",
        "scheduler = torch.optim.lr_scheduler.ReduceLROnPlateau(optimizer, 'min', patience=3) \n",
        "lossfunction = nn.CrossEntropyLoss(weight = weight)\n",
        "\n",
        "# print(model)\n",
        "def accuracy(y, ypred, nertags):\n",
        "    y = y.numpy()\n",
        "    ypred = ypred.numpy()\n",
        "    mask = (y != nertags['padtag']) * (y != nertags['O'])\n",
        "    # print(mask.sum())\n",
        "    # print(mask)\n",
        "    y = y*mask\n",
        "    ypred = ypred*mask\n",
        "    acc = ((y==ypred)*mask).sum()/mask.sum()\n",
        "    return acc\n",
        "\n",
        "# def lossfunction(ypred, yactual):\n",
        "#     mask_padded = (yactual!=nertags['padtag']).float()\n",
        "#     logprobs = ypred[:, yactual]\n",
        "#     logprobs = logprobs*mask_padded\n",
        "#     num = (yactual!=nertags['padtag']).sum().item()\n",
        "#     return -torch.sum(logprobs)/num\n",
        "\n",
        "def validate(model, loader):\n",
        "    with torch.no_grad():\n",
        "        validloss = 0\n",
        "        acc = 0\n",
        "        i = 0\n",
        "        for step, (X, Y, xlen) in enumerate(loader):\n",
        "            ypred = model(X.long().to(device), xlen.to(device))#.permute(0, 2, 1)\n",
        "            vloss = lossfunction(ypred.to('cpu'), Y.view(-1).type(torch.LongTensor))\n",
        "            validloss+=vloss\n",
        "            acc_ = accuracy(Y.view(-1), torch.argmax(ypred.to('cpu'), dim = 1), nertags)\n",
        "            acc+=acc_\n",
        "            i+=1\n",
        "\n",
        "    return validloss/i, acc/i"
      ],
      "execution_count": 35,
      "outputs": [
        {
          "output_type": "stream",
          "text": [
            "/usr/local/lib/python3.7/dist-packages/torch/nn/modules/rnn.py:63: UserWarning: dropout option adds dropout after all but last recurrent layer, so non-zero dropout expects num_layers greater than 1, but got dropout=0.5 and num_layers=1\n",
            "  \"num_layers={}\".format(dropout, num_layers))\n"
          ],
          "name": "stderr"
        }
      ]
    },
    {
      "cell_type": "code",
      "metadata": {
        "id": "seMNHki0D0V2"
      },
      "source": [
        "# optimizer = torch.optim.SGD(model.parameters(), lr = 0.001) \n",
        "trainloss = []\n",
        "validloss = []\n",
        "acclist = [] #accuracy except pad, O\n",
        "valacclist = []"
      ],
      "execution_count": 36,
      "outputs": []
    },
    {
      "cell_type": "code",
      "metadata": {
        "id": "I_us_70hYvzq"
      },
      "source": [
        "# optimizer = torch.optim.SGD(model.parameters(), lr = 0.001, momentum = 0.9) "
      ],
      "execution_count": 37,
      "outputs": []
    },
    {
      "cell_type": "code",
      "metadata": {
        "colab": {
          "base_uri": "https://localhost:8080/",
          "height": 1000
        },
        "id": "QgudoA7Mvypd",
        "outputId": "94719a7c-998e-4af5-c368-420352aca8a7"
      },
      "source": [
        "# Model is ready now we have to train using cross entropy loss\n",
        "num_epochs = 100\n",
        "# validloss = []\n",
        "model.train()\n",
        "for epoch in range(num_epochs):\n",
        "    if(epoch == 10):\n",
        "      model.wordembed.weight.requires_grad = True\n",
        "    for step, (Xbatch ,Ybatch, xbatch_len) in enumerate(Trainloader):\n",
        "        #make gradients 0\n",
        "        optimizer.zero_grad()\n",
        "        # print(Xbatch.shape)\n",
        "        \n",
        "        #get output from model and claculate loss\n",
        "        ypred = model(Xbatch.long().to(device), xbatch_len.to(device))#.permute(0, 2, 1)\n",
        "        if(step%1000 == 0):\n",
        "            # print(ypred.shape, Ybatch.shape)\n",
        "            acc = accuracy(Ybatch.view(-1), torch.argmax(ypred.to('cpu'), dim = 1), nertags)\n",
        "            print(\"train_accuracy = {}\".format(acc))\n",
        "            acclist.append(acc)\n",
        "        \n",
        "        loss = lossfunction(ypred.to('cpu'), Ybatch.view(-1).type(torch.LongTensor)) #Ybatch has dimension (batchsize, seqlen), ypred has dimension(batchsize, num_classes, seqlen)\n",
        "        \n",
        "        #backward and step\n",
        "        loss.backward()\n",
        "        nn.utils.clip_grad_norm_(model.parameters(), 5) # clip gradient to 5\n",
        "        optimizer.step()\n",
        "    \n",
        "    trainloss.append(loss)\n",
        "    # model validation loss and scheduler step for learning rate change if required\n",
        "    val_loss, val_acc = validate(model, Devloader)\n",
        "    validloss.append(val_loss)\n",
        "    valacclist.append(val_acc)\n",
        "    scheduler.step(val_loss)\n",
        "    print('\\nepoch = {}, training_loss = {}, validation_loss = {}'.format(epoch, trainloss[-1], validloss[-1]))        \n",
        "        \n",
        "        \n",
        "        "
      ],
      "execution_count": 38,
      "outputs": [
        {
          "output_type": "stream",
          "text": [
            "train_accuracy = 0.06041666666666667\n",
            "\n",
            "epoch = 0, training_loss = 2.308867931365967, validation_loss = 2.668794631958008\n",
            "train_accuracy = 0.035175879396984924\n",
            "\n",
            "epoch = 1, training_loss = 2.423954725265503, validation_loss = 2.559037208557129\n",
            "train_accuracy = 0.21621621621621623\n",
            "\n",
            "epoch = 2, training_loss = 2.067495346069336, validation_loss = 2.359720230102539\n",
            "train_accuracy = 0.2887323943661972\n",
            "\n",
            "epoch = 3, training_loss = 1.7472771406173706, validation_loss = 2.1489193439483643\n",
            "train_accuracy = 0.32666666666666666\n",
            "\n",
            "epoch = 4, training_loss = 2.2055411338806152, validation_loss = 1.9882744550704956\n",
            "train_accuracy = 0.32532751091703055\n",
            "\n",
            "epoch = 5, training_loss = 2.2209126949310303, validation_loss = 1.8250197172164917\n",
            "train_accuracy = 0.476303317535545\n",
            "\n",
            "epoch = 6, training_loss = 1.7100239992141724, validation_loss = 1.792264461517334\n",
            "train_accuracy = 0.4375\n",
            "\n",
            "epoch = 7, training_loss = 1.2740272283554077, validation_loss = 1.7750599384307861\n",
            "train_accuracy = 0.4402035623409669\n",
            "\n",
            "epoch = 8, training_loss = 1.5069812536239624, validation_loss = 1.6423537731170654\n",
            "train_accuracy = 0.4543147208121827\n",
            "\n",
            "epoch = 9, training_loss = 1.4910696744918823, validation_loss = 1.648322343826294\n",
            "train_accuracy = 0.4906976744186046\n",
            "\n",
            "epoch = 10, training_loss = 1.2412750720977783, validation_loss = 1.5228681564331055\n",
            "train_accuracy = 0.5933333333333334\n",
            "\n",
            "epoch = 11, training_loss = 1.3835883140563965, validation_loss = 1.5444376468658447\n",
            "train_accuracy = 0.5207823960880196\n",
            "\n",
            "epoch = 12, training_loss = 0.6749282479286194, validation_loss = 1.465712547302246\n",
            "train_accuracy = 0.6264501160092807\n",
            "\n",
            "epoch = 13, training_loss = 1.2968666553497314, validation_loss = 1.3867778778076172\n",
            "train_accuracy = 0.5902061855670103\n",
            "\n",
            "epoch = 14, training_loss = 0.7069580554962158, validation_loss = 1.4537713527679443\n",
            "train_accuracy = 0.65311004784689\n",
            "\n",
            "epoch = 15, training_loss = 0.9162284135818481, validation_loss = 1.3904420137405396\n",
            "train_accuracy = 0.6629711751662971\n",
            "\n",
            "epoch = 16, training_loss = 1.0976436138153076, validation_loss = 1.3609745502471924\n",
            "train_accuracy = 0.675990675990676\n",
            "\n",
            "epoch = 17, training_loss = 0.39672762155532837, validation_loss = 1.3886557817459106\n",
            "train_accuracy = 0.6272321428571429\n",
            "\n",
            "epoch = 18, training_loss = 0.7792049050331116, validation_loss = 1.4229073524475098\n",
            "train_accuracy = 0.6895734597156398\n",
            "\n",
            "epoch = 19, training_loss = 0.6340596675872803, validation_loss = 1.4319669008255005\n",
            "train_accuracy = 0.7173396674584323\n",
            "\n",
            "epoch = 20, training_loss = 0.9477140307426453, validation_loss = 1.4185246229171753\n",
            "train_accuracy = 0.667447306791569\n",
            "\n",
            "epoch = 21, training_loss = 0.4834616482257843, validation_loss = 1.490317940711975\n",
            "train_accuracy = 0.69\n",
            "\n",
            "epoch = 22, training_loss = 0.897561252117157, validation_loss = 1.4691898822784424\n",
            "train_accuracy = 0.7375745526838966\n",
            "\n",
            "epoch = 23, training_loss = 0.5795189142227173, validation_loss = 1.4893025159835815\n",
            "train_accuracy = 0.7095115681233933\n",
            "\n",
            "epoch = 24, training_loss = 0.6398452520370483, validation_loss = 1.471503496170044\n",
            "train_accuracy = 0.7317073170731707\n",
            "\n",
            "epoch = 25, training_loss = 0.5580419898033142, validation_loss = 1.4801005125045776\n",
            "train_accuracy = 0.7156398104265402\n",
            "\n",
            "epoch = 26, training_loss = 0.8501853346824646, validation_loss = 1.4841159582138062\n",
            "train_accuracy = 0.6983758700696056\n",
            "\n",
            "epoch = 27, training_loss = 0.6811911463737488, validation_loss = 1.4805599451065063\n",
            "train_accuracy = 0.708433734939759\n",
            "\n",
            "epoch = 28, training_loss = 0.6483800411224365, validation_loss = 1.4830840826034546\n",
            "train_accuracy = 0.7225950782997763\n",
            "\n",
            "epoch = 29, training_loss = 0.6613478660583496, validation_loss = 1.4835190773010254\n",
            "train_accuracy = 0.7517401392111369\n",
            "\n",
            "epoch = 30, training_loss = 0.5449872016906738, validation_loss = 1.4835647344589233\n",
            "train_accuracy = 0.7251184834123223\n",
            "\n",
            "epoch = 31, training_loss = 0.6233829259872437, validation_loss = 1.48379385471344\n",
            "train_accuracy = 0.7404063205417607\n",
            "\n",
            "epoch = 32, training_loss = 0.6158465147018433, validation_loss = 1.4838132858276367\n",
            "train_accuracy = 0.7410714285714286\n",
            "\n",
            "epoch = 33, training_loss = 0.837474524974823, validation_loss = 1.4838504791259766\n",
            "train_accuracy = 0.7268817204301076\n",
            "\n",
            "epoch = 34, training_loss = 0.484835684299469, validation_loss = 1.4838773012161255\n",
            "train_accuracy = 0.7560386473429952\n",
            "\n",
            "epoch = 35, training_loss = 0.6919645071029663, validation_loss = 1.4838932752609253\n",
            "train_accuracy = 0.740909090909091\n",
            "\n",
            "epoch = 36, training_loss = 0.25745365023612976, validation_loss = 1.4839168787002563\n",
            "train_accuracy = 0.7132701421800948\n",
            "\n",
            "epoch = 37, training_loss = 0.35991841554641724, validation_loss = 1.4839166402816772\n",
            "train_accuracy = 0.6567901234567901\n",
            "\n",
            "epoch = 38, training_loss = 0.47649285197257996, validation_loss = 1.4839164018630981\n",
            "train_accuracy = 0.7085714285714285\n",
            "\n",
            "epoch = 39, training_loss = 0.5982781648635864, validation_loss = 1.4839162826538086\n",
            "train_accuracy = 0.7313432835820896\n",
            "\n",
            "epoch = 40, training_loss = 0.48418739438056946, validation_loss = 1.483917236328125\n",
            "train_accuracy = 0.709051724137931\n"
          ],
          "name": "stdout"
        },
        {
          "output_type": "error",
          "ename": "KeyboardInterrupt",
          "evalue": "ignored",
          "traceback": [
            "\u001b[0;31m---------------------------------------------------------------------------\u001b[0m",
            "\u001b[0;31mKeyboardInterrupt\u001b[0m                         Traceback (most recent call last)",
            "\u001b[0;32m<ipython-input-38-9cd8cf78fac9>\u001b[0m in \u001b[0;36m<module>\u001b[0;34m()\u001b[0m\n\u001b[1;32m      6\u001b[0m     \u001b[0;32mif\u001b[0m\u001b[0;34m(\u001b[0m\u001b[0mepoch\u001b[0m \u001b[0;34m==\u001b[0m \u001b[0;36m10\u001b[0m\u001b[0;34m)\u001b[0m\u001b[0;34m:\u001b[0m\u001b[0;34m\u001b[0m\u001b[0;34m\u001b[0m\u001b[0m\n\u001b[1;32m      7\u001b[0m       \u001b[0mmodel\u001b[0m\u001b[0;34m.\u001b[0m\u001b[0mwordembed\u001b[0m\u001b[0;34m.\u001b[0m\u001b[0mweight\u001b[0m\u001b[0;34m.\u001b[0m\u001b[0mrequires_grad\u001b[0m \u001b[0;34m=\u001b[0m \u001b[0;32mTrue\u001b[0m\u001b[0;34m\u001b[0m\u001b[0;34m\u001b[0m\u001b[0m\n\u001b[0;32m----> 8\u001b[0;31m     \u001b[0;32mfor\u001b[0m \u001b[0mstep\u001b[0m\u001b[0;34m,\u001b[0m \u001b[0;34m(\u001b[0m\u001b[0mXbatch\u001b[0m \u001b[0;34m,\u001b[0m\u001b[0mYbatch\u001b[0m\u001b[0;34m,\u001b[0m \u001b[0mxbatch_len\u001b[0m\u001b[0;34m)\u001b[0m \u001b[0;32min\u001b[0m \u001b[0menumerate\u001b[0m\u001b[0;34m(\u001b[0m\u001b[0mTrainloader\u001b[0m\u001b[0;34m)\u001b[0m\u001b[0;34m:\u001b[0m\u001b[0;34m\u001b[0m\u001b[0;34m\u001b[0m\u001b[0m\n\u001b[0m\u001b[1;32m      9\u001b[0m         \u001b[0;31m#make gradients 0\u001b[0m\u001b[0;34m\u001b[0m\u001b[0;34m\u001b[0m\u001b[0;34m\u001b[0m\u001b[0m\n\u001b[1;32m     10\u001b[0m         \u001b[0moptimizer\u001b[0m\u001b[0;34m.\u001b[0m\u001b[0mzero_grad\u001b[0m\u001b[0;34m(\u001b[0m\u001b[0;34m)\u001b[0m\u001b[0;34m\u001b[0m\u001b[0;34m\u001b[0m\u001b[0m\n",
            "\u001b[0;32m/usr/local/lib/python3.7/dist-packages/torch/utils/data/dataloader.py\u001b[0m in \u001b[0;36m__next__\u001b[0;34m(self)\u001b[0m\n\u001b[1;32m    515\u001b[0m             \u001b[0;32mif\u001b[0m \u001b[0mself\u001b[0m\u001b[0;34m.\u001b[0m\u001b[0m_sampler_iter\u001b[0m \u001b[0;32mis\u001b[0m \u001b[0;32mNone\u001b[0m\u001b[0;34m:\u001b[0m\u001b[0;34m\u001b[0m\u001b[0;34m\u001b[0m\u001b[0m\n\u001b[1;32m    516\u001b[0m                 \u001b[0mself\u001b[0m\u001b[0;34m.\u001b[0m\u001b[0m_reset\u001b[0m\u001b[0;34m(\u001b[0m\u001b[0;34m)\u001b[0m\u001b[0;34m\u001b[0m\u001b[0;34m\u001b[0m\u001b[0m\n\u001b[0;32m--> 517\u001b[0;31m             \u001b[0mdata\u001b[0m \u001b[0;34m=\u001b[0m \u001b[0mself\u001b[0m\u001b[0;34m.\u001b[0m\u001b[0m_next_data\u001b[0m\u001b[0;34m(\u001b[0m\u001b[0;34m)\u001b[0m\u001b[0;34m\u001b[0m\u001b[0;34m\u001b[0m\u001b[0m\n\u001b[0m\u001b[1;32m    518\u001b[0m             \u001b[0mself\u001b[0m\u001b[0;34m.\u001b[0m\u001b[0m_num_yielded\u001b[0m \u001b[0;34m+=\u001b[0m \u001b[0;36m1\u001b[0m\u001b[0;34m\u001b[0m\u001b[0;34m\u001b[0m\u001b[0m\n\u001b[1;32m    519\u001b[0m             \u001b[0;32mif\u001b[0m \u001b[0mself\u001b[0m\u001b[0;34m.\u001b[0m\u001b[0m_dataset_kind\u001b[0m \u001b[0;34m==\u001b[0m \u001b[0m_DatasetKind\u001b[0m\u001b[0;34m.\u001b[0m\u001b[0mIterable\u001b[0m \u001b[0;32mand\u001b[0m\u001b[0;31m \u001b[0m\u001b[0;31m\\\u001b[0m\u001b[0;34m\u001b[0m\u001b[0;34m\u001b[0m\u001b[0m\n",
            "\u001b[0;32m/usr/local/lib/python3.7/dist-packages/torch/utils/data/dataloader.py\u001b[0m in \u001b[0;36m_next_data\u001b[0;34m(self)\u001b[0m\n\u001b[1;32m    555\u001b[0m     \u001b[0;32mdef\u001b[0m \u001b[0m_next_data\u001b[0m\u001b[0;34m(\u001b[0m\u001b[0mself\u001b[0m\u001b[0;34m)\u001b[0m\u001b[0;34m:\u001b[0m\u001b[0;34m\u001b[0m\u001b[0;34m\u001b[0m\u001b[0m\n\u001b[1;32m    556\u001b[0m         \u001b[0mindex\u001b[0m \u001b[0;34m=\u001b[0m \u001b[0mself\u001b[0m\u001b[0;34m.\u001b[0m\u001b[0m_next_index\u001b[0m\u001b[0;34m(\u001b[0m\u001b[0;34m)\u001b[0m  \u001b[0;31m# may raise StopIteration\u001b[0m\u001b[0;34m\u001b[0m\u001b[0;34m\u001b[0m\u001b[0m\n\u001b[0;32m--> 557\u001b[0;31m         \u001b[0mdata\u001b[0m \u001b[0;34m=\u001b[0m \u001b[0mself\u001b[0m\u001b[0;34m.\u001b[0m\u001b[0m_dataset_fetcher\u001b[0m\u001b[0;34m.\u001b[0m\u001b[0mfetch\u001b[0m\u001b[0;34m(\u001b[0m\u001b[0mindex\u001b[0m\u001b[0;34m)\u001b[0m  \u001b[0;31m# may raise StopIteration\u001b[0m\u001b[0;34m\u001b[0m\u001b[0;34m\u001b[0m\u001b[0m\n\u001b[0m\u001b[1;32m    558\u001b[0m         \u001b[0;32mif\u001b[0m \u001b[0mself\u001b[0m\u001b[0;34m.\u001b[0m\u001b[0m_pin_memory\u001b[0m\u001b[0;34m:\u001b[0m\u001b[0;34m\u001b[0m\u001b[0;34m\u001b[0m\u001b[0m\n\u001b[1;32m    559\u001b[0m             \u001b[0mdata\u001b[0m \u001b[0;34m=\u001b[0m \u001b[0m_utils\u001b[0m\u001b[0;34m.\u001b[0m\u001b[0mpin_memory\u001b[0m\u001b[0;34m.\u001b[0m\u001b[0mpin_memory\u001b[0m\u001b[0;34m(\u001b[0m\u001b[0mdata\u001b[0m\u001b[0;34m)\u001b[0m\u001b[0;34m\u001b[0m\u001b[0;34m\u001b[0m\u001b[0m\n",
            "\u001b[0;32m/usr/local/lib/python3.7/dist-packages/torch/utils/data/_utils/fetch.py\u001b[0m in \u001b[0;36mfetch\u001b[0;34m(self, possibly_batched_index)\u001b[0m\n\u001b[1;32m     45\u001b[0m         \u001b[0;32melse\u001b[0m\u001b[0;34m:\u001b[0m\u001b[0;34m\u001b[0m\u001b[0;34m\u001b[0m\u001b[0m\n\u001b[1;32m     46\u001b[0m             \u001b[0mdata\u001b[0m \u001b[0;34m=\u001b[0m \u001b[0mself\u001b[0m\u001b[0;34m.\u001b[0m\u001b[0mdataset\u001b[0m\u001b[0;34m[\u001b[0m\u001b[0mpossibly_batched_index\u001b[0m\u001b[0;34m]\u001b[0m\u001b[0;34m\u001b[0m\u001b[0;34m\u001b[0m\u001b[0m\n\u001b[0;32m---> 47\u001b[0;31m         \u001b[0;32mreturn\u001b[0m \u001b[0mself\u001b[0m\u001b[0;34m.\u001b[0m\u001b[0mcollate_fn\u001b[0m\u001b[0;34m(\u001b[0m\u001b[0mdata\u001b[0m\u001b[0;34m)\u001b[0m\u001b[0;34m\u001b[0m\u001b[0;34m\u001b[0m\u001b[0m\n\u001b[0m",
            "\u001b[0;32m/usr/local/lib/python3.7/dist-packages/torch/utils/data/_utils/collate.py\u001b[0m in \u001b[0;36mdefault_collate\u001b[0;34m(batch)\u001b[0m\n\u001b[1;32m     81\u001b[0m             \u001b[0;32mraise\u001b[0m \u001b[0mRuntimeError\u001b[0m\u001b[0;34m(\u001b[0m\u001b[0;34m'each element in list of batch should be of equal size'\u001b[0m\u001b[0;34m)\u001b[0m\u001b[0;34m\u001b[0m\u001b[0;34m\u001b[0m\u001b[0m\n\u001b[1;32m     82\u001b[0m         \u001b[0mtransposed\u001b[0m \u001b[0;34m=\u001b[0m \u001b[0mzip\u001b[0m\u001b[0;34m(\u001b[0m\u001b[0;34m*\u001b[0m\u001b[0mbatch\u001b[0m\u001b[0;34m)\u001b[0m\u001b[0;34m\u001b[0m\u001b[0;34m\u001b[0m\u001b[0m\n\u001b[0;32m---> 83\u001b[0;31m         \u001b[0;32mreturn\u001b[0m \u001b[0;34m[\u001b[0m\u001b[0mdefault_collate\u001b[0m\u001b[0;34m(\u001b[0m\u001b[0msamples\u001b[0m\u001b[0;34m)\u001b[0m \u001b[0;32mfor\u001b[0m \u001b[0msamples\u001b[0m \u001b[0;32min\u001b[0m \u001b[0mtransposed\u001b[0m\u001b[0;34m]\u001b[0m\u001b[0;34m\u001b[0m\u001b[0;34m\u001b[0m\u001b[0m\n\u001b[0m\u001b[1;32m     84\u001b[0m \u001b[0;34m\u001b[0m\u001b[0m\n\u001b[1;32m     85\u001b[0m     \u001b[0;32mraise\u001b[0m \u001b[0mTypeError\u001b[0m\u001b[0;34m(\u001b[0m\u001b[0mdefault_collate_err_msg_format\u001b[0m\u001b[0;34m.\u001b[0m\u001b[0mformat\u001b[0m\u001b[0;34m(\u001b[0m\u001b[0melem_type\u001b[0m\u001b[0;34m)\u001b[0m\u001b[0;34m)\u001b[0m\u001b[0;34m\u001b[0m\u001b[0;34m\u001b[0m\u001b[0m\n",
            "\u001b[0;32m/usr/local/lib/python3.7/dist-packages/torch/utils/data/_utils/collate.py\u001b[0m in \u001b[0;36m<listcomp>\u001b[0;34m(.0)\u001b[0m\n\u001b[1;32m     81\u001b[0m             \u001b[0;32mraise\u001b[0m \u001b[0mRuntimeError\u001b[0m\u001b[0;34m(\u001b[0m\u001b[0;34m'each element in list of batch should be of equal size'\u001b[0m\u001b[0;34m)\u001b[0m\u001b[0;34m\u001b[0m\u001b[0;34m\u001b[0m\u001b[0m\n\u001b[1;32m     82\u001b[0m         \u001b[0mtransposed\u001b[0m \u001b[0;34m=\u001b[0m \u001b[0mzip\u001b[0m\u001b[0;34m(\u001b[0m\u001b[0;34m*\u001b[0m\u001b[0mbatch\u001b[0m\u001b[0;34m)\u001b[0m\u001b[0;34m\u001b[0m\u001b[0;34m\u001b[0m\u001b[0m\n\u001b[0;32m---> 83\u001b[0;31m         \u001b[0;32mreturn\u001b[0m \u001b[0;34m[\u001b[0m\u001b[0mdefault_collate\u001b[0m\u001b[0;34m(\u001b[0m\u001b[0msamples\u001b[0m\u001b[0;34m)\u001b[0m \u001b[0;32mfor\u001b[0m \u001b[0msamples\u001b[0m \u001b[0;32min\u001b[0m \u001b[0mtransposed\u001b[0m\u001b[0;34m]\u001b[0m\u001b[0;34m\u001b[0m\u001b[0;34m\u001b[0m\u001b[0m\n\u001b[0m\u001b[1;32m     84\u001b[0m \u001b[0;34m\u001b[0m\u001b[0m\n\u001b[1;32m     85\u001b[0m     \u001b[0;32mraise\u001b[0m \u001b[0mTypeError\u001b[0m\u001b[0;34m(\u001b[0m\u001b[0mdefault_collate_err_msg_format\u001b[0m\u001b[0;34m.\u001b[0m\u001b[0mformat\u001b[0m\u001b[0;34m(\u001b[0m\u001b[0melem_type\u001b[0m\u001b[0;34m)\u001b[0m\u001b[0;34m)\u001b[0m\u001b[0;34m\u001b[0m\u001b[0;34m\u001b[0m\u001b[0m\n",
            "\u001b[0;32m/usr/local/lib/python3.7/dist-packages/torch/utils/data/_utils/collate.py\u001b[0m in \u001b[0;36mdefault_collate\u001b[0;34m(batch)\u001b[0m\n\u001b[1;32m     53\u001b[0m             \u001b[0mstorage\u001b[0m \u001b[0;34m=\u001b[0m \u001b[0melem\u001b[0m\u001b[0;34m.\u001b[0m\u001b[0mstorage\u001b[0m\u001b[0;34m(\u001b[0m\u001b[0;34m)\u001b[0m\u001b[0;34m.\u001b[0m\u001b[0m_new_shared\u001b[0m\u001b[0;34m(\u001b[0m\u001b[0mnumel\u001b[0m\u001b[0;34m)\u001b[0m\u001b[0;34m\u001b[0m\u001b[0;34m\u001b[0m\u001b[0m\n\u001b[1;32m     54\u001b[0m             \u001b[0mout\u001b[0m \u001b[0;34m=\u001b[0m \u001b[0melem\u001b[0m\u001b[0;34m.\u001b[0m\u001b[0mnew\u001b[0m\u001b[0;34m(\u001b[0m\u001b[0mstorage\u001b[0m\u001b[0;34m)\u001b[0m\u001b[0;34m\u001b[0m\u001b[0;34m\u001b[0m\u001b[0m\n\u001b[0;32m---> 55\u001b[0;31m         \u001b[0;32mreturn\u001b[0m \u001b[0mtorch\u001b[0m\u001b[0;34m.\u001b[0m\u001b[0mstack\u001b[0m\u001b[0;34m(\u001b[0m\u001b[0mbatch\u001b[0m\u001b[0;34m,\u001b[0m \u001b[0;36m0\u001b[0m\u001b[0;34m,\u001b[0m \u001b[0mout\u001b[0m\u001b[0;34m=\u001b[0m\u001b[0mout\u001b[0m\u001b[0;34m)\u001b[0m\u001b[0;34m\u001b[0m\u001b[0;34m\u001b[0m\u001b[0m\n\u001b[0m\u001b[1;32m     56\u001b[0m     \u001b[0;32melif\u001b[0m \u001b[0melem_type\u001b[0m\u001b[0;34m.\u001b[0m\u001b[0m__module__\u001b[0m \u001b[0;34m==\u001b[0m \u001b[0;34m'numpy'\u001b[0m \u001b[0;32mand\u001b[0m \u001b[0melem_type\u001b[0m\u001b[0;34m.\u001b[0m\u001b[0m__name__\u001b[0m \u001b[0;34m!=\u001b[0m \u001b[0;34m'str_'\u001b[0m\u001b[0;31m \u001b[0m\u001b[0;31m\\\u001b[0m\u001b[0;34m\u001b[0m\u001b[0;34m\u001b[0m\u001b[0m\n\u001b[1;32m     57\u001b[0m             \u001b[0;32mand\u001b[0m \u001b[0melem_type\u001b[0m\u001b[0;34m.\u001b[0m\u001b[0m__name__\u001b[0m \u001b[0;34m!=\u001b[0m \u001b[0;34m'string_'\u001b[0m\u001b[0;34m:\u001b[0m\u001b[0;34m\u001b[0m\u001b[0;34m\u001b[0m\u001b[0m\n",
            "\u001b[0;31mKeyboardInterrupt\u001b[0m: "
          ]
        }
      ]
    },
    {
      "cell_type": "code",
      "metadata": {
        "id": "XTjqszDbvype",
        "colab": {
          "base_uri": "https://localhost:8080/"
        },
        "outputId": "abadce1d-1aac-4bb2-c670-acece050e21d"
      },
      "source": [
        "print(trainloss)\n",
        "print(acclist)"
      ],
      "execution_count": 39,
      "outputs": [
        {
          "output_type": "stream",
          "text": [
            "[tensor(2.3089, grad_fn=<NllLossBackward>), tensor(2.4240, grad_fn=<NllLossBackward>), tensor(2.0675, grad_fn=<NllLossBackward>), tensor(1.7473, grad_fn=<NllLossBackward>), tensor(2.2055, grad_fn=<NllLossBackward>), tensor(2.2209, grad_fn=<NllLossBackward>), tensor(1.7100, grad_fn=<NllLossBackward>), tensor(1.2740, grad_fn=<NllLossBackward>), tensor(1.5070, grad_fn=<NllLossBackward>), tensor(1.4911, grad_fn=<NllLossBackward>), tensor(1.2413, grad_fn=<NllLossBackward>), tensor(1.3836, grad_fn=<NllLossBackward>), tensor(0.6749, grad_fn=<NllLossBackward>), tensor(1.2969, grad_fn=<NllLossBackward>), tensor(0.7070, grad_fn=<NllLossBackward>), tensor(0.9162, grad_fn=<NllLossBackward>), tensor(1.0976, grad_fn=<NllLossBackward>), tensor(0.3967, grad_fn=<NllLossBackward>), tensor(0.7792, grad_fn=<NllLossBackward>), tensor(0.6341, grad_fn=<NllLossBackward>), tensor(0.9477, grad_fn=<NllLossBackward>), tensor(0.4835, grad_fn=<NllLossBackward>), tensor(0.8976, grad_fn=<NllLossBackward>), tensor(0.5795, grad_fn=<NllLossBackward>), tensor(0.6398, grad_fn=<NllLossBackward>), tensor(0.5580, grad_fn=<NllLossBackward>), tensor(0.8502, grad_fn=<NllLossBackward>), tensor(0.6812, grad_fn=<NllLossBackward>), tensor(0.6484, grad_fn=<NllLossBackward>), tensor(0.6613, grad_fn=<NllLossBackward>), tensor(0.5450, grad_fn=<NllLossBackward>), tensor(0.6234, grad_fn=<NllLossBackward>), tensor(0.6158, grad_fn=<NllLossBackward>), tensor(0.8375, grad_fn=<NllLossBackward>), tensor(0.4848, grad_fn=<NllLossBackward>), tensor(0.6920, grad_fn=<NllLossBackward>), tensor(0.2575, grad_fn=<NllLossBackward>), tensor(0.3599, grad_fn=<NllLossBackward>), tensor(0.4765, grad_fn=<NllLossBackward>), tensor(0.5983, grad_fn=<NllLossBackward>), tensor(0.4842, grad_fn=<NllLossBackward>)]\n",
            "[0.06041666666666667, 0.035175879396984924, 0.21621621621621623, 0.2887323943661972, 0.32666666666666666, 0.32532751091703055, 0.476303317535545, 0.4375, 0.4402035623409669, 0.4543147208121827, 0.4906976744186046, 0.5933333333333334, 0.5207823960880196, 0.6264501160092807, 0.5902061855670103, 0.65311004784689, 0.6629711751662971, 0.675990675990676, 0.6272321428571429, 0.6895734597156398, 0.7173396674584323, 0.667447306791569, 0.69, 0.7375745526838966, 0.7095115681233933, 0.7317073170731707, 0.7156398104265402, 0.6983758700696056, 0.708433734939759, 0.7225950782997763, 0.7517401392111369, 0.7251184834123223, 0.7404063205417607, 0.7410714285714286, 0.7268817204301076, 0.7560386473429952, 0.740909090909091, 0.7132701421800948, 0.6567901234567901, 0.7085714285714285, 0.7313432835820896, 0.709051724137931]\n"
          ],
          "name": "stdout"
        }
      ]
    },
    {
      "cell_type": "code",
      "metadata": {
        "colab": {
          "base_uri": "https://localhost:8080/",
          "height": 265
        },
        "id": "KJ0IjhNavype",
        "outputId": "77c594c3-480a-4150-f2d2-c933e9601455"
      },
      "source": [
        "plt.plot(trainloss, label = \"trainloss\")\n",
        "plt.plot(validloss, label = \"validloss\")\n",
        "plt.legend()\n",
        "plt.show()"
      ],
      "execution_count": 40,
      "outputs": [
        {
          "output_type": "display_data",
          "data": {
            "image/png": "[encoded data removed]",
            "text/plain": [
              "<Figure size 432x288 with 1 Axes>"
            ]
          },
          "metadata": {
            "tags": [],
            "needs_background": "light"
          }
        }
      ]
    },
    {
      "cell_type": "code",
      "metadata": {
        "id": "3kuOxKLJ2jvT",
        "colab": {
          "base_uri": "https://localhost:8080/",
          "height": 265
        },
        "outputId": "a2b11630-5b37-470b-bffa-63e0746a84f2"
      },
      "source": [
        "plt.plot(acclist, label = 'train_accuracy(exclude \"0\", \"padtag\")')\n",
        "plt.plot(valacclist, label = 'val_accuracy')\n",
        "plt.legend()\n",
        "plt.show()"
      ],
      "execution_count": 41,
      "outputs": [
        {
          "output_type": "display_data",
          "data": {
            "image/png": "[encoded data removed]",
            "text/plain": [
              "<Figure size 432x288 with 1 Axes>"
            ]
          },
          "metadata": {
            "tags": [],
            "needs_background": "light"
          }
        }
      ]
    },
    {
      "cell_type": "code",
      "metadata": {
        "id": "giEz1miziBeN"
      },
      "source": [
        ""
      ],
      "execution_count": 41,
      "outputs": []
    }
  ]
}