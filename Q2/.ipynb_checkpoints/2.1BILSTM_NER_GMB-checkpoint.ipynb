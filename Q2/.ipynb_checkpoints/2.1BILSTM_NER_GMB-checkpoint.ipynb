{
 "cells": [
  {
   "cell_type": "code",
   "execution_count": 1,
   "metadata": {},
   "outputs": [],
   "source": [
    "import torch\n",
    "import torch.nn as nn\n",
    "import torch.nn.functional as F\n",
    "import pandas as pd\n",
    "import numpy as np\n",
    "import matplotlib.pyplot as plt"
   ]
  },
  {
   "cell_type": "code",
   "execution_count": 4,
   "metadata": {},
   "outputs": [
    {
     "data": {
      "text/plain": [
       "37207"
      ]
     },
     "execution_count": 4,
     "metadata": {},
     "output_type": "execute_result"
    }
   ],
   "source": [
    "df = pd.read_csv(\"../NER_Dataset/ner-gmb/train.txt\", sep = \" \", header = None, names = ['token', 'postag', 'word', 'nertag'], skip_blank_lines=False)\n",
    "df_list = np.split(df, df[df.isnull().all(1)].index) \n",
    "#add sentence number to each dataframe and then combine. Also for each dataframe remove the first row\n",
    "\n",
    "def remove_first_row(df):\n",
    "    '''removes the first row after the heading from the dataframe - used for removing NaN row'''\n",
    "    df.drop([0], inplace = True)\n",
    "    return df\n",
    "    \n",
    "def add_sentence_number(df, i):\n",
    "    '''adds a column to df in which all rows have value i'''\n",
    "    df['sentence'] = i\n",
    "    return df\n",
    "    \n",
    "\n",
    "new_dflist = []\n",
    "for i, df in enumerate(df_list[1:]):\n",
    "    df.reset_index(drop=True, inplace = True)\n",
    "    df = remove_first_row(df)\n",
    "    df = add_sentence_number(df, i)\n",
    "    new_dflist.append(df)\n",
    "len(new_dflist)"
   ]
  },
  {
   "cell_type": "code",
   "execution_count": 6,
   "metadata": {},
   "outputs": [],
   "source": [
    "def combine_dataframes(df_list):\n",
    "\n",
    "    return pd.concat(df_list)\n",
    "\n",
    "\n",
    "df = combine_dataframes(new_dflist)\n",
    "df.reset_index(drop=True, inplace = True)"
   ]
  },
  {
   "cell_type": "code",
   "execution_count": 7,
   "metadata": {},
   "outputs": [
    {
     "data": {
      "text/html": [
       "<div>\n",
       "<style scoped>\n",
       "    .dataframe tbody tr th:only-of-type {\n",
       "        vertical-align: middle;\n",
       "    }\n",
       "\n",
       "    .dataframe tbody tr th {\n",
       "        vertical-align: top;\n",
       "    }\n",
       "\n",
       "    .dataframe thead th {\n",
       "        text-align: right;\n",
       "    }\n",
       "</style>\n",
       "<table border=\"1\" class=\"dataframe\">\n",
       "  <thead>\n",
       "    <tr style=\"text-align: right;\">\n",
       "      <th></th>\n",
       "      <th>token</th>\n",
       "      <th>postag</th>\n",
       "      <th>word</th>\n",
       "      <th>nertag</th>\n",
       "      <th>sentence</th>\n",
       "    </tr>\n",
       "  </thead>\n",
       "  <tbody>\n",
       "    <tr>\n",
       "      <th>0</th>\n",
       "      <td>the</td>\n",
       "      <td>DT</td>\n",
       "      <td>The</td>\n",
       "      <td>O</td>\n",
       "      <td>0</td>\n",
       "    </tr>\n",
       "    <tr>\n",
       "      <th>1</th>\n",
       "      <td>anatolia</td>\n",
       "      <td>NNP</td>\n",
       "      <td>Anatolia</td>\n",
       "      <td>B-org</td>\n",
       "      <td>0</td>\n",
       "    </tr>\n",
       "    <tr>\n",
       "      <th>2</th>\n",
       "      <td>news</td>\n",
       "      <td>NN</td>\n",
       "      <td>news</td>\n",
       "      <td>O</td>\n",
       "      <td>0</td>\n",
       "    </tr>\n",
       "    <tr>\n",
       "      <th>3</th>\n",
       "      <td>agency</td>\n",
       "      <td>NN</td>\n",
       "      <td>agency</td>\n",
       "      <td>O</td>\n",
       "      <td>0</td>\n",
       "    </tr>\n",
       "    <tr>\n",
       "      <th>4</th>\n",
       "      <td>say</td>\n",
       "      <td>VBD</td>\n",
       "      <td>said</td>\n",
       "      <td>O</td>\n",
       "      <td>0</td>\n",
       "    </tr>\n",
       "    <tr>\n",
       "      <th>...</th>\n",
       "      <td>...</td>\n",
       "      <td>...</td>\n",
       "      <td>...</td>\n",
       "      <td>...</td>\n",
       "      <td>...</td>\n",
       "    </tr>\n",
       "    <tr>\n",
       "      <th>813586</th>\n",
       "      <td>still</td>\n",
       "      <td>RB</td>\n",
       "      <td>still</td>\n",
       "      <td>O</td>\n",
       "      <td>37205</td>\n",
       "    </tr>\n",
       "    <tr>\n",
       "      <th>813587</th>\n",
       "      <td>launch</td>\n",
       "      <td>VB</td>\n",
       "      <td>launch</td>\n",
       "      <td>O</td>\n",
       "      <td>37205</td>\n",
       "    </tr>\n",
       "    <tr>\n",
       "      <th>813588</th>\n",
       "      <td>occasional</td>\n",
       "      <td>JJ</td>\n",
       "      <td>occasional</td>\n",
       "      <td>O</td>\n",
       "      <td>37205</td>\n",
       "    </tr>\n",
       "    <tr>\n",
       "      <th>813589</th>\n",
       "      <td>attack</td>\n",
       "      <td>NNS</td>\n",
       "      <td>attacks</td>\n",
       "      <td>O</td>\n",
       "      <td>37205</td>\n",
       "    </tr>\n",
       "    <tr>\n",
       "      <th>813590</th>\n",
       "      <td>.</td>\n",
       "      <td>.</td>\n",
       "      <td>.</td>\n",
       "      <td>O</td>\n",
       "      <td>37205</td>\n",
       "    </tr>\n",
       "  </tbody>\n",
       "</table>\n",
       "<p>813591 rows × 5 columns</p>\n",
       "</div>"
      ],
      "text/plain": [
       "             token postag        word nertag  sentence\n",
       "0              the     DT         The      O         0\n",
       "1         anatolia    NNP    Anatolia  B-org         0\n",
       "2             news     NN        news      O         0\n",
       "3           agency     NN      agency      O         0\n",
       "4              say    VBD        said      O         0\n",
       "...            ...    ...         ...    ...       ...\n",
       "813586       still     RB       still      O     37205\n",
       "813587      launch     VB      launch      O     37205\n",
       "813588  occasional     JJ  occasional      O     37205\n",
       "813589      attack    NNS     attacks      O     37205\n",
       "813590           .      .           .      O     37205\n",
       "\n",
       "[813591 rows x 5 columns]"
      ]
     },
     "execution_count": 7,
     "metadata": {},
     "output_type": "execute_result"
    }
   ],
   "source": [
    "df"
   ]
  },
  {
   "cell_type": "code",
   "execution_count": 20,
   "metadata": {},
   "outputs": [
    {
     "name": "stdout",
     "output_type": "stream",
     "text": [
      "['the', 'anatolia', 'news', 'agency', 'say', 'saturday', 'that', 'officer', '-', 'two']\n",
      "24137 total words\n",
      "['O', 'B-org', 'B-tim', 'B-geo', 'B-gpe', 'B-per', 'I-per', 'I-org', nan, 'I-geo', 'I-tim', 'B-eve', 'I-eve', 'I-gpe', 'B-nat', 'I-nat', 'B-art', 'I-art']\n",
      "18 total tags\n"
     ]
    }
   ],
   "source": [
    "#making the vocabulary\n",
    "words = list(df.token.unique())\n",
    "print(words[:10])\n",
    "print(len(words), \"total words\")\n",
    "\n",
    "tags = list(df.nertag.unique())\n",
    "print(tags)\n",
    "print(len(tags), \"total tags\")"
   ]
  },
  {
   "cell_type": "code",
   "execution_count": null,
   "metadata": {},
   "outputs": [],
   "source": [
    "# mapping words and tags to indices\n",
    "wordnums = {word : i for i, w in enumerate(words)}\n",
    "tagnums = {tags : i for }"
   ]
  },
  {
   "cell_type": "markdown",
   "metadata": {},
   "source": [
    "# BiLSTM Model"
   ]
  },
  {
   "cell_type": "code",
   "execution_count": 5,
   "metadata": {},
   "outputs": [],
   "source": [
    "class BiLSTM(nn.Module):\n",
    "    def __init__(self, embedding_size, hidden_size, v, num_tags):\n",
    "        super(BiLSTM, self).__init__()\n",
    "\n",
    "        self.wordembed = nn.Embedding(v, embedding_size)\n",
    "        self.bilstm = nn.LSTM(embedding_size,hidden_size, biderectional = True)\n",
    "        self.linear = nn.Linear(hidden_size, num_tags)\n",
    "        \n",
    "    def forward(self, x):\n",
    "        out = self.wordembed(x) # x is of size(seq_len, batch, input_size)\n",
    "        out, (h,c) = self.bilstm(out) # after this step out has dimension(seq_len, batch, hidden_size)\n",
    "        out = out.view(-1, out.shape[2])\n",
    "        out = F.log_softmax(self.linear(out), dim = 1)\n",
    "        \n",
    "        return out\n",
    "        \n",
    "        "
   ]
  },
  {
   "cell_type": "code",
   "execution_count": null,
   "metadata": {},
   "outputs": [],
   "source": []
  }
 ],
 "metadata": {
  "kernelspec": {
   "display_name": "Python 3",
   "language": "python",
   "name": "python3"
  },
  "language_info": {
   "codemirror_mode": {
    "name": "ipython",
    "version": 3
   },
   "file_extension": ".py",
   "mimetype": "text/x-python",
   "name": "python",
   "nbconvert_exporter": "python",
   "pygments_lexer": "ipython3",
   "version": "3.8.5"
  }
 },
 "nbformat": 4,
 "nbformat_minor": 4
}
